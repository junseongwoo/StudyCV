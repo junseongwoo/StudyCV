{
 "metadata": {
  "language_info": {
   "codemirror_mode": {
    "name": "ipython",
    "version": 3
   },
   "file_extension": ".py",
   "mimetype": "text/x-python",
   "name": "python",
   "nbconvert_exporter": "python",
   "pygments_lexer": "ipython3",
   "version": "3.9.5"
  },
  "orig_nbformat": 4,
  "kernelspec": {
   "name": "python3",
   "display_name": "Python 3.9.5 64-bit ('venv': venv)"
  },
  "interpreter": {
   "hash": "7bb547a71273723496801ba8d5c67702ef0837f2b218b3f175a648afb4e114e5"
  }
 },
 "nbformat": 4,
 "nbformat_minor": 2,
 "cells": [
  {
   "source": [
    "### computer_vision_project.ipynb"
   ],
   "cell_type": "markdown",
   "metadata": {}
  },
  {
   "cell_type": "code",
   "execution_count": 1,
   "metadata": {},
   "outputs": [],
   "source": [
    "from helper_functions import create_tensorboard_callback, plot_loss_curves, compare_historys"
   ]
  },
  {
   "cell_type": "code",
   "execution_count": 5,
   "metadata": {},
   "outputs": [
    {
     "output_type": "stream",
     "name": "stdout",
     "text": [
      "Requirement already satisfied: tensorflow_datasets in .\\venv\\lib\\site-packages (4.3.0)\n",
      "Requirement already satisfied: future in .\\venv\\lib\\site-packages (from tensorflow_datasets) (0.18.2)\n",
      "Requirement already satisfied: attrs>=18.1.0 in .\\venv\\lib\\site-packages (from tensorflow_datasets) (21.2.0)\n",
      "Requirement already satisfied: promise in .\\venv\\lib\\site-packages (from tensorflow_datasets) (2.3)\n",
      "Requirement already satisfied: termcolor in .\\venv\\lib\\site-packages (from tensorflow_datasets) (1.1.0)\n",
      "Requirement already satisfied: tensorflow-metadata in .\\venv\\lib\\site-packages (from tensorflow_datasets) (1.1.0)\n",
      "Requirement already satisfied: tqdm in .\\venv\\lib\\site-packages (from tensorflow_datasets) (4.61.1)\n",
      "Requirement already satisfied: numpy in .\\venv\\lib\\site-packages (from tensorflow_datasets) (1.19.5)\n",
      "Requirement already satisfied: protobuf>=3.12.2 in .\\venv\\lib\\site-packages (from tensorflow_datasets) (3.17.3)\n",
      "Requirement already satisfied: absl-py in .\\venv\\lib\\site-packages (from tensorflow_datasets) (0.12.0)\n",
      "Requirement already satisfied: six in .\\venv\\lib\\site-packages (from tensorflow_datasets) (1.15.0)\n",
      "Requirement already satisfied: requests>=2.19.0 in .\\venv\\lib\\site-packages (from tensorflow_datasets) (2.25.1)\n",
      "Requirement already satisfied: dill in .\\venv\\lib\\site-packages (from tensorflow_datasets) (0.3.4)\n",
      "Requirement already satisfied: urllib3<1.27,>=1.21.1 in .\\venv\\lib\\site-packages (from requests>=2.19.0->tensorflow_datasets) (1.26.6)\n",
      "Requirement already satisfied: certifi>=2017.4.17 in .\\venv\\lib\\site-packages (from requests>=2.19.0->tensorflow_datasets) (2021.5.30)\n",
      "Requirement already satisfied: idna<3,>=2.5 in .\\venv\\lib\\site-packages (from requests>=2.19.0->tensorflow_datasets) (2.10)\n",
      "Requirement already satisfied: chardet<5,>=3.0.2 in .\\venv\\lib\\site-packages (from requests>=2.19.0->tensorflow_datasets) (4.0.0)\n",
      "Requirement already satisfied: googleapis-common-protos<2,>=1.52.0 in .\\venv\\lib\\site-packages (from tensorflow-metadata->tensorflow_datasets) (1.53.0)\n",
      "WARNING: You are using pip version 21.1.1; however, version 21.1.2 is available.\n",
      "You should consider upgrading via the 'c:\\20210626\\venv\\scripts\\python.exe -m pip install --upgrade pip' command.\n"
     ]
    }
   ],
   "source": [
    "!pip install tensorflow_datasets"
   ]
  },
  {
   "cell_type": "code",
   "execution_count": 2,
   "metadata": {},
   "outputs": [],
   "source": [
    "import tensorflow_datasets as tfds"
   ]
  },
  {
   "cell_type": "code",
   "execution_count": 7,
   "metadata": {},
   "outputs": [
    {
     "output_type": "execute_result",
     "data": {
      "text/plain": [
       "['abstract_reasoning',\n",
       " 'accentdb',\n",
       " 'aeslc',\n",
       " 'aflw2k3d',\n",
       " 'ag_news_subset',\n",
       " 'ai2_arc',\n",
       " 'ai2_arc_with_ir',\n",
       " 'amazon_us_reviews',\n",
       " 'anli',\n",
       " 'arc',\n",
       " 'bair_robot_pushing_small',\n",
       " 'bccd',\n",
       " 'beans',\n",
       " 'big_patent',\n",
       " 'bigearthnet',\n",
       " 'billsum',\n",
       " 'binarized_mnist',\n",
       " 'binary_alpha_digits',\n",
       " 'blimp',\n",
       " 'bool_q',\n",
       " 'c4',\n",
       " 'caltech101',\n",
       " 'caltech_birds2010',\n",
       " 'caltech_birds2011',\n",
       " 'cars196',\n",
       " 'cassava',\n",
       " 'cats_vs_dogs',\n",
       " 'celeb_a',\n",
       " 'celeb_a_hq',\n",
       " 'cfq',\n",
       " 'cherry_blossoms',\n",
       " 'chexpert',\n",
       " 'cifar10',\n",
       " 'cifar100',\n",
       " 'cifar10_1',\n",
       " 'cifar10_corrupted',\n",
       " 'citrus_leaves',\n",
       " 'cityscapes',\n",
       " 'civil_comments',\n",
       " 'clevr',\n",
       " 'clic',\n",
       " 'clinc_oos',\n",
       " 'cmaterdb',\n",
       " 'cnn_dailymail',\n",
       " 'coco',\n",
       " 'coco_captions',\n",
       " 'coil100',\n",
       " 'colorectal_histology',\n",
       " 'colorectal_histology_large',\n",
       " 'common_voice',\n",
       " 'coqa',\n",
       " 'cos_e',\n",
       " 'cosmos_qa',\n",
       " 'covid19sum',\n",
       " 'crema_d',\n",
       " 'curated_breast_imaging_ddsm',\n",
       " 'cycle_gan',\n",
       " 'd4rl_mujoco_ant',\n",
       " 'd4rl_mujoco_halfcheetah',\n",
       " 'dart',\n",
       " 'davis',\n",
       " 'deep_weeds',\n",
       " 'definite_pronoun_resolution',\n",
       " 'dementiabank',\n",
       " 'diabetic_retinopathy_detection',\n",
       " 'div2k',\n",
       " 'dmlab',\n",
       " 'dolphin_number_word',\n",
       " 'downsampled_imagenet',\n",
       " 'drop',\n",
       " 'dsprites',\n",
       " 'dtd',\n",
       " 'duke_ultrasound',\n",
       " 'e2e_cleaned',\n",
       " 'efron_morris75',\n",
       " 'emnist',\n",
       " 'eraser_multi_rc',\n",
       " 'esnli',\n",
       " 'eurosat',\n",
       " 'fashion_mnist',\n",
       " 'flic',\n",
       " 'flores',\n",
       " 'food101',\n",
       " 'forest_fires',\n",
       " 'fuss',\n",
       " 'gap',\n",
       " 'geirhos_conflict_stimuli',\n",
       " 'gem',\n",
       " 'genomics_ood',\n",
       " 'german_credit_numeric',\n",
       " 'gigaword',\n",
       " 'glue',\n",
       " 'goemotions',\n",
       " 'gpt3',\n",
       " 'gref',\n",
       " 'groove',\n",
       " 'gtzan',\n",
       " 'gtzan_music_speech',\n",
       " 'hellaswag',\n",
       " 'higgs',\n",
       " 'horses_or_humans',\n",
       " 'howell',\n",
       " 'i_naturalist2017',\n",
       " 'imagenet2012',\n",
       " 'imagenet2012_corrupted',\n",
       " 'imagenet2012_real',\n",
       " 'imagenet2012_subset',\n",
       " 'imagenet_a',\n",
       " 'imagenet_r',\n",
       " 'imagenet_resized',\n",
       " 'imagenet_v2',\n",
       " 'imagenette',\n",
       " 'imagewang',\n",
       " 'imdb_reviews',\n",
       " 'irc_disentanglement',\n",
       " 'iris',\n",
       " 'kitti',\n",
       " 'kmnist',\n",
       " 'lambada',\n",
       " 'lfw',\n",
       " 'librispeech',\n",
       " 'librispeech_lm',\n",
       " 'libritts',\n",
       " 'ljspeech',\n",
       " 'lm1b',\n",
       " 'lost_and_found',\n",
       " 'lsun',\n",
       " 'lvis',\n",
       " 'malaria',\n",
       " 'math_dataset',\n",
       " 'mctaco',\n",
       " 'mlqa',\n",
       " 'mnist',\n",
       " 'mnist_corrupted',\n",
       " 'movie_lens',\n",
       " 'movie_rationales',\n",
       " 'movielens',\n",
       " 'moving_mnist',\n",
       " 'multi_news',\n",
       " 'multi_nli',\n",
       " 'multi_nli_mismatch',\n",
       " 'natural_questions',\n",
       " 'natural_questions_open',\n",
       " 'newsroom',\n",
       " 'nsynth',\n",
       " 'nyu_depth_v2',\n",
       " 'ogbg_molpcba',\n",
       " 'omniglot',\n",
       " 'open_images_challenge2019_detection',\n",
       " 'open_images_v4',\n",
       " 'openbookqa',\n",
       " 'opinion_abstracts',\n",
       " 'opinosis',\n",
       " 'opus',\n",
       " 'oxford_flowers102',\n",
       " 'oxford_iiit_pet',\n",
       " 'para_crawl',\n",
       " 'patch_camelyon',\n",
       " 'paws_wiki',\n",
       " 'paws_x_wiki',\n",
       " 'pet_finder',\n",
       " 'pg19',\n",
       " 'piqa',\n",
       " 'places365_small',\n",
       " 'plant_leaves',\n",
       " 'plant_village',\n",
       " 'plantae_k',\n",
       " 'qa4mre',\n",
       " 'qasc',\n",
       " 'quac',\n",
       " 'quickdraw_bitmap',\n",
       " 'race',\n",
       " 'radon',\n",
       " 'reddit',\n",
       " 'reddit_disentanglement',\n",
       " 'reddit_tifu',\n",
       " 'resisc45',\n",
       " 'robonet',\n",
       " 'rock_paper_scissors',\n",
       " 'rock_you',\n",
       " 's3o4d',\n",
       " 'salient_span_wikipedia',\n",
       " 'samsum',\n",
       " 'savee',\n",
       " 'scan',\n",
       " 'scene_parse150',\n",
       " 'schema_guided_dialogue',\n",
       " 'scicite',\n",
       " 'scientific_papers',\n",
       " 'sentiment140',\n",
       " 'shapes3d',\n",
       " 'siscore',\n",
       " 'smallnorb',\n",
       " 'snli',\n",
       " 'so2sat',\n",
       " 'speech_commands',\n",
       " 'spoken_digit',\n",
       " 'squad',\n",
       " 'stanford_dogs',\n",
       " 'stanford_online_products',\n",
       " 'star_cfq',\n",
       " 'starcraft_video',\n",
       " 'stl10',\n",
       " 'story_cloze',\n",
       " 'sun397',\n",
       " 'super_glue',\n",
       " 'svhn_cropped',\n",
       " 'tao',\n",
       " 'ted_hrlr_translate',\n",
       " 'ted_multi_translate',\n",
       " 'tedlium',\n",
       " 'tf_flowers',\n",
       " 'the300w_lp',\n",
       " 'tiny_shakespeare',\n",
       " 'titanic',\n",
       " 'trec',\n",
       " 'trivia_qa',\n",
       " 'tydi_qa',\n",
       " 'uc_merced',\n",
       " 'ucf101',\n",
       " 'vctk',\n",
       " 'vgg_face2',\n",
       " 'visual_domain_decathlon',\n",
       " 'voc',\n",
       " 'voxceleb',\n",
       " 'voxforge',\n",
       " 'waymo_open_dataset',\n",
       " 'web_nlg',\n",
       " 'web_questions',\n",
       " 'wider_face',\n",
       " 'wiki40b',\n",
       " 'wiki_bio',\n",
       " 'wiki_table_questions',\n",
       " 'wiki_table_text',\n",
       " 'wikiann',\n",
       " 'wikihow',\n",
       " 'wikipedia',\n",
       " 'wikipedia_toxicity_subtypes',\n",
       " 'wine_quality',\n",
       " 'winogrande',\n",
       " 'wmt13_translate',\n",
       " 'wmt14_translate',\n",
       " 'wmt15_translate',\n",
       " 'wmt16_translate',\n",
       " 'wmt17_translate',\n",
       " 'wmt18_translate',\n",
       " 'wmt19_translate',\n",
       " 'wmt_t2t_translate',\n",
       " 'wmt_translate',\n",
       " 'wordnet',\n",
       " 'wsc273',\n",
       " 'xnli',\n",
       " 'xquad',\n",
       " 'xsum',\n",
       " 'xtreme_pawsx',\n",
       " 'xtreme_xnli',\n",
       " 'yelp_polarity_reviews',\n",
       " 'yes_no',\n",
       " 'youtube_vis']"
      ]
     },
     "metadata": {},
     "execution_count": 7
    }
   ],
   "source": [
    "tfds.list_builders()"
   ]
  },
  {
   "source": [
    "## TensorFlow Datasets\n",
    "### 사전에 만들어 놓은 머신러닝 데이터셋을 모아둔 것\n",
    "\n",
    "* 텐서로 이미 데이터를 준비\n",
    "* 잘 준비된 데이터 정리된 데이터로 실습을 할 수 있다\n",
    "* 여러가지 데이터 불러오는 방법을 실습할 수 있다.\n",
    "* 텐서플로 버전이 바뀌면서 새롭게 생기거나 변경된 경우에 빠르게 이 데이터셋으로 테스트를 할 수 있다. "
   ],
   "cell_type": "markdown",
   "metadata": {}
  },
  {
   "cell_type": "code",
   "execution_count": 10,
   "metadata": {},
   "outputs": [
    {
     "output_type": "stream",
     "name": "stdout",
     "text": [
      "True\n"
     ]
    }
   ],
   "source": [
    "dataset_list = tfds.list_builders()\n",
    "print(\"cifar10\" in dataset_list)"
   ]
  },
  {
   "cell_type": "code",
   "execution_count": 12,
   "metadata": {
    "tags": []
   },
   "outputs": [],
   "source": [
    "(train_data, test_data), dataset_info = tfds.load(\n",
    "    name=\"cifar10\", # 우리가 사용할 데이터셋 지정\n",
    "    split=[\"train\", \"test\"],  # 데이터셋 나누는 부분\n",
    "    shuffle_files=True,  # 파일들을 섞어 줄것인지 default = False\n",
    "    as_supervised=True, # tuple 형태 (data, label) 로 데이터를 다운로드 할 것인지 여부 / False면 dictionary 형태\n",
    "    with_info=True, # 데이터셋의 메타 정보도 다운로드 (라벨, 샘플의 갯수 등등)\n",
    "    download=False)"
   ]
  },
  {
   "source": [
    "### Windows의 경우 C:\\Users\\[자신의 아이디]\\tensorflow_datasets 에 다운로드 한 후 압축 해제"
   ],
   "cell_type": "markdown",
   "metadata": {}
  },
  {
   "cell_type": "code",
   "execution_count": 6,
   "metadata": {},
   "outputs": [
    {
     "output_type": "execute_result",
     "data": {
      "text/plain": [
       "FeaturesDict({\n",
       "    'id': Text(shape=(), dtype=tf.string),\n",
       "    'image': Image(shape=(32, 32, 3), dtype=tf.uint8),\n",
       "    'label': ClassLabel(shape=(), dtype=tf.int64, num_classes=10),\n",
       "})"
      ]
     },
     "metadata": {},
     "execution_count": 6
    }
   ],
   "source": [
    "dataset_info.features"
   ]
  },
  {
   "cell_type": "code",
   "execution_count": 13,
   "metadata": {},
   "outputs": [
    {
     "output_type": "execute_result",
     "data": {
      "text/plain": [
       "['airplane',\n",
       " 'automobile',\n",
       " 'bird',\n",
       " 'cat',\n",
       " 'deer',\n",
       " 'dog',\n",
       " 'frog',\n",
       " 'horse',\n",
       " 'ship',\n",
       " 'truck']"
      ]
     },
     "metadata": {},
     "execution_count": 13
    }
   ],
   "source": [
    "class_names = dataset_info.features[\"label\"].names\n",
    "class_names"
   ]
  },
  {
   "cell_type": "code",
   "execution_count": 14,
   "metadata": {},
   "outputs": [],
   "source": [
    "train_one_sample = train_data.take(1) # (image_tensor, label) 왜? as_supervised=True 로 설정을 했기 때문에"
   ]
  },
  {
   "cell_type": "code",
   "execution_count": 15,
   "metadata": {},
   "outputs": [
    {
     "output_type": "execute_result",
     "data": {
      "text/plain": [
       "<TakeDataset shapes: ((32, 32, 3), ()), types: (tf.uint8, tf.int64)>"
      ]
     },
     "metadata": {},
     "execution_count": 15
    }
   ],
   "source": [
    "train_one_sample"
   ]
  },
  {
   "cell_type": "code",
   "execution_count": 17,
   "metadata": {},
   "outputs": [
    {
     "output_type": "execute_result",
     "data": {
      "text/plain": [
       "tensorflow.python.data.ops.dataset_ops.TakeDataset"
      ]
     },
     "metadata": {},
     "execution_count": 17
    }
   ],
   "source": [
    "type(train_one_sample)"
   ]
  },
  {
   "cell_type": "code",
   "execution_count": 34,
   "metadata": {},
   "outputs": [
    {
     "output_type": "stream",
     "name": "stdout",
     "text": [
      "Image shape : (32, 32, 3)\nImage dtype : <dtype: 'uint8'>\nTarget class : 7\nClass name : horse\n"
     ]
    }
   ],
   "source": [
    "for image, label in train_one_sample:\n",
    "    print(f\"Image shape : {image.shape}\")\n",
    "    print(f\"Image dtype : {image.dtype}\")\n",
    "    print(f\"Target class : {label}\")\n",
    "    print(f\"Class name : {class_name[label.numpy()]}\")"
   ]
  },
  {
   "cell_type": "code",
   "execution_count": 26,
   "metadata": {},
   "outputs": [
    {
     "output_type": "execute_result",
     "data": {
      "text/plain": [
       "<tf.Tensor: shape=(32, 32, 3), dtype=uint8, numpy=\n",
       "array([[[203, 214, 234],\n",
       "        [191, 207, 226],\n",
       "        [178, 200, 224],\n",
       "        ...,\n",
       "        [127, 172, 213],\n",
       "        [126, 171, 212],\n",
       "        [124, 170, 211]],\n",
       "\n",
       "       [[205, 214, 230],\n",
       "        [186, 199, 213],\n",
       "        [180, 197, 214],\n",
       "        ...,\n",
       "        [132, 178, 219],\n",
       "        [130, 176, 219],\n",
       "        [129, 175, 217]],\n",
       "\n",
       "       [[193, 200, 213],\n",
       "        [141, 151, 159],\n",
       "        [124, 137, 145],\n",
       "        ...,\n",
       "        [136, 178, 218],\n",
       "        [134, 177, 218],\n",
       "        [132, 176, 217]],\n",
       "\n",
       "       ...,\n",
       "\n",
       "       [[ 40,  47,  56],\n",
       "        [ 33,  37,  42],\n",
       "        [ 31,  35,  41],\n",
       "        ...,\n",
       "        [ 73,  99, 132],\n",
       "        [ 64,  91, 126],\n",
       "        [ 69,  97, 133]],\n",
       "\n",
       "       [[ 37,  44,  53],\n",
       "        [ 31,  34,  40],\n",
       "        [ 30,  34,  40],\n",
       "        ...,\n",
       "        [ 72,  98, 132],\n",
       "        [ 64,  92, 127],\n",
       "        [ 68,  96, 132]],\n",
       "\n",
       "       [[ 34,  41,  50],\n",
       "        [ 29,  32,  38],\n",
       "        [ 28,  32,  38],\n",
       "        ...,\n",
       "        [ 68,  94, 127],\n",
       "        [ 62,  89, 123],\n",
       "        [ 63,  91, 126]]], dtype=uint8)>"
      ]
     },
     "metadata": {},
     "execution_count": 26
    }
   ],
   "source": [
    "image"
   ]
  },
  {
   "cell_type": "code",
   "execution_count": 27,
   "metadata": {},
   "outputs": [
    {
     "output_type": "execute_result",
     "data": {
      "text/plain": [
       "tensorflow.python.framework.ops.EagerTensor"
      ]
     },
     "metadata": {},
     "execution_count": 27
    }
   ],
   "source": [
    "type(image)"
   ]
  },
  {
   "cell_type": "code",
   "execution_count": 28,
   "metadata": {},
   "outputs": [
    {
     "output_type": "execute_result",
     "data": {
      "text/plain": [
       "3"
      ]
     },
     "metadata": {},
     "execution_count": 28
    }
   ],
   "source": [
    "image.ndim"
   ]
  },
  {
   "cell_type": "code",
   "execution_count": 30,
   "metadata": {},
   "outputs": [],
   "source": [
    "import tensorflow as tf"
   ]
  },
  {
   "cell_type": "code",
   "execution_count": 31,
   "metadata": {},
   "outputs": [
    {
     "output_type": "execute_result",
     "data": {
      "text/plain": [
       "(<tf.Tensor: shape=(), dtype=uint8, numpy=5>,\n",
       " <tf.Tensor: shape=(), dtype=uint8, numpy=249>)"
      ]
     },
     "metadata": {},
     "execution_count": 31
    }
   ],
   "source": [
    "tf.reduce_min(image), tf.reduce_max(image)"
   ]
  },
  {
   "cell_type": "code",
   "execution_count": 35,
   "metadata": {},
   "outputs": [
    {
     "output_type": "execute_result",
     "data": {
      "text/plain": [
       "(-0.5, 31.5, 31.5, -0.5)"
      ]
     },
     "metadata": {},
     "execution_count": 35
    },
    {
     "output_type": "display_data",
     "data": {
      "text/plain": "<Figure size 432x288 with 1 Axes>",
      "image/svg+xml": "<?xml version=\"1.0\" encoding=\"utf-8\" standalone=\"no\"?>\r\n<!DOCTYPE svg PUBLIC \"-//W3C//DTD SVG 1.1//EN\"\r\n  \"http://www.w3.org/Graphics/SVG/1.1/DTD/svg11.dtd\">\r\n<svg height=\"246.958125pt\" version=\"1.1\" viewBox=\"0 0 231.84 246.958125\" width=\"231.84pt\" xmlns=\"http://www.w3.org/2000/svg\" xmlns:xlink=\"http://www.w3.org/1999/xlink\">\r\n <metadata>\r\n  <rdf:RDF xmlns:cc=\"http://creativecommons.org/ns#\" xmlns:dc=\"http://purl.org/dc/elements/1.1/\" xmlns:rdf=\"http://www.w3.org/1999/02/22-rdf-syntax-ns#\">\r\n   <cc:Work>\r\n    <dc:type rdf:resource=\"http://purl.org/dc/dcmitype/StillImage\"/>\r\n    <dc:date>2021-06-26T11:15:59.111302</dc:date>\r\n    <dc:format>image/svg+xml</dc:format>\r\n    <dc:creator>\r\n     <cc:Agent>\r\n      <dc:title>Matplotlib v3.4.2, https://matplotlib.org/</dc:title>\r\n     </cc:Agent>\r\n    </dc:creator>\r\n   </cc:Work>\r\n  </rdf:RDF>\r\n </metadata>\r\n <defs>\r\n  <style type=\"text/css\">*{stroke-linecap:butt;stroke-linejoin:round;}</style>\r\n </defs>\r\n <g id=\"figure_1\">\r\n  <g id=\"patch_1\">\r\n   <path d=\"M 0 246.958125 \r\nL 231.84 246.958125 \r\nL 231.84 0 \r\nL 0 0 \r\nz\r\n\" style=\"fill:none;\"/>\r\n  </g>\r\n  <g id=\"axes_1\">\r\n   <g clip-path=\"url(#pbadab6cfd4)\">\r\n    <image height=\"218\" id=\"image5611ed4767\" transform=\"scale(1 -1)translate(0 -218)\" width=\"218\" x=\"7.2\" xlink:href=\"data:image/png;base64,\r\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\" y=\"-21.758125\"/>\r\n   </g>\r\n   <g id=\"text_1\">\r\n    <!-- horse -->\r\n    <g transform=\"translate(99.162188 16.318125)scale(0.12 -0.12)\">\r\n     <defs>\r\n      <path d=\"M 3513 2113 \r\nL 3513 0 \r\nL 2938 0 \r\nL 2938 2094 \r\nQ 2938 2591 2744 2837 \r\nQ 2550 3084 2163 3084 \r\nQ 1697 3084 1428 2787 \r\nQ 1159 2491 1159 1978 \r\nL 1159 0 \r\nL 581 0 \r\nL 581 4863 \r\nL 1159 4863 \r\nL 1159 2956 \r\nQ 1366 3272 1645 3428 \r\nQ 1925 3584 2291 3584 \r\nQ 2894 3584 3203 3211 \r\nQ 3513 2838 3513 2113 \r\nz\r\n\" id=\"DejaVuSans-68\" transform=\"scale(0.015625)\"/>\r\n      <path d=\"M 1959 3097 \r\nQ 1497 3097 1228 2736 \r\nQ 959 2375 959 1747 \r\nQ 959 1119 1226 758 \r\nQ 1494 397 1959 397 \r\nQ 2419 397 2687 759 \r\nQ 2956 1122 2956 1747 \r\nQ 2956 2369 2687 2733 \r\nQ 2419 3097 1959 3097 \r\nz\r\nM 1959 3584 \r\nQ 2709 3584 3137 3096 \r\nQ 3566 2609 3566 1747 \r\nQ 3566 888 3137 398 \r\nQ 2709 -91 1959 -91 \r\nQ 1206 -91 779 398 \r\nQ 353 888 353 1747 \r\nQ 353 2609 779 3096 \r\nQ 1206 3584 1959 3584 \r\nz\r\n\" id=\"DejaVuSans-6f\" transform=\"scale(0.015625)\"/>\r\n      <path d=\"M 2631 2963 \r\nQ 2534 3019 2420 3045 \r\nQ 2306 3072 2169 3072 \r\nQ 1681 3072 1420 2755 \r\nQ 1159 2438 1159 1844 \r\nL 1159 0 \r\nL 581 0 \r\nL 581 3500 \r\nL 1159 3500 \r\nL 1159 2956 \r\nQ 1341 3275 1631 3429 \r\nQ 1922 3584 2338 3584 \r\nQ 2397 3584 2469 3576 \r\nQ 2541 3569 2628 3553 \r\nL 2631 2963 \r\nz\r\n\" id=\"DejaVuSans-72\" transform=\"scale(0.015625)\"/>\r\n      <path d=\"M 2834 3397 \r\nL 2834 2853 \r\nQ 2591 2978 2328 3040 \r\nQ 2066 3103 1784 3103 \r\nQ 1356 3103 1142 2972 \r\nQ 928 2841 928 2578 \r\nQ 928 2378 1081 2264 \r\nQ 1234 2150 1697 2047 \r\nL 1894 2003 \r\nQ 2506 1872 2764 1633 \r\nQ 3022 1394 3022 966 \r\nQ 3022 478 2636 193 \r\nQ 2250 -91 1575 -91 \r\nQ 1294 -91 989 -36 \r\nQ 684 19 347 128 \r\nL 347 722 \r\nQ 666 556 975 473 \r\nQ 1284 391 1588 391 \r\nQ 1994 391 2212 530 \r\nQ 2431 669 2431 922 \r\nQ 2431 1156 2273 1281 \r\nQ 2116 1406 1581 1522 \r\nL 1381 1569 \r\nQ 847 1681 609 1914 \r\nQ 372 2147 372 2553 \r\nQ 372 3047 722 3315 \r\nQ 1072 3584 1716 3584 \r\nQ 2034 3584 2315 3537 \r\nQ 2597 3491 2834 3397 \r\nz\r\n\" id=\"DejaVuSans-73\" transform=\"scale(0.015625)\"/>\r\n      <path d=\"M 3597 1894 \r\nL 3597 1613 \r\nL 953 1613 \r\nQ 991 1019 1311 708 \r\nQ 1631 397 2203 397 \r\nQ 2534 397 2845 478 \r\nQ 3156 559 3463 722 \r\nL 3463 178 \r\nQ 3153 47 2828 -22 \r\nQ 2503 -91 2169 -91 \r\nQ 1331 -91 842 396 \r\nQ 353 884 353 1716 \r\nQ 353 2575 817 3079 \r\nQ 1281 3584 2069 3584 \r\nQ 2775 3584 3186 3129 \r\nQ 3597 2675 3597 1894 \r\nz\r\nM 3022 2063 \r\nQ 3016 2534 2758 2815 \r\nQ 2500 3097 2075 3097 \r\nQ 1594 3097 1305 2825 \r\nQ 1016 2553 972 2059 \r\nL 3022 2063 \r\nz\r\n\" id=\"DejaVuSans-65\" transform=\"scale(0.015625)\"/>\r\n     </defs>\r\n     <use xlink:href=\"#DejaVuSans-68\"/>\r\n     <use x=\"63.378906\" xlink:href=\"#DejaVuSans-6f\"/>\r\n     <use x=\"124.560547\" xlink:href=\"#DejaVuSans-72\"/>\r\n     <use x=\"165.673828\" xlink:href=\"#DejaVuSans-73\"/>\r\n     <use x=\"217.773438\" xlink:href=\"#DejaVuSans-65\"/>\r\n    </g>\r\n   </g>\r\n  </g>\r\n </g>\r\n <defs>\r\n  <clipPath id=\"pbadab6cfd4\">\r\n   <rect height=\"217.44\" width=\"217.44\" x=\"7.2\" y=\"22.318125\"/>\r\n  </clipPath>\r\n </defs>\r\n</svg>\r\n",
      "image/png": "[encoded data removed]"
     },
     "metadata": {
      "needs_background": "light"
     }
    }
   ],
   "source": [
    "import matplotlib.pyplot as plt\n",
    "plt.imshow(image)\n",
    "plt.title(class_name[label.numpy()])\n",
    "plt.axis(False)"
   ]
  },
  {
   "cell_type": "code",
   "execution_count": 36,
   "metadata": {},
   "outputs": [],
   "source": [
    "def preprocess_img(image, label, img_shape = 224):\n",
    "    image = tf.image.resize(image, [img_shape, img_shape])\n",
    "    return tf.cast(image, tf.float32)"
   ]
  },
  {
   "cell_type": "code",
   "execution_count": 37,
   "metadata": {},
   "outputs": [],
   "source": [
    "preprocessed_img = preprocess_img(image, label)[0]"
   ]
  },
  {
   "cell_type": "code",
   "execution_count": 38,
   "metadata": {},
   "outputs": [
    {
     "output_type": "stream",
     "name": "stdout",
     "text": [
      "[[[143  96  70]\n  [141  96  72]\n  [135  93  72]\n  [136  96  78]\n  [131  86  63]\n  [127  74  44]\n  [131  75  46]\n  [124  65  38]\n  [117  54  29]\n  [121  55  30]\n  [113  45  20]\n  [112  46  21]\n  [116  50  29]\n  [ 88  31  23]\n  [ 42  12  16]\n  [ 30  14  20]\n  [ 34  20  23]\n  [ 26  16  19]\n  [ 18   9  14]\n  [ 21   7  16]\n  [ 42  15  24]\n  [ 83  28  26]\n  [ 96  32  21]\n  [100  35  19]\n  [ 99  30  13]\n  [104  31  18]\n  [105  31  16]\n  [ 97  28  20]\n  [ 86  23  20]\n  [ 96  37  19]\n  [105  42  18]\n  [104  38  20]]\n\n [[128  98  92]\n  [146 118 112]\n  [170 145 138]\n  [163 140 133]\n  [155 124 110]\n  [155 114  93]\n  [156 115  95]\n  [146 104  86]\n  [145 103  86]\n  [147 102  87]\n  [141  87  72]\n  [120  63  46]\n  [121  71  53]\n  [101  64  52]\n  [ 67  43  39]\n  [ 42  21  22]\n  [ 65  43  44]\n  [ 74  57  57]\n  [ 60  45  46]\n  [ 42  23  29]\n  [ 43  16  23]\n  [ 55  16  17]\n  [ 76  30  22]\n  [103  47  30]\n  [111  45  22]\n  [118  45  24]\n  [114  45  23]\n  [102  37  25]\n  [ 93  29  21]\n  [108  45  26]\n  [112  44  24]\n  [112  41  22]]]\n[[143.  96.  70.]\n [143.  96.  70.]]\n"
     ]
    }
   ],
   "source": [
    "print(f\"{image[:2]}\")\n",
    "print(f\"{preprocessed_img[:2]}\")"
   ]
  },
  {
   "cell_type": "code",
   "execution_count": 39,
   "metadata": {},
   "outputs": [
    {
     "output_type": "stream",
     "name": "stdout",
     "text": [
      "(32, 32, 3)\n(224, 3)\n"
     ]
    }
   ],
   "source": [
    "print(f\"{image.shape}\")\n",
    "print(f\"{preprocessed_img.shape}\")"
   ]
  },
  {
   "cell_type": "code",
   "execution_count": null,
   "metadata": {},
   "outputs": [],
   "source": []
  }
 ]
}