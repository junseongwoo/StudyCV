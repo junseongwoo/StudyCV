{
 "metadata": {
  "language_info": {
   "codemirror_mode": {
    "name": "ipython",
    "version": 3
   },
   "file_extension": ".py",
   "mimetype": "text/x-python",
   "name": "python",
   "nbconvert_exporter": "python",
   "pygments_lexer": "ipython3",
   "version": "3.9.5"
  },
  "orig_nbformat": 2,
  "kernelspec": {
   "name": "python395jvsc74a57bd0872c4634d660470f620c6274665567fdcfefbe384014add01cb0707ddf03c334",
   "display_name": "Python 3.9.5 64-bit ('venv': venv)"
  }
 },
 "nbformat": 4,
 "nbformat_minor": 2,
 "cells": [
  {
   "cell_type": "code",
   "execution_count": 2,
   "metadata": {},
   "outputs": [],
   "source": [
    "# Regression ( 회귀 )\n",
    "# 숫자값 예측이 목적 \n",
    "# ex) 주택에 대한 정보 (방의 개수, 크기, 욕실 수 등 ) -> 주택의 판매 가격\n",
    "# 이미지에서 어떤 항목의 경계 상자의 자료를 예측\n",
    "# 인구 통계 ( 연령, 성별, 인종 등) -> 의료보험 비용 등등 예측 \n",
    "\n",
    "# 입력 (데이터) -> 패턴을 발견하는 신경망 -> 출력 (예측)\n",
    "# 1. 분석하기 쉬운 형태로 데이터를 준비\n",
    "# 2. 패턴을 발견하는 신경망을 만드는 것 \n",
    "# 3. 만든 신경망의 결과를 확인 "
   ]
  },
  {
   "cell_type": "code",
   "execution_count": null,
   "metadata": {},
   "outputs": [],
   "source": [
    "# 앞으로 우리가 할일\n",
    "# 1. 회귀 모델의 아키텍처를 확인\n",
    "# 2. 입력과 출력의 형태를 만들어준다.\n",
    "#    - 'X' (입력) : feature / 데이터 (입력)\n",
    "#    - 'Y' (출력) : 레이블 (lable)   (출력)\n",
    "# 3. 모델링 단계\n",
    "#    1) 모델 생성\n",
    "#    2) 모델 컴파일\n",
    "#       - 손실 함수 적용\n",
    "#       - 최적화 프로그램 설정\n",
    "#       - 평가 지표 생성\n",
    "#    3) 모델 피팅 (데이터에서 패턴을 찾는 과정)\n",
    "# 4. 모델 평가\n",
    "#    1) 모델 시각화\n",
    "#    2) 학습 곡선 확인\n",
    "#    3) 예측 결과를 실제 데이터와 비교 (평가 지표 사용)\n",
    "# 5. 모델 저장 (나중의 사용을 위해서)\n",
    "# 6. 모델 가져와서 사용하기"
   ]
  },
  {
   "source": [
    "## 회귀 신경망의 일반적인 구조 (아키텍처)\n",
    "\n",
    "신경망을 생성하는 방법은 매우 다양하다. 그래도 일반적인 방법이 존재\n",
    "\n",
    "데이터 수집 -> 데이터에서 패턴 찾기 -> 결과 만들기\n",
    "\n"
   ],
   "cell_type": "markdown",
   "metadata": {}
  },
  {
   "source": [
    "* Input Layer (입력층) : 특성 (feature, column, variable)의 갯수 (shape)\n",
    "\n",
    "* Hidden Layer (은닉층) : 해결하려는 문제에 따라 최소 1개 이상으로 이루어짐 \n",
    "* 은닉층 각각을 구성하는 뉴런 : 해결하려는 문제에 따라 최소 10 ~ 최대 100으로 이루어진다.\n",
    "* Output Layer shape (출력층의 형태) : 우리가 예측값을 얻고자 하는 형태 (주택의 가격이라면 1)\n",
    "* 은닉층 활성화 함수 : [RelU](https://www.kaggle.com/dansbecker/rectified-linear-units-relu-in-deep-learning)\n",
    "\n",
    "* 출력층 활성화 함수 : None, ReLU, logistic/tanh\n",
    "* 손실함수의 경우 : MSE (Mean Square error), MAE (Mean absolute error) / Huber (MSE+MAE) : 특이값이 있으면 사용\n",
    "* 옵티마이저 (최적화) : SGD (stochastic gradient descent), Adam"
   ],
   "cell_type": "markdown",
   "metadata": {}
  },
  {
   "source": [
    "**hyperparameter** *(하이퍼파라미터)* : 머신러닝 분야에서 하이퍼파라미터라는 단어는 데이터 분석가나 개발자들이 설정하는 값\n",
    "\n",
    "**parameter** *(파라미터)* : 분석가나 개발자들이 명시적으로 설정한 값이 아닌 모델이 스스로 파악한 값 \n"
   ],
   "cell_type": "markdown",
   "metadata": {}
  },
  {
   "source": [
    "# Regression problem ( 회귀 문제 )\n",
    "\n",
    "## 회귀 --> 특정 값을 예측 !"
   ],
   "cell_type": "markdown",
   "metadata": {}
  },
  {
   "cell_type": "code",
   "execution_count": 26,
   "metadata": {},
   "outputs": [],
   "source": [
    "import tensorflow as tf\n",
    "import pandas as pd\n",
    "import numpy as np\n",
    "import matplotlib.pyplot as plt   "
   ]
  },
  {
   "cell_type": "code",
   "execution_count": 27,
   "metadata": {},
   "outputs": [
    {
     "output_type": "execute_result",
     "data": {
      "text/plain": [
       "<matplotlib.collections.PathCollection at 0x2939d6f61c0>"
      ]
     },
     "metadata": {},
     "execution_count": 27
    },
    {
     "output_type": "display_data",
     "data": {
      "text/plain": "<Figure size 432x288 with 1 Axes>",
      "image/svg+xml": "<?xml version=\"1.0\" encoding=\"utf-8\" standalone=\"no\"?>\r\n<!DOCTYPE svg PUBLIC \"-//W3C//DTD SVG 1.1//EN\"\r\n  \"http://www.w3.org/Graphics/SVG/1.1/DTD/svg11.dtd\">\r\n<svg height=\"251.846694pt\" version=\"1.1\" viewBox=\"0 0 374.562825 251.846694\" width=\"374.562825pt\" xmlns=\"http://www.w3.org/2000/svg\" xmlns:xlink=\"http://www.w3.org/1999/xlink\">\r\n <metadata>\r\n  <rdf:RDF xmlns:cc=\"http://creativecommons.org/ns#\" xmlns:dc=\"http://purl.org/dc/elements/1.1/\" xmlns:rdf=\"http://www.w3.org/1999/02/22-rdf-syntax-ns#\">\r\n   <cc:Work>\r\n    <dc:type rdf:resource=\"http://purl.org/dc/dcmitype/StillImage\"/>\r\n    <dc:date>2021-05-30T11:18:23.482126</dc:date>\r\n    <dc:format>image/svg+xml</dc:format>\r\n    <dc:creator>\r\n     <cc:Agent>\r\n      <dc:title>Matplotlib v3.4.2, https://matplotlib.org/</dc:title>\r\n     </cc:Agent>\r\n    </dc:creator>\r\n   </cc:Work>\r\n  </rdf:RDF>\r\n </metadata>\r\n <defs>\r\n  <style type=\"text/css\">*{stroke-linecap:butt;stroke-linejoin:round;}</style>\r\n </defs>\r\n <g id=\"figure_1\">\r\n  <g id=\"patch_1\">\r\n   <path d=\"M -0 251.846694 \r\nL 374.562825 251.846694 \r\nL 374.562825 0 \r\nL -0 0 \r\nz\r\n\" style=\"fill:none;\"/>\r\n  </g>\r\n  <g id=\"axes_1\">\r\n   <g id=\"patch_2\">\r\n    <path d=\"M 26.925 227.968569 \r\nL 361.725 227.968569 \r\nL 361.725 10.528569 \r\nL 26.925 10.528569 \r\nz\r\n\" style=\"fill:#ffffff;\"/>\r\n   </g>\r\n   <g id=\"PathCollection_1\">\r\n    <defs>\r\n     <path d=\"M 0 3 \r\nC 0.795609 3 1.55874 2.683901 2.12132 2.12132 \r\nC 2.683901 1.55874 3 0.795609 3 0 \r\nC 3 -0.795609 2.683901 -1.55874 2.12132 -2.12132 \r\nC 1.55874 -2.683901 0.795609 -3 0 -3 \r\nC -0.795609 -3 -1.55874 -2.683901 -2.12132 -2.12132 \r\nC -2.683901 -1.55874 -3 -0.795609 -3 0 \r\nC -3 0.795609 -2.683901 1.55874 -2.12132 2.12132 \r\nC -1.55874 2.683901 -0.795609 3 0 3 \r\nz\r\n\" id=\"m48bdc5f345\" style=\"stroke:#1f77b4;\"/>\r\n    </defs>\r\n    <g clip-path=\"url(#p8e8392fd91)\">\r\n     <use style=\"fill:#1f77b4;stroke:#1f77b4;\" x=\"42.143182\" xlink:href=\"#m48bdc5f345\" y=\"218.084933\"/>\r\n     <use style=\"fill:#1f77b4;stroke:#1f77b4;\" x=\"85.623701\" xlink:href=\"#m48bdc5f345\" y=\"189.845972\"/>\r\n     <use style=\"fill:#1f77b4;stroke:#1f77b4;\" x=\"129.104221\" xlink:href=\"#m48bdc5f345\" y=\"161.607011\"/>\r\n     <use style=\"fill:#1f77b4;stroke:#1f77b4;\" x=\"172.58474\" xlink:href=\"#m48bdc5f345\" y=\"133.36805\"/>\r\n     <use style=\"fill:#1f77b4;stroke:#1f77b4;\" x=\"216.06526\" xlink:href=\"#m48bdc5f345\" y=\"105.129089\"/>\r\n     <use style=\"fill:#1f77b4;stroke:#1f77b4;\" x=\"259.545779\" xlink:href=\"#m48bdc5f345\" y=\"76.890128\"/>\r\n     <use style=\"fill:#1f77b4;stroke:#1f77b4;\" x=\"303.026299\" xlink:href=\"#m48bdc5f345\" y=\"48.651167\"/>\r\n     <use style=\"fill:#1f77b4;stroke:#1f77b4;\" x=\"346.506818\" xlink:href=\"#m48bdc5f345\" y=\"20.412206\"/>\r\n    </g>\r\n   </g>\r\n   <g id=\"matplotlib.axis_1\">\r\n    <g id=\"xtick_1\">\r\n     <g id=\"line2d_1\">\r\n      <defs>\r\n       <path d=\"M 0 0 \r\nL 0 3.5 \r\n\" id=\"mf32445c029\" style=\"stroke:#000000;stroke-width:0.8;\"/>\r\n      </defs>\r\n      <g>\r\n       <use style=\"stroke:#000000;stroke-width:0.8;\" x=\"71.130195\" xlink:href=\"#mf32445c029\" y=\"227.968569\"/>\r\n      </g>\r\n     </g>\r\n     <g id=\"text_1\">\r\n      <!-- −5 -->\r\n      <g transform=\"translate(63.759101 242.567007)scale(0.1 -0.1)\">\r\n       <defs>\r\n        <path d=\"M 678 2272 \r\nL 4684 2272 \r\nL 4684 1741 \r\nL 678 1741 \r\nL 678 2272 \r\nz\r\n\" id=\"DejaVuSans-2212\" transform=\"scale(0.015625)\"/>\r\n        <path d=\"M 691 4666 \r\nL 3169 4666 \r\nL 3169 4134 \r\nL 1269 4134 \r\nL 1269 2991 \r\nQ 1406 3038 1543 3061 \r\nQ 1681 3084 1819 3084 \r\nQ 2600 3084 3056 2656 \r\nQ 3513 2228 3513 1497 \r\nQ 3513 744 3044 326 \r\nQ 2575 -91 1722 -91 \r\nQ 1428 -91 1123 -41 \r\nQ 819 9 494 109 \r\nL 494 744 \r\nQ 775 591 1075 516 \r\nQ 1375 441 1709 441 \r\nQ 2250 441 2565 725 \r\nQ 2881 1009 2881 1497 \r\nQ 2881 1984 2565 2268 \r\nQ 2250 2553 1709 2553 \r\nQ 1456 2553 1204 2497 \r\nQ 953 2441 691 2322 \r\nL 691 4666 \r\nz\r\n\" id=\"DejaVuSans-35\" transform=\"scale(0.015625)\"/>\r\n       </defs>\r\n       <use xlink:href=\"#DejaVuSans-2212\"/>\r\n       <use x=\"83.789062\" xlink:href=\"#DejaVuSans-35\"/>\r\n      </g>\r\n     </g>\r\n    </g>\r\n    <g id=\"xtick_2\">\r\n     <g id=\"line2d_2\">\r\n      <g>\r\n       <use style=\"stroke:#000000;stroke-width:0.8;\" x=\"143.597727\" xlink:href=\"#mf32445c029\" y=\"227.968569\"/>\r\n      </g>\r\n     </g>\r\n     <g id=\"text_2\">\r\n      <!-- 0 -->\r\n      <g transform=\"translate(140.416477 242.567007)scale(0.1 -0.1)\">\r\n       <defs>\r\n        <path d=\"M 2034 4250 \r\nQ 1547 4250 1301 3770 \r\nQ 1056 3291 1056 2328 \r\nQ 1056 1369 1301 889 \r\nQ 1547 409 2034 409 \r\nQ 2525 409 2770 889 \r\nQ 3016 1369 3016 2328 \r\nQ 3016 3291 2770 3770 \r\nQ 2525 4250 2034 4250 \r\nz\r\nM 2034 4750 \r\nQ 2819 4750 3233 4129 \r\nQ 3647 3509 3647 2328 \r\nQ 3647 1150 3233 529 \r\nQ 2819 -91 2034 -91 \r\nQ 1250 -91 836 529 \r\nQ 422 1150 422 2328 \r\nQ 422 3509 836 4129 \r\nQ 1250 4750 2034 4750 \r\nz\r\n\" id=\"DejaVuSans-30\" transform=\"scale(0.015625)\"/>\r\n       </defs>\r\n       <use xlink:href=\"#DejaVuSans-30\"/>\r\n      </g>\r\n     </g>\r\n    </g>\r\n    <g id=\"xtick_3\">\r\n     <g id=\"line2d_3\">\r\n      <g>\r\n       <use style=\"stroke:#000000;stroke-width:0.8;\" x=\"216.06526\" xlink:href=\"#mf32445c029\" y=\"227.968569\"/>\r\n      </g>\r\n     </g>\r\n     <g id=\"text_3\">\r\n      <!-- 5 -->\r\n      <g transform=\"translate(212.88401 242.567007)scale(0.1 -0.1)\">\r\n       <use xlink:href=\"#DejaVuSans-35\"/>\r\n      </g>\r\n     </g>\r\n    </g>\r\n    <g id=\"xtick_4\">\r\n     <g id=\"line2d_4\">\r\n      <g>\r\n       <use style=\"stroke:#000000;stroke-width:0.8;\" x=\"288.532792\" xlink:href=\"#mf32445c029\" y=\"227.968569\"/>\r\n      </g>\r\n     </g>\r\n     <g id=\"text_4\">\r\n      <!-- 10 -->\r\n      <g transform=\"translate(282.170292 242.567007)scale(0.1 -0.1)\">\r\n       <defs>\r\n        <path d=\"M 794 531 \r\nL 1825 531 \r\nL 1825 4091 \r\nL 703 3866 \r\nL 703 4441 \r\nL 1819 4666 \r\nL 2450 4666 \r\nL 2450 531 \r\nL 3481 531 \r\nL 3481 0 \r\nL 794 0 \r\nL 794 531 \r\nz\r\n\" id=\"DejaVuSans-31\" transform=\"scale(0.015625)\"/>\r\n       </defs>\r\n       <use xlink:href=\"#DejaVuSans-31\"/>\r\n       <use x=\"63.623047\" xlink:href=\"#DejaVuSans-30\"/>\r\n      </g>\r\n     </g>\r\n    </g>\r\n    <g id=\"xtick_5\">\r\n     <g id=\"line2d_5\">\r\n      <g>\r\n       <use style=\"stroke:#000000;stroke-width:0.8;\" x=\"361.000325\" xlink:href=\"#mf32445c029\" y=\"227.968569\"/>\r\n      </g>\r\n     </g>\r\n     <g id=\"text_5\">\r\n      <!-- 15 -->\r\n      <g transform=\"translate(354.637825 242.567007)scale(0.1 -0.1)\">\r\n       <use xlink:href=\"#DejaVuSans-31\"/>\r\n       <use x=\"63.623047\" xlink:href=\"#DejaVuSans-35\"/>\r\n      </g>\r\n     </g>\r\n    </g>\r\n   </g>\r\n   <g id=\"matplotlib.axis_2\">\r\n    <g id=\"ytick_1\">\r\n     <g id=\"line2d_6\">\r\n      <defs>\r\n       <path d=\"M 0 0 \r\nL -3.5 0 \r\n\" id=\"m8e14f5c2a2\" style=\"stroke:#000000;stroke-width:0.8;\"/>\r\n      </defs>\r\n      <g>\r\n       <use style=\"stroke:#000000;stroke-width:0.8;\" x=\"26.925\" xlink:href=\"#m8e14f5c2a2\" y=\"199.258959\"/>\r\n      </g>\r\n     </g>\r\n     <g id=\"text_6\">\r\n      <!-- 5 -->\r\n      <g transform=\"translate(13.5625 203.058178)scale(0.1 -0.1)\">\r\n       <use xlink:href=\"#DejaVuSans-35\"/>\r\n      </g>\r\n     </g>\r\n    </g>\r\n    <g id=\"ytick_2\">\r\n     <g id=\"line2d_7\">\r\n      <g>\r\n       <use style=\"stroke:#000000;stroke-width:0.8;\" x=\"26.925\" xlink:href=\"#m8e14f5c2a2\" y=\"152.194024\"/>\r\n      </g>\r\n     </g>\r\n     <g id=\"text_7\">\r\n      <!-- 10 -->\r\n      <g transform=\"translate(7.2 155.993243)scale(0.1 -0.1)\">\r\n       <use xlink:href=\"#DejaVuSans-31\"/>\r\n       <use x=\"63.623047\" xlink:href=\"#DejaVuSans-30\"/>\r\n      </g>\r\n     </g>\r\n    </g>\r\n    <g id=\"ytick_3\">\r\n     <g id=\"line2d_8\">\r\n      <g>\r\n       <use style=\"stroke:#000000;stroke-width:0.8;\" x=\"26.925\" xlink:href=\"#m8e14f5c2a2\" y=\"105.129089\"/>\r\n      </g>\r\n     </g>\r\n     <g id=\"text_8\">\r\n      <!-- 15 -->\r\n      <g transform=\"translate(7.2 108.928308)scale(0.1 -0.1)\">\r\n       <use xlink:href=\"#DejaVuSans-31\"/>\r\n       <use x=\"63.623047\" xlink:href=\"#DejaVuSans-35\"/>\r\n      </g>\r\n     </g>\r\n    </g>\r\n    <g id=\"ytick_4\">\r\n     <g id=\"line2d_9\">\r\n      <g>\r\n       <use style=\"stroke:#000000;stroke-width:0.8;\" x=\"26.925\" xlink:href=\"#m8e14f5c2a2\" y=\"58.064154\"/>\r\n      </g>\r\n     </g>\r\n     <g id=\"text_9\">\r\n      <!-- 20 -->\r\n      <g transform=\"translate(7.2 61.863373)scale(0.1 -0.1)\">\r\n       <defs>\r\n        <path d=\"M 1228 531 \r\nL 3431 531 \r\nL 3431 0 \r\nL 469 0 \r\nL 469 531 \r\nQ 828 903 1448 1529 \r\nQ 2069 2156 2228 2338 \r\nQ 2531 2678 2651 2914 \r\nQ 2772 3150 2772 3378 \r\nQ 2772 3750 2511 3984 \r\nQ 2250 4219 1831 4219 \r\nQ 1534 4219 1204 4116 \r\nQ 875 4013 500 3803 \r\nL 500 4441 \r\nQ 881 4594 1212 4672 \r\nQ 1544 4750 1819 4750 \r\nQ 2544 4750 2975 4387 \r\nQ 3406 4025 3406 3419 \r\nQ 3406 3131 3298 2873 \r\nQ 3191 2616 2906 2266 \r\nQ 2828 2175 2409 1742 \r\nQ 1991 1309 1228 531 \r\nz\r\n\" id=\"DejaVuSans-32\" transform=\"scale(0.015625)\"/>\r\n       </defs>\r\n       <use xlink:href=\"#DejaVuSans-32\"/>\r\n       <use x=\"63.623047\" xlink:href=\"#DejaVuSans-30\"/>\r\n      </g>\r\n     </g>\r\n    </g>\r\n    <g id=\"ytick_5\">\r\n     <g id=\"line2d_10\">\r\n      <g>\r\n       <use style=\"stroke:#000000;stroke-width:0.8;\" x=\"26.925\" xlink:href=\"#m8e14f5c2a2\" y=\"10.999219\"/>\r\n      </g>\r\n     </g>\r\n     <g id=\"text_10\">\r\n      <!-- 25 -->\r\n      <g transform=\"translate(7.2 14.798437)scale(0.1 -0.1)\">\r\n       <use xlink:href=\"#DejaVuSans-32\"/>\r\n       <use x=\"63.623047\" xlink:href=\"#DejaVuSans-35\"/>\r\n      </g>\r\n     </g>\r\n    </g>\r\n   </g>\r\n   <g id=\"patch_3\">\r\n    <path d=\"M 26.925 227.968569 \r\nL 26.925 10.528569 \r\n\" style=\"fill:none;stroke:#000000;stroke-linecap:square;stroke-linejoin:miter;stroke-width:0.8;\"/>\r\n   </g>\r\n   <g id=\"patch_4\">\r\n    <path d=\"M 361.725 227.968569 \r\nL 361.725 10.528569 \r\n\" style=\"fill:none;stroke:#000000;stroke-linecap:square;stroke-linejoin:miter;stroke-width:0.8;\"/>\r\n   </g>\r\n   <g id=\"patch_5\">\r\n    <path d=\"M 26.925 227.968569 \r\nL 361.725 227.968569 \r\n\" style=\"fill:none;stroke:#000000;stroke-linecap:square;stroke-linejoin:miter;stroke-width:0.8;\"/>\r\n   </g>\r\n   <g id=\"patch_6\">\r\n    <path d=\"M 26.925 10.528569 \r\nL 361.725 10.528569 \r\n\" style=\"fill:none;stroke:#000000;stroke-linecap:square;stroke-linejoin:miter;stroke-width:0.8;\"/>\r\n   </g>\r\n  </g>\r\n </g>\r\n <defs>\r\n  <clipPath id=\"p8e8392fd91\">\r\n   <rect height=\"217.44\" width=\"334.8\" x=\"26.925\" y=\"10.528569\"/>\r\n  </clipPath>\r\n </defs>\r\n</svg>\r\n",
      "image/png": "[encoded data removed]"
     },
     "metadata": {
      "needs_background": "light"
     }
    }
   ],
   "source": [
    "# feature 특성, 변수\n",
    "X = np.array([-7.0, -4.0, -1.0, 2.0, 5.0, 8.0, 11.0, 14.0])\n",
    "\n",
    "# Label\n",
    "y = np.array([3.0, 6.0, 9.0, 12.0, 15.0, 18.0, 21.0, 24.0])\n",
    "\n",
    "plt.scatter(X,y)"
   ]
  },
  {
   "source": [
    "모델을 만들기 전에 EDA (Explorary Data Analysis) 탐색적 자료 분석을 해서 \n",
    "\n",
    "위의 경우 처럼 X, y 의 관계, 즉 패턴을 찾으려고 한다!\n",
    "\n",
    "위의 패턴이라면 17은 어떤 값일까? -10은 어떤 값일까?"
   ],
   "cell_type": "markdown",
   "metadata": {}
  },
  {
   "source": [
    "## 신경망 (neural network)로 작업을 할 때 가장 중요한 개념!\n",
    "\n",
    "### **input shape (입력의 모양)** : 모델을 만들기 위한 데이터의 형태\n",
    "### **output shaple (출력의 모양)** : 모델을 통해서 예측하고자 하는 데이터의 형태\n",
    "\n",
    "문제에 따라 입력과 출력의 모양 각기 각각이다.\n",
    "\n",
    "신경망은 숫자를 입력 받고, 숫자를 출력! 이 때 일반적으로 tensor나 array로 처리합니다."
   ],
   "cell_type": "markdown",
   "metadata": {}
  },
  {
   "cell_type": "code",
   "execution_count": 28,
   "metadata": {},
   "outputs": [
    {
     "output_type": "execute_result",
     "data": {
      "text/plain": [
       "(<tf.Tensor: shape=(3,), dtype=string, numpy=array([b'bedroom', b'bathroom', b'garage'], dtype=object)>,\n",
       " <tf.Tensor: shape=(1,), dtype=int32, numpy=array([939700])>)"
      ]
     },
     "metadata": {},
     "execution_count": 28
    }
   ],
   "source": [
    "house_info = tf.constant([\"bedroom\", \"bathroom\", \"garage\"])\n",
    "house_price = tf.constant([939700])\n",
    "house_info, house_price "
   ]
  },
  {
   "cell_type": "code",
   "execution_count": 29,
   "metadata": {},
   "outputs": [
    {
     "output_type": "execute_result",
     "data": {
      "text/plain": [
       "TensorShape([3])"
      ]
     },
     "metadata": {},
     "execution_count": 29
    }
   ],
   "source": [
    "house_info.shape"
   ]
  },
  {
   "cell_type": "code",
   "execution_count": 30,
   "metadata": {},
   "outputs": [
    {
     "output_type": "execute_result",
     "data": {
      "text/plain": [
       "<matplotlib.collections.PathCollection at 0x2939d730370>"
      ]
     },
     "metadata": {},
     "execution_count": 30
    },
    {
     "output_type": "display_data",
     "data": {
      "text/plain": "<Figure size 432x288 with 1 Axes>",
      "image/svg+xml": "<?xml version=\"1.0\" encoding=\"utf-8\" standalone=\"no\"?>\r\n<!DOCTYPE svg PUBLIC \"-//W3C//DTD SVG 1.1//EN\"\r\n  \"http://www.w3.org/Graphics/SVG/1.1/DTD/svg11.dtd\">\r\n<svg height=\"251.846694pt\" version=\"1.1\" viewBox=\"0 0 374.562825 251.846694\" width=\"374.562825pt\" xmlns=\"http://www.w3.org/2000/svg\" xmlns:xlink=\"http://www.w3.org/1999/xlink\">\r\n <metadata>\r\n  <rdf:RDF xmlns:cc=\"http://creativecommons.org/ns#\" xmlns:dc=\"http://purl.org/dc/elements/1.1/\" xmlns:rdf=\"http://www.w3.org/1999/02/22-rdf-syntax-ns#\">\r\n   <cc:Work>\r\n    <dc:type rdf:resource=\"http://purl.org/dc/dcmitype/StillImage\"/>\r\n    <dc:date>2021-05-30T11:18:26.760917</dc:date>\r\n    <dc:format>image/svg+xml</dc:format>\r\n    <dc:creator>\r\n     <cc:Agent>\r\n      <dc:title>Matplotlib v3.4.2, https://matplotlib.org/</dc:title>\r\n     </cc:Agent>\r\n    </dc:creator>\r\n   </cc:Work>\r\n  </rdf:RDF>\r\n </metadata>\r\n <defs>\r\n  <style type=\"text/css\">*{stroke-linecap:butt;stroke-linejoin:round;}</style>\r\n </defs>\r\n <g id=\"figure_1\">\r\n  <g id=\"patch_1\">\r\n   <path d=\"M -0 251.846694 \r\nL 374.562825 251.846694 \r\nL 374.562825 0 \r\nL -0 0 \r\nz\r\n\" style=\"fill:none;\"/>\r\n  </g>\r\n  <g id=\"axes_1\">\r\n   <g id=\"patch_2\">\r\n    <path d=\"M 26.925 227.968569 \r\nL 361.725 227.968569 \r\nL 361.725 10.528569 \r\nL 26.925 10.528569 \r\nz\r\n\" style=\"fill:#ffffff;\"/>\r\n   </g>\r\n   <g id=\"PathCollection_1\">\r\n    <defs>\r\n     <path d=\"M 0 3 \r\nC 0.795609 3 1.55874 2.683901 2.12132 2.12132 \r\nC 2.683901 1.55874 3 0.795609 3 0 \r\nC 3 -0.795609 2.683901 -1.55874 2.12132 -2.12132 \r\nC 1.55874 -2.683901 0.795609 -3 0 -3 \r\nC -0.795609 -3 -1.55874 -2.683901 -2.12132 -2.12132 \r\nC -2.683901 -1.55874 -3 -0.795609 -3 0 \r\nC -3 0.795609 -2.683901 1.55874 -2.12132 2.12132 \r\nC -1.55874 2.683901 -0.795609 3 0 3 \r\nz\r\n\" id=\"m68620057ef\" style=\"stroke:#1f77b4;\"/>\r\n    </defs>\r\n    <g clip-path=\"url(#p33ba5519cb)\">\r\n     <use style=\"fill:#1f77b4;stroke:#1f77b4;\" x=\"42.143182\" xlink:href=\"#m68620057ef\" y=\"218.084933\"/>\r\n     <use style=\"fill:#1f77b4;stroke:#1f77b4;\" x=\"85.623701\" xlink:href=\"#m68620057ef\" y=\"189.845972\"/>\r\n     <use style=\"fill:#1f77b4;stroke:#1f77b4;\" x=\"129.104221\" xlink:href=\"#m68620057ef\" y=\"161.607011\"/>\r\n     <use style=\"fill:#1f77b4;stroke:#1f77b4;\" x=\"172.58474\" xlink:href=\"#m68620057ef\" y=\"133.36805\"/>\r\n     <use style=\"fill:#1f77b4;stroke:#1f77b4;\" x=\"216.06526\" xlink:href=\"#m68620057ef\" y=\"105.129089\"/>\r\n     <use style=\"fill:#1f77b4;stroke:#1f77b4;\" x=\"259.545779\" xlink:href=\"#m68620057ef\" y=\"76.890128\"/>\r\n     <use style=\"fill:#1f77b4;stroke:#1f77b4;\" x=\"303.026299\" xlink:href=\"#m68620057ef\" y=\"48.651167\"/>\r\n     <use style=\"fill:#1f77b4;stroke:#1f77b4;\" x=\"346.506818\" xlink:href=\"#m68620057ef\" y=\"20.412206\"/>\r\n    </g>\r\n   </g>\r\n   <g id=\"matplotlib.axis_1\">\r\n    <g id=\"xtick_1\">\r\n     <g id=\"line2d_1\">\r\n      <defs>\r\n       <path d=\"M 0 0 \r\nL 0 3.5 \r\n\" id=\"m0dea6dbf45\" style=\"stroke:#000000;stroke-width:0.8;\"/>\r\n      </defs>\r\n      <g>\r\n       <use style=\"stroke:#000000;stroke-width:0.8;\" x=\"71.130195\" xlink:href=\"#m0dea6dbf45\" y=\"227.968569\"/>\r\n      </g>\r\n     </g>\r\n     <g id=\"text_1\">\r\n      <!-- −5 -->\r\n      <g transform=\"translate(63.759101 242.567007)scale(0.1 -0.1)\">\r\n       <defs>\r\n        <path d=\"M 678 2272 \r\nL 4684 2272 \r\nL 4684 1741 \r\nL 678 1741 \r\nL 678 2272 \r\nz\r\n\" id=\"DejaVuSans-2212\" transform=\"scale(0.015625)\"/>\r\n        <path d=\"M 691 4666 \r\nL 3169 4666 \r\nL 3169 4134 \r\nL 1269 4134 \r\nL 1269 2991 \r\nQ 1406 3038 1543 3061 \r\nQ 1681 3084 1819 3084 \r\nQ 2600 3084 3056 2656 \r\nQ 3513 2228 3513 1497 \r\nQ 3513 744 3044 326 \r\nQ 2575 -91 1722 -91 \r\nQ 1428 -91 1123 -41 \r\nQ 819 9 494 109 \r\nL 494 744 \r\nQ 775 591 1075 516 \r\nQ 1375 441 1709 441 \r\nQ 2250 441 2565 725 \r\nQ 2881 1009 2881 1497 \r\nQ 2881 1984 2565 2268 \r\nQ 2250 2553 1709 2553 \r\nQ 1456 2553 1204 2497 \r\nQ 953 2441 691 2322 \r\nL 691 4666 \r\nz\r\n\" id=\"DejaVuSans-35\" transform=\"scale(0.015625)\"/>\r\n       </defs>\r\n       <use xlink:href=\"#DejaVuSans-2212\"/>\r\n       <use x=\"83.789062\" xlink:href=\"#DejaVuSans-35\"/>\r\n      </g>\r\n     </g>\r\n    </g>\r\n    <g id=\"xtick_2\">\r\n     <g id=\"line2d_2\">\r\n      <g>\r\n       <use style=\"stroke:#000000;stroke-width:0.8;\" x=\"143.597727\" xlink:href=\"#m0dea6dbf45\" y=\"227.968569\"/>\r\n      </g>\r\n     </g>\r\n     <g id=\"text_2\">\r\n      <!-- 0 -->\r\n      <g transform=\"translate(140.416477 242.567007)scale(0.1 -0.1)\">\r\n       <defs>\r\n        <path d=\"M 2034 4250 \r\nQ 1547 4250 1301 3770 \r\nQ 1056 3291 1056 2328 \r\nQ 1056 1369 1301 889 \r\nQ 1547 409 2034 409 \r\nQ 2525 409 2770 889 \r\nQ 3016 1369 3016 2328 \r\nQ 3016 3291 2770 3770 \r\nQ 2525 4250 2034 4250 \r\nz\r\nM 2034 4750 \r\nQ 2819 4750 3233 4129 \r\nQ 3647 3509 3647 2328 \r\nQ 3647 1150 3233 529 \r\nQ 2819 -91 2034 -91 \r\nQ 1250 -91 836 529 \r\nQ 422 1150 422 2328 \r\nQ 422 3509 836 4129 \r\nQ 1250 4750 2034 4750 \r\nz\r\n\" id=\"DejaVuSans-30\" transform=\"scale(0.015625)\"/>\r\n       </defs>\r\n       <use xlink:href=\"#DejaVuSans-30\"/>\r\n      </g>\r\n     </g>\r\n    </g>\r\n    <g id=\"xtick_3\">\r\n     <g id=\"line2d_3\">\r\n      <g>\r\n       <use style=\"stroke:#000000;stroke-width:0.8;\" x=\"216.06526\" xlink:href=\"#m0dea6dbf45\" y=\"227.968569\"/>\r\n      </g>\r\n     </g>\r\n     <g id=\"text_3\">\r\n      <!-- 5 -->\r\n      <g transform=\"translate(212.88401 242.567007)scale(0.1 -0.1)\">\r\n       <use xlink:href=\"#DejaVuSans-35\"/>\r\n      </g>\r\n     </g>\r\n    </g>\r\n    <g id=\"xtick_4\">\r\n     <g id=\"line2d_4\">\r\n      <g>\r\n       <use style=\"stroke:#000000;stroke-width:0.8;\" x=\"288.532792\" xlink:href=\"#m0dea6dbf45\" y=\"227.968569\"/>\r\n      </g>\r\n     </g>\r\n     <g id=\"text_4\">\r\n      <!-- 10 -->\r\n      <g transform=\"translate(282.170292 242.567007)scale(0.1 -0.1)\">\r\n       <defs>\r\n        <path d=\"M 794 531 \r\nL 1825 531 \r\nL 1825 4091 \r\nL 703 3866 \r\nL 703 4441 \r\nL 1819 4666 \r\nL 2450 4666 \r\nL 2450 531 \r\nL 3481 531 \r\nL 3481 0 \r\nL 794 0 \r\nL 794 531 \r\nz\r\n\" id=\"DejaVuSans-31\" transform=\"scale(0.015625)\"/>\r\n       </defs>\r\n       <use xlink:href=\"#DejaVuSans-31\"/>\r\n       <use x=\"63.623047\" xlink:href=\"#DejaVuSans-30\"/>\r\n      </g>\r\n     </g>\r\n    </g>\r\n    <g id=\"xtick_5\">\r\n     <g id=\"line2d_5\">\r\n      <g>\r\n       <use style=\"stroke:#000000;stroke-width:0.8;\" x=\"361.000325\" xlink:href=\"#m0dea6dbf45\" y=\"227.968569\"/>\r\n      </g>\r\n     </g>\r\n     <g id=\"text_5\">\r\n      <!-- 15 -->\r\n      <g transform=\"translate(354.637825 242.567007)scale(0.1 -0.1)\">\r\n       <use xlink:href=\"#DejaVuSans-31\"/>\r\n       <use x=\"63.623047\" xlink:href=\"#DejaVuSans-35\"/>\r\n      </g>\r\n     </g>\r\n    </g>\r\n   </g>\r\n   <g id=\"matplotlib.axis_2\">\r\n    <g id=\"ytick_1\">\r\n     <g id=\"line2d_6\">\r\n      <defs>\r\n       <path d=\"M 0 0 \r\nL -3.5 0 \r\n\" id=\"me489f9af65\" style=\"stroke:#000000;stroke-width:0.8;\"/>\r\n      </defs>\r\n      <g>\r\n       <use style=\"stroke:#000000;stroke-width:0.8;\" x=\"26.925\" xlink:href=\"#me489f9af65\" y=\"199.258959\"/>\r\n      </g>\r\n     </g>\r\n     <g id=\"text_6\">\r\n      <!-- 5 -->\r\n      <g transform=\"translate(13.5625 203.058178)scale(0.1 -0.1)\">\r\n       <use xlink:href=\"#DejaVuSans-35\"/>\r\n      </g>\r\n     </g>\r\n    </g>\r\n    <g id=\"ytick_2\">\r\n     <g id=\"line2d_7\">\r\n      <g>\r\n       <use style=\"stroke:#000000;stroke-width:0.8;\" x=\"26.925\" xlink:href=\"#me489f9af65\" y=\"152.194024\"/>\r\n      </g>\r\n     </g>\r\n     <g id=\"text_7\">\r\n      <!-- 10 -->\r\n      <g transform=\"translate(7.2 155.993243)scale(0.1 -0.1)\">\r\n       <use xlink:href=\"#DejaVuSans-31\"/>\r\n       <use x=\"63.623047\" xlink:href=\"#DejaVuSans-30\"/>\r\n      </g>\r\n     </g>\r\n    </g>\r\n    <g id=\"ytick_3\">\r\n     <g id=\"line2d_8\">\r\n      <g>\r\n       <use style=\"stroke:#000000;stroke-width:0.8;\" x=\"26.925\" xlink:href=\"#me489f9af65\" y=\"105.129089\"/>\r\n      </g>\r\n     </g>\r\n     <g id=\"text_8\">\r\n      <!-- 15 -->\r\n      <g transform=\"translate(7.2 108.928308)scale(0.1 -0.1)\">\r\n       <use xlink:href=\"#DejaVuSans-31\"/>\r\n       <use x=\"63.623047\" xlink:href=\"#DejaVuSans-35\"/>\r\n      </g>\r\n     </g>\r\n    </g>\r\n    <g id=\"ytick_4\">\r\n     <g id=\"line2d_9\">\r\n      <g>\r\n       <use style=\"stroke:#000000;stroke-width:0.8;\" x=\"26.925\" xlink:href=\"#me489f9af65\" y=\"58.064154\"/>\r\n      </g>\r\n     </g>\r\n     <g id=\"text_9\">\r\n      <!-- 20 -->\r\n      <g transform=\"translate(7.2 61.863373)scale(0.1 -0.1)\">\r\n       <defs>\r\n        <path d=\"M 1228 531 \r\nL 3431 531 \r\nL 3431 0 \r\nL 469 0 \r\nL 469 531 \r\nQ 828 903 1448 1529 \r\nQ 2069 2156 2228 2338 \r\nQ 2531 2678 2651 2914 \r\nQ 2772 3150 2772 3378 \r\nQ 2772 3750 2511 3984 \r\nQ 2250 4219 1831 4219 \r\nQ 1534 4219 1204 4116 \r\nQ 875 4013 500 3803 \r\nL 500 4441 \r\nQ 881 4594 1212 4672 \r\nQ 1544 4750 1819 4750 \r\nQ 2544 4750 2975 4387 \r\nQ 3406 4025 3406 3419 \r\nQ 3406 3131 3298 2873 \r\nQ 3191 2616 2906 2266 \r\nQ 2828 2175 2409 1742 \r\nQ 1991 1309 1228 531 \r\nz\r\n\" id=\"DejaVuSans-32\" transform=\"scale(0.015625)\"/>\r\n       </defs>\r\n       <use xlink:href=\"#DejaVuSans-32\"/>\r\n       <use x=\"63.623047\" xlink:href=\"#DejaVuSans-30\"/>\r\n      </g>\r\n     </g>\r\n    </g>\r\n    <g id=\"ytick_5\">\r\n     <g id=\"line2d_10\">\r\n      <g>\r\n       <use style=\"stroke:#000000;stroke-width:0.8;\" x=\"26.925\" xlink:href=\"#me489f9af65\" y=\"10.999219\"/>\r\n      </g>\r\n     </g>\r\n     <g id=\"text_10\">\r\n      <!-- 25 -->\r\n      <g transform=\"translate(7.2 14.798437)scale(0.1 -0.1)\">\r\n       <use xlink:href=\"#DejaVuSans-32\"/>\r\n       <use x=\"63.623047\" xlink:href=\"#DejaVuSans-35\"/>\r\n      </g>\r\n     </g>\r\n    </g>\r\n   </g>\r\n   <g id=\"patch_3\">\r\n    <path d=\"M 26.925 227.968569 \r\nL 26.925 10.528569 \r\n\" style=\"fill:none;stroke:#000000;stroke-linecap:square;stroke-linejoin:miter;stroke-width:0.8;\"/>\r\n   </g>\r\n   <g id=\"patch_4\">\r\n    <path d=\"M 361.725 227.968569 \r\nL 361.725 10.528569 \r\n\" style=\"fill:none;stroke:#000000;stroke-linecap:square;stroke-linejoin:miter;stroke-width:0.8;\"/>\r\n   </g>\r\n   <g id=\"patch_5\">\r\n    <path d=\"M 26.925 227.968569 \r\nL 361.725 227.968569 \r\n\" style=\"fill:none;stroke:#000000;stroke-linecap:square;stroke-linejoin:miter;stroke-width:0.8;\"/>\r\n   </g>\r\n   <g id=\"patch_6\">\r\n    <path d=\"M 26.925 10.528569 \r\nL 361.725 10.528569 \r\n\" style=\"fill:none;stroke:#000000;stroke-linecap:square;stroke-linejoin:miter;stroke-width:0.8;\"/>\r\n   </g>\r\n  </g>\r\n </g>\r\n <defs>\r\n  <clipPath id=\"p33ba5519cb\">\r\n   <rect height=\"217.44\" width=\"334.8\" x=\"26.925\" y=\"10.528569\"/>\r\n  </clipPath>\r\n </defs>\r\n</svg>\r\n",
      "image/png": "[encoded data removed]"
     },
     "metadata": {
      "needs_background": "light"
     }
    }
   ],
   "source": [
    "# feature 특성, 변수\n",
    "X = tf.constant([-7.0, -4.0, -1.0, 2.0, 5.0, 8.0, 11.0, 14.0])\n",
    "\n",
    "# Label\n",
    "y = tf.constant([3.0, 6.0, 9.0, 12.0, 15.0, 18.0, 21.0, 24.0])\n",
    "\n",
    "plt.scatter(X,y)"
   ]
  },
  {
   "cell_type": "code",
   "execution_count": 71,
   "metadata": {},
   "outputs": [
    {
     "output_type": "execute_result",
     "data": {
      "text/plain": [
       "((), tuple, 0, (), tuple, 0)"
      ]
     },
     "metadata": {},
     "execution_count": 71
    }
   ],
   "source": [
    "input_shape = X[0].shape\n",
    "output_shape = y[0].shape\n",
    "\n",
    "input_shape, type(input_shape), X[0].ndim, output_shape, type(output_shape), y[0].ndim"
   ]
  },
  {
   "cell_type": "code",
   "execution_count": 32,
   "metadata": {},
   "outputs": [
    {
     "output_type": "execute_result",
     "data": {
      "text/plain": [
       "(<tf.Tensor: shape=(), dtype=float32, numpy=-7.0>,\n",
       " <tf.Tensor: shape=(), dtype=float32, numpy=3.0>)"
      ]
     },
     "metadata": {},
     "execution_count": 32
    }
   ],
   "source": [
    "X[0], y[0]"
   ]
  },
  {
   "source": [
    "## 모델링 과정\n",
    "### 현재의 우리가 알고 있는 데이터, 입력의 shape, 출력의 shape,\n",
    "\n",
    "일반적으로 tensorflow 에서는 모델을 생성하고 학습할 때 3단계를 실행 \n",
    "\n",
    "1. **모델 정의** : 우리가 직접 신경망 (neural network)를 구성하는 레이어를 정의하거나 (전이학습시) 이전에 만들어 놓은 모델을 불러온다.  \n",
    "2. **모델 컴파일** : 모델이 어떻게 실행될지 정의, 측정값 (손실함수, metric)와 개선을 하는 방법 (optimizer)\n",
    "3. **모델 피팅** : 데이터에서 패턴을 찾도록 모델에게 일을 시킴 (X가 어떻게 y가 될까?)"
   ],
   "cell_type": "markdown",
   "metadata": {}
  },
  {
   "cell_type": "code",
   "execution_count": 72,
   "metadata": {},
   "outputs": [
    {
     "output_type": "stream",
     "name": "stdout",
     "text": [
      "Epoch 1/200\n",
      "2/2 [==============================] - 0s 5ms/step - loss: 19.0311 - mae: 19.0311\n",
      "Epoch 2/200\n",
      "2/2 [==============================] - 0s 6ms/step - loss: 10.8111 - mae: 10.8111\n",
      "Epoch 3/200\n",
      "2/2 [==============================] - 0s 7ms/step - loss: 14.5005 - mae: 14.5005\n",
      "Epoch 4/200\n",
      "2/2 [==============================] - 0s 6ms/step - loss: 10.0958 - mae: 10.0958\n",
      "Epoch 5/200\n",
      "2/2 [==============================] - 0s 7ms/step - loss: 15.5388 - mae: 15.5388\n",
      "Epoch 6/200\n",
      "2/2 [==============================] - 0s 6ms/step - loss: 11.8626 - mae: 11.8626\n",
      "Epoch 7/200\n",
      "2/2 [==============================] - 0s 8ms/step - loss: 9.1727 - mae: 9.1727\n",
      "Epoch 8/200\n",
      "2/2 [==============================] - 0s 6ms/step - loss: 13.6143 - mae: 13.6143\n",
      "Epoch 9/200\n",
      "2/2 [==============================] - 0s 8ms/step - loss: 13.8577 - mae: 13.8577\n",
      "Epoch 10/200\n",
      "2/2 [==============================] - 0s 8ms/step - loss: 9.9966 - mae: 9.9966\n",
      "Epoch 11/200\n",
      "2/2 [==============================] - 0s 8ms/step - loss: 9.9685 - mae: 9.9685\n",
      "Epoch 12/200\n",
      "2/2 [==============================] - 0s 6ms/step - loss: 9.9097 - mae: 9.9097\n",
      "Epoch 13/200\n",
      "2/2 [==============================] - 0s 11ms/step - loss: 9.7478 - mae: 9.7478\n",
      "Epoch 14/200\n",
      "2/2 [==============================] - 0s 9ms/step - loss: 10.5485 - mae: 10.5485\n",
      "Epoch 15/200\n",
      "2/2 [==============================] - 0s 5ms/step - loss: 13.7915 - mae: 13.7915\n",
      "Epoch 16/200\n",
      "2/2 [==============================] - 0s 8ms/step - loss: 12.5861 - mae: 12.5861\n",
      "Epoch 17/200\n",
      "2/2 [==============================] - 0s 5ms/step - loss: 10.2180 - mae: 10.2180\n",
      "Epoch 18/200\n",
      "2/2 [==============================] - 0s 7ms/step - loss: 10.1329 - mae: 10.1329\n",
      "Epoch 19/200\n",
      "2/2 [==============================] - 0s 6ms/step - loss: 9.9154 - mae: 9.9154\n",
      "Epoch 20/200\n",
      "2/2 [==============================] - 0s 6ms/step - loss: 12.7204 - mae: 12.7204\n",
      "Epoch 21/200\n",
      "2/2 [==============================] - 0s 8ms/step - loss: 12.9522 - mae: 12.9522\n",
      "Epoch 22/200\n",
      "2/2 [==============================] - 0s 7ms/step - loss: 9.5668 - mae: 9.5668\n",
      "Epoch 23/200\n",
      "2/2 [==============================] - 0s 11ms/step - loss: 9.3870 - mae: 9.3870\n",
      "Epoch 24/200\n",
      "2/2 [==============================] - 0s 8ms/step - loss: 9.7060 - mae: 9.7060\n",
      "Epoch 25/200\n",
      "2/2 [==============================] - 0s 6ms/step - loss: 9.6024 - mae: 9.6024\n",
      "Epoch 26/200\n",
      "2/2 [==============================] - 0s 6ms/step - loss: 9.4918 - mae: 9.4918\n",
      "Epoch 27/200\n",
      "2/2 [==============================] - 0s 6ms/step - loss: 9.7140 - mae: 9.7140\n",
      "Epoch 28/200\n",
      "2/2 [==============================] - 0s 7ms/step - loss: 9.5882 - mae: 9.5882\n",
      "Epoch 29/200\n",
      "2/2 [==============================] - 0s 17ms/step - loss: 9.4746 - mae: 9.4746\n",
      "Epoch 30/200\n",
      "2/2 [==============================] - 0s 7ms/step - loss: 10.0289 - mae: 10.0289\n",
      "Epoch 31/200\n",
      "2/2 [==============================] - 0s 7ms/step - loss: 13.3862 - mae: 13.3862\n",
      "Epoch 32/200\n",
      "2/2 [==============================] - 0s 6ms/step - loss: 9.6345 - mae: 9.6345\n",
      "Epoch 33/200\n",
      "2/2 [==============================] - 0s 7ms/step - loss: 9.5676 - mae: 9.5676\n",
      "Epoch 34/200\n",
      "2/2 [==============================] - 0s 8ms/step - loss: 9.8932 - mae: 9.8932\n",
      "Epoch 35/200\n",
      "2/2 [==============================] - 0s 9ms/step - loss: 10.1582 - mae: 10.1582\n",
      "Epoch 36/200\n",
      "2/2 [==============================] - 0s 9ms/step - loss: 9.5081 - mae: 9.5081\n",
      "Epoch 37/200\n",
      "2/2 [==============================] - 0s 7ms/step - loss: 9.4231 - mae: 9.4231\n",
      "Epoch 38/200\n",
      "2/2 [==============================] - 0s 9ms/step - loss: 9.6222 - mae: 9.6222\n",
      "Epoch 39/200\n",
      "2/2 [==============================] - 0s 8ms/step - loss: 10.3634 - mae: 10.3634\n",
      "Epoch 40/200\n",
      "2/2 [==============================] - 0s 8ms/step - loss: 11.5608 - mae: 11.5608\n",
      "Epoch 41/200\n",
      "2/2 [==============================] - 0s 5ms/step - loss: 9.7365 - mae: 9.7365\n",
      "Epoch 42/200\n",
      "2/2 [==============================] - 0s 8ms/step - loss: 9.3273 - mae: 9.3273\n",
      "Epoch 43/200\n",
      "2/2 [==============================] - 0s 7ms/step - loss: 9.1406 - mae: 9.1406\n",
      "Epoch 44/200\n",
      "2/2 [==============================] - 0s 8ms/step - loss: 9.5279 - mae: 9.5279\n",
      "Epoch 45/200\n",
      "2/2 [==============================] - 0s 6ms/step - loss: 9.6614 - mae: 9.6614\n",
      "Epoch 46/200\n",
      "2/2 [==============================] - 0s 10ms/step - loss: 9.1543 - mae: 9.1543\n",
      "Epoch 47/200\n",
      "2/2 [==============================] - 0s 9ms/step - loss: 9.0604 - mae: 9.0604\n",
      "Epoch 48/200\n",
      "2/2 [==============================] - 0s 6ms/step - loss: 8.7624 - mae: 8.7624\n",
      "Epoch 49/200\n",
      "2/2 [==============================] - 0s 5ms/step - loss: 10.8369 - mae: 10.8369\n",
      "Epoch 50/200\n",
      "2/2 [==============================] - 0s 7ms/step - loss: 8.8573 - mae: 8.8573\n",
      "Epoch 51/200\n",
      "2/2 [==============================] - 0s 8ms/step - loss: 10.3175 - mae: 10.3175\n",
      "Epoch 52/200\n",
      "2/2 [==============================] - 0s 6ms/step - loss: 14.8285 - mae: 14.8285\n",
      "Epoch 53/200\n",
      "2/2 [==============================] - 0s 7ms/step - loss: 8.7053 - mae: 8.7053\n",
      "Epoch 54/200\n",
      "2/2 [==============================] - 0s 8ms/step - loss: 9.4249 - mae: 9.4249\n",
      "Epoch 55/200\n",
      "2/2 [==============================] - 0s 8ms/step - loss: 9.8385 - mae: 9.8385\n",
      "Epoch 56/200\n",
      "2/2 [==============================] - 0s 6ms/step - loss: 12.1663 - mae: 12.1663\n",
      "Epoch 57/200\n",
      "2/2 [==============================] - 0s 8ms/step - loss: 16.1752 - mae: 16.1752\n",
      "Epoch 58/200\n",
      "2/2 [==============================] - 0s 6ms/step - loss: 15.0076 - mae: 15.0076\n",
      "Epoch 59/200\n",
      "2/2 [==============================] - 0s 10ms/step - loss: 15.3698 - mae: 15.3698\n",
      "Epoch 60/200\n",
      "2/2 [==============================] - 0s 6ms/step - loss: 12.5261 - mae: 12.5261\n",
      "Epoch 61/200\n",
      "2/2 [==============================] - 0s 16ms/step - loss: 13.0420 - mae: 13.0420\n",
      "Epoch 62/200\n",
      "2/2 [==============================] - 0s 6ms/step - loss: 10.2323 - mae: 10.2323\n",
      "Epoch 63/200\n",
      "2/2 [==============================] - 0s 8ms/step - loss: 12.0069 - mae: 12.0069\n",
      "Epoch 64/200\n",
      "2/2 [==============================] - 0s 10ms/step - loss: 9.5151 - mae: 9.5151\n",
      "Epoch 65/200\n",
      "2/2 [==============================] - 0s 9ms/step - loss: 8.9926 - mae: 8.9926\n",
      "Epoch 66/200\n",
      "2/2 [==============================] - 0s 7ms/step - loss: 8.9825 - mae: 8.9825\n",
      "Epoch 67/200\n",
      "2/2 [==============================] - 0s 7ms/step - loss: 9.1020 - mae: 9.1020\n",
      "Epoch 68/200\n",
      "2/2 [==============================] - 0s 21ms/step - loss: 9.2138 - mae: 9.2138\n",
      "Epoch 69/200\n",
      "2/2 [==============================] - 0s 5ms/step - loss: 9.2091 - mae: 9.2091\n",
      "Epoch 70/200\n",
      "2/2 [==============================] - 0s 9ms/step - loss: 9.4690 - mae: 9.4690\n",
      "Epoch 71/200\n",
      "2/2 [==============================] - 0s 9ms/step - loss: 8.9142 - mae: 8.9142\n",
      "Epoch 72/200\n",
      "2/2 [==============================] - 0s 6ms/step - loss: 9.9897 - mae: 9.9897\n",
      "Epoch 73/200\n",
      "2/2 [==============================] - 0s 5ms/step - loss: 11.9300 - mae: 11.9300\n",
      "Epoch 74/200\n",
      "2/2 [==============================] - 0s 10ms/step - loss: 8.5859 - mae: 8.5859\n",
      "Epoch 75/200\n",
      "2/2 [==============================] - 0s 6ms/step - loss: 8.7776 - mae: 8.7776\n",
      "Epoch 76/200\n",
      "2/2 [==============================] - 0s 8ms/step - loss: 8.8232 - mae: 8.8232\n",
      "Epoch 77/200\n",
      "2/2 [==============================] - 0s 6ms/step - loss: 8.1895 - mae: 8.1895\n",
      "Epoch 78/200\n",
      "2/2 [==============================] - 0s 9ms/step - loss: 11.2235 - mae: 11.2235\n",
      "Epoch 79/200\n",
      "2/2 [==============================] - 0s 7ms/step - loss: 9.5682 - mae: 9.5682\n",
      "Epoch 80/200\n",
      "2/2 [==============================] - 0s 6ms/step - loss: 13.1783 - mae: 13.1783\n",
      "Epoch 81/200\n",
      "2/2 [==============================] - 0s 6ms/step - loss: 14.3245 - mae: 14.3245\n",
      "Epoch 82/200\n",
      "2/2 [==============================] - 0s 6ms/step - loss: 16.2560 - mae: 16.2560\n",
      "Epoch 83/200\n",
      "2/2 [==============================] - 0s 7ms/step - loss: 9.5568 - mae: 9.5568\n",
      "Epoch 84/200\n",
      "2/2 [==============================] - 0s 11ms/step - loss: 8.6519 - mae: 8.6519\n",
      "Epoch 85/200\n",
      "2/2 [==============================] - 0s 7ms/step - loss: 8.7552 - mae: 8.7552\n",
      "Epoch 86/200\n",
      "2/2 [==============================] - 0s 6ms/step - loss: 9.0234 - mae: 9.0234\n",
      "Epoch 87/200\n",
      "2/2 [==============================] - 0s 5ms/step - loss: 9.1794 - mae: 9.1794\n",
      "Epoch 88/200\n",
      "2/2 [==============================] - 0s 5ms/step - loss: 8.7276 - mae: 8.7276\n",
      "Epoch 89/200\n",
      "2/2 [==============================] - 0s 8ms/step - loss: 8.8707 - mae: 8.8707\n",
      "Epoch 90/200\n",
      "2/2 [==============================] - 0s 6ms/step - loss: 8.6802 - mae: 8.6802\n",
      "Epoch 91/200\n",
      "2/2 [==============================] - 0s 7ms/step - loss: 8.7301 - mae: 8.7301\n",
      "Epoch 92/200\n",
      "2/2 [==============================] - 0s 7ms/step - loss: 8.5968 - mae: 8.5968\n",
      "Epoch 93/200\n",
      "2/2 [==============================] - 0s 7ms/step - loss: 9.1886 - mae: 9.1886\n",
      "Epoch 94/200\n",
      "2/2 [==============================] - 0s 6ms/step - loss: 9.9125 - mae: 9.9125\n",
      "Epoch 95/200\n",
      "2/2 [==============================] - 0s 9ms/step - loss: 12.8242 - mae: 12.8242\n",
      "Epoch 96/200\n",
      "2/2 [==============================] - 0s 9ms/step - loss: 9.1602 - mae: 9.1602\n",
      "Epoch 97/200\n",
      "2/2 [==============================] - 0s 6ms/step - loss: 10.5435 - mae: 10.5435\n",
      "Epoch 98/200\n",
      "2/2 [==============================] - 0s 6ms/step - loss: 14.7497 - mae: 14.7497\n",
      "Epoch 99/200\n",
      "2/2 [==============================] - 0s 7ms/step - loss: 10.8591 - mae: 10.8591\n",
      "Epoch 100/200\n",
      "2/2 [==============================] - 0s 7ms/step - loss: 14.9030 - mae: 14.9030\n",
      "Epoch 101/200\n",
      "2/2 [==============================] - 0s 10ms/step - loss: 9.0196 - mae: 9.0196\n",
      "Epoch 102/200\n",
      "2/2 [==============================] - 0s 7ms/step - loss: 8.5511 - mae: 8.5511\n",
      "Epoch 103/200\n",
      "2/2 [==============================] - 0s 9ms/step - loss: 8.5912 - mae: 8.5912\n",
      "Epoch 104/200\n",
      "2/2 [==============================] - 0s 8ms/step - loss: 8.5674 - mae: 8.5674\n",
      "Epoch 105/200\n",
      "2/2 [==============================] - 0s 6ms/step - loss: 8.6777 - mae: 8.6777\n",
      "Epoch 106/200\n",
      "2/2 [==============================] - 0s 8ms/step - loss: 7.2734 - mae: 7.2734\n",
      "Epoch 107/200\n",
      "2/2 [==============================] - 0s 8ms/step - loss: 8.1767 - mae: 8.1767\n",
      "Epoch 108/200\n",
      "2/2 [==============================] - 0s 6ms/step - loss: 7.7440 - mae: 7.7440\n",
      "Epoch 109/200\n",
      "2/2 [==============================] - 0s 9ms/step - loss: 10.2413 - mae: 10.2413\n",
      "Epoch 110/200\n",
      "2/2 [==============================] - 0s 8ms/step - loss: 9.1103 - mae: 9.1103\n",
      "Epoch 111/200\n",
      "2/2 [==============================] - 0s 7ms/step - loss: 10.6263 - mae: 10.6263\n",
      "Epoch 112/200\n",
      "2/2 [==============================] - 0s 7ms/step - loss: 12.6589 - mae: 12.6589\n",
      "Epoch 113/200\n",
      "2/2 [==============================] - 0s 6ms/step - loss: 13.8105 - mae: 13.8105\n",
      "Epoch 114/200\n",
      "2/2 [==============================] - 0s 14ms/step - loss: 8.0669 - mae: 8.0669\n",
      "Epoch 115/200\n",
      "2/2 [==============================] - 0s 8ms/step - loss: 10.9819 - mae: 10.9819\n",
      "Epoch 116/200\n",
      "2/2 [==============================] - 0s 5ms/step - loss: 12.4756 - mae: 12.4756\n",
      "Epoch 117/200\n",
      "2/2 [==============================] - 0s 9ms/step - loss: 8.2781 - mae: 8.2781\n",
      "Epoch 118/200\n",
      "2/2 [==============================] - 0s 5ms/step - loss: 10.7740 - mae: 10.7740\n",
      "Epoch 119/200\n",
      "2/2 [==============================] - 0s 5ms/step - loss: 11.1183 - mae: 11.1183\n",
      "Epoch 120/200\n",
      "2/2 [==============================] - 0s 5ms/step - loss: 13.5762 - mae: 13.5762\n",
      "Epoch 121/200\n",
      "2/2 [==============================] - 0s 12ms/step - loss: 8.6343 - mae: 8.6343\n",
      "Epoch 122/200\n",
      "2/2 [==============================] - 0s 6ms/step - loss: 14.0679 - mae: 14.0679\n",
      "Epoch 123/200\n",
      "2/2 [==============================] - 0s 6ms/step - loss: 9.8214 - mae: 9.8214\n",
      "Epoch 124/200\n",
      "2/2 [==============================] - 0s 7ms/step - loss: 9.9699 - mae: 9.9699\n",
      "Epoch 125/200\n",
      "2/2 [==============================] - 0s 6ms/step - loss: 11.8233 - mae: 11.8233\n",
      "Epoch 126/200\n",
      "2/2 [==============================] - 0s 6ms/step - loss: 10.9076 - mae: 10.9076\n",
      "Epoch 127/200\n",
      "2/2 [==============================] - 0s 6ms/step - loss: 7.8739 - mae: 7.8739\n",
      "Epoch 128/200\n",
      "2/2 [==============================] - 0s 6ms/step - loss: 8.1369 - mae: 8.1369\n",
      "Epoch 129/200\n",
      "2/2 [==============================] - 0s 7ms/step - loss: 8.0186 - mae: 8.0186\n",
      "Epoch 130/200\n",
      "2/2 [==============================] - 0s 9ms/step - loss: 7.9013 - mae: 7.9013\n",
      "Epoch 131/200\n",
      "2/2 [==============================] - 0s 7ms/step - loss: 8.9659 - mae: 8.9659\n",
      "Epoch 132/200\n",
      "2/2 [==============================] - 0s 6ms/step - loss: 10.2800 - mae: 10.2800\n",
      "Epoch 133/200\n",
      "2/2 [==============================] - 0s 10ms/step - loss: 10.8947 - mae: 10.8947\n",
      "Epoch 134/200\n",
      "2/2 [==============================] - 0s 11ms/step - loss: 13.5971 - mae: 13.5971\n",
      "Epoch 135/200\n",
      "2/2 [==============================] - 0s 6ms/step - loss: 8.4804 - mae: 8.4804\n",
      "Epoch 136/200\n",
      "2/2 [==============================] - 0s 6ms/step - loss: 10.5708 - mae: 10.5708\n",
      "Epoch 137/200\n",
      "2/2 [==============================] - 0s 6ms/step - loss: 11.5805 - mae: 11.5805\n",
      "Epoch 138/200\n",
      "2/2 [==============================] - 0s 7ms/step - loss: 15.4392 - mae: 15.4392\n",
      "Epoch 139/200\n",
      "2/2 [==============================] - 0s 5ms/step - loss: 12.7165 - mae: 12.7165\n",
      "Epoch 140/200\n",
      "2/2 [==============================] - 0s 14ms/step - loss: 9.7439 - mae: 9.7439\n",
      "Epoch 141/200\n",
      "2/2 [==============================] - 0s 8ms/step - loss: 11.5012 - mae: 11.5012\n",
      "Epoch 142/200\n",
      "2/2 [==============================] - 0s 7ms/step - loss: 14.0706 - mae: 14.0706\n",
      "Epoch 143/200\n",
      "2/2 [==============================] - 0s 6ms/step - loss: 12.4255 - mae: 12.4255\n",
      "Epoch 144/200\n",
      "2/2 [==============================] - 0s 7ms/step - loss: 8.1782 - mae: 8.1782\n",
      "Epoch 145/200\n",
      "2/2 [==============================] - 0s 8ms/step - loss: 11.4459 - mae: 11.4459\n",
      "Epoch 146/200\n",
      "2/2 [==============================] - 0s 7ms/step - loss: 11.8087 - mae: 11.8087\n",
      "Epoch 147/200\n",
      "2/2 [==============================] - 0s 6ms/step - loss: 10.8273 - mae: 10.8273\n",
      "Epoch 148/200\n",
      "2/2 [==============================] - 0s 6ms/step - loss: 7.8547 - mae: 7.8547\n",
      "Epoch 149/200\n",
      "2/2 [==============================] - 0s 8ms/step - loss: 8.1218 - mae: 8.1218\n",
      "Epoch 150/200\n",
      "2/2 [==============================] - 0s 7ms/step - loss: 11.6777 - mae: 11.6777\n",
      "Epoch 151/200\n",
      "2/2 [==============================] - 0s 7ms/step - loss: 13.0088 - mae: 13.0088\n",
      "Epoch 152/200\n",
      "2/2 [==============================] - 0s 6ms/step - loss: 11.5963 - mae: 11.5963\n",
      "Epoch 153/200\n",
      "2/2 [==============================] - 0s 6ms/step - loss: 9.7951 - mae: 9.7951\n",
      "Epoch 154/200\n",
      "2/2 [==============================] - 0s 9ms/step - loss: 14.0224 - mae: 14.0224\n",
      "Epoch 155/200\n",
      "2/2 [==============================] - 0s 7ms/step - loss: 9.5985 - mae: 9.5985\n",
      "Epoch 156/200\n",
      "2/2 [==============================] - 0s 8ms/step - loss: 14.7374 - mae: 14.7374\n",
      "Epoch 157/200\n",
      "2/2 [==============================] - 0s 5ms/step - loss: 8.0130 - mae: 8.0130\n",
      "Epoch 158/200\n",
      "2/2 [==============================] - 0s 5ms/step - loss: 12.5068 - mae: 12.5068\n",
      "Epoch 159/200\n",
      "2/2 [==============================] - 0s 14ms/step - loss: 10.0755 - mae: 10.0755\n",
      "Epoch 160/200\n",
      "2/2 [==============================] - 0s 7ms/step - loss: 8.6410 - mae: 8.6410\n",
      "Epoch 161/200\n",
      "2/2 [==============================] - 0s 7ms/step - loss: 11.1526 - mae: 11.1526\n",
      "Epoch 162/200\n",
      "2/2 [==============================] - 0s 9ms/step - loss: 15.7918 - mae: 15.7918\n",
      "Epoch 163/200\n",
      "2/2 [==============================] - 0s 8ms/step - loss: 10.3693 - mae: 10.3693\n",
      "Epoch 164/200\n",
      "2/2 [==============================] - 0s 6ms/step - loss: 14.1773 - mae: 14.1773\n",
      "Epoch 165/200\n",
      "2/2 [==============================] - 0s 6ms/step - loss: 11.5273 - mae: 11.5273\n",
      "Epoch 166/200\n",
      "2/2 [==============================] - 0s 7ms/step - loss: 15.4768 - mae: 15.4768\n",
      "Epoch 167/200\n",
      "2/2 [==============================] - 0s 6ms/step - loss: 10.5535 - mae: 10.5535\n",
      "Epoch 168/200\n",
      "2/2 [==============================] - 0s 7ms/step - loss: 11.3677 - mae: 11.3677\n",
      "Epoch 169/200\n",
      "2/2 [==============================] - 0s 5ms/step - loss: 13.9696 - mae: 13.9696\n",
      "Epoch 170/200\n",
      "2/2 [==============================] - 0s 5ms/step - loss: 10.1890 - mae: 10.1890\n",
      "Epoch 171/200\n",
      "2/2 [==============================] - 0s 8ms/step - loss: 12.0296 - mae: 12.0296\n",
      "Epoch 172/200\n",
      "2/2 [==============================] - 0s 9ms/step - loss: 16.2740 - mae: 16.2740\n",
      "Epoch 173/200\n",
      "2/2 [==============================] - 0s 6ms/step - loss: 8.1947 - mae: 8.1947\n",
      "Epoch 174/200\n",
      "2/2 [==============================] - 0s 10ms/step - loss: 17.7412 - mae: 17.7412\n",
      "Epoch 175/200\n",
      "2/2 [==============================] - 0s 7ms/step - loss: 12.5840 - mae: 12.5840\n",
      "Epoch 176/200\n",
      "2/2 [==============================] - 0s 7ms/step - loss: 11.4567 - mae: 11.4567\n",
      "Epoch 177/200\n",
      "2/2 [==============================] - 0s 8ms/step - loss: 11.5328 - mae: 11.5328\n",
      "Epoch 178/200\n",
      "2/2 [==============================] - 0s 7ms/step - loss: 7.7219 - mae: 7.7219\n",
      "Epoch 179/200\n",
      "2/2 [==============================] - 0s 8ms/step - loss: 7.5389 - mae: 7.5389\n",
      "Epoch 180/200\n",
      "2/2 [==============================] - 0s 7ms/step - loss: 7.8647 - mae: 7.8647\n",
      "Epoch 181/200\n",
      "2/2 [==============================] - 0s 6ms/step - loss: 12.2128 - mae: 12.2128\n",
      "Epoch 182/200\n",
      "2/2 [==============================] - 0s 7ms/step - loss: 12.1533 - mae: 12.1533\n",
      "Epoch 183/200\n",
      "2/2 [==============================] - 0s 7ms/step - loss: 13.6440 - mae: 13.6440\n",
      "Epoch 184/200\n",
      "2/2 [==============================] - 0s 8ms/step - loss: 15.1668 - mae: 15.1668\n",
      "Epoch 185/200\n",
      "2/2 [==============================] - 0s 6ms/step - loss: 12.3469 - mae: 12.3469\n",
      "Epoch 186/200\n",
      "2/2 [==============================] - 0s 11ms/step - loss: 11.5892 - mae: 11.5892\n",
      "Epoch 187/200\n",
      "2/2 [==============================] - 0s 7ms/step - loss: 10.9386 - mae: 10.9386\n",
      "Epoch 188/200\n",
      "2/2 [==============================] - 0s 8ms/step - loss: 11.3585 - mae: 11.3585\n",
      "Epoch 189/200\n",
      "2/2 [==============================] - 0s 7ms/step - loss: 14.3087 - mae: 14.3087\n",
      "Epoch 190/200\n",
      "2/2 [==============================] - 0s 6ms/step - loss: 15.0053 - mae: 15.0053\n",
      "Epoch 191/200\n",
      "2/2 [==============================] - 0s 6ms/step - loss: 8.5054 - mae: 8.5054\n",
      "Epoch 192/200\n",
      "2/2 [==============================] - 0s 11ms/step - loss: 13.6965 - mae: 13.6965\n",
      "Epoch 193/200\n",
      "2/2 [==============================] - 0s 5ms/step - loss: 8.6019 - mae: 8.6019\n",
      "Epoch 194/200\n",
      "2/2 [==============================] - 0s 6ms/step - loss: 10.8932 - mae: 10.8932\n",
      "Epoch 195/200\n",
      "2/2 [==============================] - 0s 5ms/step - loss: 14.1521 - mae: 14.1521\n",
      "Epoch 196/200\n",
      "2/2 [==============================] - 0s 11ms/step - loss: 10.7364 - mae: 10.7364\n",
      "Epoch 197/200\n",
      "2/2 [==============================] - 0s 7ms/step - loss: 8.1122 - mae: 8.1122\n",
      "Epoch 198/200\n",
      "2/2 [==============================] - 0s 9ms/step - loss: 10.7321 - mae: 10.7321\n",
      "Epoch 199/200\n",
      "2/2 [==============================] - 0s 6ms/step - loss: 12.7166 - mae: 12.7166\n",
      "Epoch 200/200\n",
      "2/2 [==============================] - 0s 6ms/step - loss: 10.0581 - mae: 10.0581\n"
     ]
    },
    {
     "output_type": "execute_result",
     "data": {
      "text/plain": [
       "<tensorflow.python.keras.callbacks.History at 0x293a193d4c0>"
      ]
     },
     "metadata": {},
     "execution_count": 72
    }
   ],
   "source": [
    "## TODO : tf의 seed에 대해 정리 하기 \n",
    "tf.random.set_seed(42)\n",
    "\n",
    "model = tf.keras.Sequential([\n",
    "    tf.keras.layers.Dense(1)\n",
    "])\n",
    "\n",
    "model.compile(\n",
    "    loss = tf.keras.losses.mae,\n",
    "    optimizer = tf.keras.optimizers.SGD(),\n",
    "    metrics=[\"mae\"]\n",
    ")\n",
    "\n",
    "## epochs 의 의미 파악 \n",
    "model.fit(X, y, epochs=200)"
   ]
  },
  {
   "cell_type": "code",
   "execution_count": 73,
   "metadata": {},
   "outputs": [
    {
     "output_type": "execute_result",
     "data": {
      "text/plain": [
       "array([[23.759577],\n",
       "       [-9.767068]], dtype=float32)"
      ]
     },
     "metadata": {},
     "execution_count": 73
    }
   ],
   "source": [
    "model.predict([17.0, -10.]) # epoch 200"
   ]
  },
  {
   "source": [
    "### 위 모델의 결과를 봤을 때 27과 0을 생각했는데 많이 다르다\n",
    "### 어떻게 해야 할까? \n",
    "\n",
    "## 모델 개선시키기 \n",
    "\n",
    "1. **모델 정의 부분** : 레이어를 추가하거나, 레이어를 이루는 neuron 단위를 추가, 활성 함수를 변경\n",
    "2. **모델 컴파일 부분** : optimizer를 변경, 최적화 함수를 수행하는 learning rate를 변경\n",
    "3. **모델 피팅** : epoch를 늘려주거나, 데이터를 더 많이 준다.\n"
   ],
   "cell_type": "markdown",
   "metadata": {}
  },
  {
   "cell_type": "code",
   "execution_count": 35,
   "metadata": {},
   "outputs": [
    {
     "output_type": "execute_result",
     "data": {
      "text/plain": [
       "array([-100,  -96,  -92,  -88,  -84,  -80,  -76,  -72,  -68,  -64,  -60,\n",
       "        -56,  -52,  -48,  -44,  -40,  -36,  -32,  -28,  -24,  -20,  -16,\n",
       "        -12,   -8,   -4,    0,    4,    8,   12,   16,   20,   24,   28,\n",
       "         32,   36,   40,   44,   48,   52,   56,   60,   64,   68,   72,\n",
       "         76,   80,   84,   88,   92,   96])"
      ]
     },
     "metadata": {},
     "execution_count": 35
    }
   ],
   "source": [
    "X = np.arange(-100, 100, 4)\n",
    "X"
   ]
  },
  {
   "cell_type": "code",
   "execution_count": 36,
   "metadata": {},
   "outputs": [
    {
     "output_type": "execute_result",
     "data": {
      "text/plain": [
       "array([-90, -86, -82, -78, -74, -70, -66, -62, -58, -54, -50, -46, -42,\n",
       "       -38, -34, -30, -26, -22, -18, -14, -10,  -6,  -2,   2,   6,  10,\n",
       "        14,  18,  22,  26,  30,  34,  38,  42,  46,  50,  54,  58,  62,\n",
       "        66,  70,  74,  78,  82,  86,  90,  94,  98, 102, 106])"
      ]
     },
     "metadata": {},
     "execution_count": 36
    }
   ],
   "source": [
    "y = np.arange(-90, 110, 4)\n",
    "y"
   ]
  },
  {
   "cell_type": "code",
   "execution_count": 37,
   "metadata": {},
   "outputs": [
    {
     "output_type": "execute_result",
     "data": {
      "text/plain": [
       "array([-90, -86, -82, -78, -74, -70, -66, -62, -58, -54, -50, -46, -42,\n",
       "       -38, -34, -30, -26, -22, -18, -14, -10,  -6,  -2,   2,   6,  10,\n",
       "        14,  18,  22,  26,  30,  34,  38,  42,  46,  50,  54,  58,  62,\n",
       "        66,  70,  74,  78,  82,  86,  90,  94,  98, 102, 106])"
      ]
     },
     "metadata": {},
     "execution_count": 37
    }
   ],
   "source": [
    "# 원래 X, y의 관계 y = X+10의 관계\n",
    "y = X+10\n",
    "y"
   ]
  },
  {
   "cell_type": "code",
   "execution_count": 38,
   "metadata": {},
   "outputs": [
    {
     "output_type": "execute_result",
     "data": {
      "text/plain": [
       "(50, 50)"
      ]
     },
     "metadata": {},
     "execution_count": 38
    }
   ],
   "source": [
    "len(X), len(y)"
   ]
  },
  {
   "cell_type": "code",
   "execution_count": 39,
   "metadata": {},
   "outputs": [
    {
     "output_type": "execute_result",
     "data": {
      "text/plain": [
       "(40, 10)"
      ]
     },
     "metadata": {},
     "execution_count": 39
    }
   ],
   "source": [
    "# 보통 학습 및 테스트 데이터를 나눌 때 80:20의 비율을 사용 \n",
    "X_train = X[:40]\n",
    "y_train = y[:40]\n",
    "\n",
    "X_test = X[40:]\n",
    "y_test = y[40:]\n",
    "\n",
    "len(X_train), len(X_test)"
   ]
  },
  {
   "cell_type": "code",
   "execution_count": 40,
   "metadata": {},
   "outputs": [
    {
     "output_type": "execute_result",
     "data": {
      "text/plain": [
       "<matplotlib.legend.Legend at 0x2939d9e2550>"
      ]
     },
     "metadata": {},
     "execution_count": 40
    },
    {
     "output_type": "display_data",
     "data": {
      "text/plain": "<Figure size 720x504 with 1 Axes>",
      "image/svg+xml": "<?xml version=\"1.0\" encoding=\"utf-8\" standalone=\"no\"?>\r\n<!DOCTYPE svg PUBLIC \"-//W3C//DTD SVG 1.1//EN\"\r\n  \"http://www.w3.org/Graphics/SVG/1.1/DTD/svg11.dtd\">\r\n<svg height=\"411.598125pt\" version=\"1.1\" viewBox=\"0 0 600.504688 411.598125\" width=\"600.504688pt\" xmlns=\"http://www.w3.org/2000/svg\" xmlns:xlink=\"http://www.w3.org/1999/xlink\">\r\n <metadata>\r\n  <rdf:RDF xmlns:cc=\"http://creativecommons.org/ns#\" xmlns:dc=\"http://purl.org/dc/elements/1.1/\" xmlns:rdf=\"http://www.w3.org/1999/02/22-rdf-syntax-ns#\">\r\n   <cc:Work>\r\n    <dc:type rdf:resource=\"http://purl.org/dc/dcmitype/StillImage\"/>\r\n    <dc:date>2021-05-30T11:18:32.355239</dc:date>\r\n    <dc:format>image/svg+xml</dc:format>\r\n    <dc:creator>\r\n     <cc:Agent>\r\n      <dc:title>Matplotlib v3.4.2, https://matplotlib.org/</dc:title>\r\n     </cc:Agent>\r\n    </dc:creator>\r\n   </cc:Work>\r\n  </rdf:RDF>\r\n </metadata>\r\n <defs>\r\n  <style type=\"text/css\">*{stroke-linecap:butt;stroke-linejoin:round;}</style>\r\n </defs>\r\n <g id=\"figure_1\">\r\n  <g id=\"patch_1\">\r\n   <path d=\"M 0 411.598125 \r\nL 600.504688 411.598125 \r\nL 600.504688 0 \r\nL 0 0 \r\nz\r\n\" style=\"fill:none;\"/>\r\n  </g>\r\n  <g id=\"axes_1\">\r\n   <g id=\"patch_2\">\r\n    <path d=\"M 35.304688 387.72 \r\nL 593.304688 387.72 \r\nL 593.304688 7.2 \r\nL 35.304688 7.2 \r\nz\r\n\" style=\"fill:#ffffff;\"/>\r\n   </g>\r\n   <g id=\"PathCollection_1\">\r\n    <defs>\r\n     <path d=\"M 0 3 \r\nC 0.795609 3 1.55874 2.683901 2.12132 2.12132 \r\nC 2.683901 1.55874 3 0.795609 3 0 \r\nC 3 -0.795609 2.683901 -1.55874 2.12132 -2.12132 \r\nC 1.55874 -2.683901 0.795609 -3 0 -3 \r\nC -0.795609 -3 -1.55874 -2.683901 -2.12132 -2.12132 \r\nC -2.683901 -1.55874 -3 -0.795609 -3 0 \r\nC -3 0.795609 -2.683901 1.55874 -2.12132 2.12132 \r\nC -1.55874 2.683901 -0.795609 3 0 3 \r\nz\r\n\" id=\"ma2d3376e68\" style=\"stroke:#0000ff;\"/>\r\n    </defs>\r\n    <g clip-path=\"url(#paed0e22355)\">\r\n     <use style=\"fill:#0000ff;stroke:#0000ff;\" x=\"60.668324\" xlink:href=\"#ma2d3376e68\" y=\"370.423636\"/>\r\n     <use style=\"fill:#0000ff;stroke:#0000ff;\" x=\"71.020829\" xlink:href=\"#ma2d3376e68\" y=\"363.363896\"/>\r\n     <use style=\"fill:#0000ff;stroke:#0000ff;\" x=\"81.373333\" xlink:href=\"#ma2d3376e68\" y=\"356.304156\"/>\r\n     <use style=\"fill:#0000ff;stroke:#0000ff;\" x=\"91.725838\" xlink:href=\"#ma2d3376e68\" y=\"349.244416\"/>\r\n     <use style=\"fill:#0000ff;stroke:#0000ff;\" x=\"102.078342\" xlink:href=\"#ma2d3376e68\" y=\"342.184675\"/>\r\n     <use style=\"fill:#0000ff;stroke:#0000ff;\" x=\"112.430847\" xlink:href=\"#ma2d3376e68\" y=\"335.124935\"/>\r\n     <use style=\"fill:#0000ff;stroke:#0000ff;\" x=\"122.783352\" xlink:href=\"#ma2d3376e68\" y=\"328.065195\"/>\r\n     <use style=\"fill:#0000ff;stroke:#0000ff;\" x=\"133.135856\" xlink:href=\"#ma2d3376e68\" y=\"321.005455\"/>\r\n     <use style=\"fill:#0000ff;stroke:#0000ff;\" x=\"143.488361\" xlink:href=\"#ma2d3376e68\" y=\"313.945714\"/>\r\n     <use style=\"fill:#0000ff;stroke:#0000ff;\" x=\"153.840866\" xlink:href=\"#ma2d3376e68\" y=\"306.885974\"/>\r\n     <use style=\"fill:#0000ff;stroke:#0000ff;\" x=\"164.19337\" xlink:href=\"#ma2d3376e68\" y=\"299.826234\"/>\r\n     <use style=\"fill:#0000ff;stroke:#0000ff;\" x=\"174.545875\" xlink:href=\"#ma2d3376e68\" y=\"292.766494\"/>\r\n     <use style=\"fill:#0000ff;stroke:#0000ff;\" x=\"184.89838\" xlink:href=\"#ma2d3376e68\" y=\"285.706753\"/>\r\n     <use style=\"fill:#0000ff;stroke:#0000ff;\" x=\"195.250884\" xlink:href=\"#ma2d3376e68\" y=\"278.647013\"/>\r\n     <use style=\"fill:#0000ff;stroke:#0000ff;\" x=\"205.603389\" xlink:href=\"#ma2d3376e68\" y=\"271.587273\"/>\r\n     <use style=\"fill:#0000ff;stroke:#0000ff;\" x=\"215.955893\" xlink:href=\"#ma2d3376e68\" y=\"264.527532\"/>\r\n     <use style=\"fill:#0000ff;stroke:#0000ff;\" x=\"226.308398\" xlink:href=\"#ma2d3376e68\" y=\"257.467792\"/>\r\n     <use style=\"fill:#0000ff;stroke:#0000ff;\" x=\"236.660903\" xlink:href=\"#ma2d3376e68\" y=\"250.408052\"/>\r\n     <use style=\"fill:#0000ff;stroke:#0000ff;\" x=\"247.013407\" xlink:href=\"#ma2d3376e68\" y=\"243.348312\"/>\r\n     <use style=\"fill:#0000ff;stroke:#0000ff;\" x=\"257.365912\" xlink:href=\"#ma2d3376e68\" y=\"236.288571\"/>\r\n     <use style=\"fill:#0000ff;stroke:#0000ff;\" x=\"267.718417\" xlink:href=\"#ma2d3376e68\" y=\"229.228831\"/>\r\n     <use style=\"fill:#0000ff;stroke:#0000ff;\" x=\"278.070921\" xlink:href=\"#ma2d3376e68\" y=\"222.169091\"/>\r\n     <use style=\"fill:#0000ff;stroke:#0000ff;\" x=\"288.423426\" xlink:href=\"#ma2d3376e68\" y=\"215.109351\"/>\r\n     <use style=\"fill:#0000ff;stroke:#0000ff;\" x=\"298.775931\" xlink:href=\"#ma2d3376e68\" y=\"208.04961\"/>\r\n     <use style=\"fill:#0000ff;stroke:#0000ff;\" x=\"309.128435\" xlink:href=\"#ma2d3376e68\" y=\"200.98987\"/>\r\n     <use style=\"fill:#0000ff;stroke:#0000ff;\" x=\"319.48094\" xlink:href=\"#ma2d3376e68\" y=\"193.93013\"/>\r\n     <use style=\"fill:#0000ff;stroke:#0000ff;\" x=\"329.833444\" xlink:href=\"#ma2d3376e68\" y=\"186.87039\"/>\r\n     <use style=\"fill:#0000ff;stroke:#0000ff;\" x=\"340.185949\" xlink:href=\"#ma2d3376e68\" y=\"179.810649\"/>\r\n     <use style=\"fill:#0000ff;stroke:#0000ff;\" x=\"350.538454\" xlink:href=\"#ma2d3376e68\" y=\"172.750909\"/>\r\n     <use style=\"fill:#0000ff;stroke:#0000ff;\" x=\"360.890958\" xlink:href=\"#ma2d3376e68\" y=\"165.691169\"/>\r\n     <use style=\"fill:#0000ff;stroke:#0000ff;\" x=\"371.243463\" xlink:href=\"#ma2d3376e68\" y=\"158.631429\"/>\r\n     <use style=\"fill:#0000ff;stroke:#0000ff;\" x=\"381.595968\" xlink:href=\"#ma2d3376e68\" y=\"151.571688\"/>\r\n     <use style=\"fill:#0000ff;stroke:#0000ff;\" x=\"391.948472\" xlink:href=\"#ma2d3376e68\" y=\"144.511948\"/>\r\n     <use style=\"fill:#0000ff;stroke:#0000ff;\" x=\"402.300977\" xlink:href=\"#ma2d3376e68\" y=\"137.452208\"/>\r\n     <use style=\"fill:#0000ff;stroke:#0000ff;\" x=\"412.653482\" xlink:href=\"#ma2d3376e68\" y=\"130.392468\"/>\r\n     <use style=\"fill:#0000ff;stroke:#0000ff;\" x=\"423.005986\" xlink:href=\"#ma2d3376e68\" y=\"123.332727\"/>\r\n     <use style=\"fill:#0000ff;stroke:#0000ff;\" x=\"433.358491\" xlink:href=\"#ma2d3376e68\" y=\"116.272987\"/>\r\n     <use style=\"fill:#0000ff;stroke:#0000ff;\" x=\"443.710995\" xlink:href=\"#ma2d3376e68\" y=\"109.213247\"/>\r\n     <use style=\"fill:#0000ff;stroke:#0000ff;\" x=\"454.0635\" xlink:href=\"#ma2d3376e68\" y=\"102.153506\"/>\r\n     <use style=\"fill:#0000ff;stroke:#0000ff;\" x=\"464.416005\" xlink:href=\"#ma2d3376e68\" y=\"95.093766\"/>\r\n    </g>\r\n   </g>\r\n   <g id=\"PathCollection_2\">\r\n    <defs>\r\n     <path d=\"M 0 3 \r\nC 0.795609 3 1.55874 2.683901 2.12132 2.12132 \r\nC 2.683901 1.55874 3 0.795609 3 0 \r\nC 3 -0.795609 2.683901 -1.55874 2.12132 -2.12132 \r\nC 1.55874 -2.683901 0.795609 -3 0 -3 \r\nC -0.795609 -3 -1.55874 -2.683901 -2.12132 -2.12132 \r\nC -2.683901 -1.55874 -3 -0.795609 -3 0 \r\nC -3 0.795609 -2.683901 1.55874 -2.12132 2.12132 \r\nC -1.55874 2.683901 -0.795609 3 0 3 \r\nz\r\n\" id=\"m96466e1182\" style=\"stroke:#008000;\"/>\r\n    </defs>\r\n    <g clip-path=\"url(#paed0e22355)\">\r\n     <use style=\"fill:#008000;stroke:#008000;\" x=\"474.768509\" xlink:href=\"#m96466e1182\" y=\"88.034026\"/>\r\n     <use style=\"fill:#008000;stroke:#008000;\" x=\"485.121014\" xlink:href=\"#m96466e1182\" y=\"80.974286\"/>\r\n     <use style=\"fill:#008000;stroke:#008000;\" x=\"495.473519\" xlink:href=\"#m96466e1182\" y=\"73.914545\"/>\r\n     <use style=\"fill:#008000;stroke:#008000;\" x=\"505.826023\" xlink:href=\"#m96466e1182\" y=\"66.854805\"/>\r\n     <use style=\"fill:#008000;stroke:#008000;\" x=\"516.178528\" xlink:href=\"#m96466e1182\" y=\"59.795065\"/>\r\n     <use style=\"fill:#008000;stroke:#008000;\" x=\"526.531033\" xlink:href=\"#m96466e1182\" y=\"52.735325\"/>\r\n     <use style=\"fill:#008000;stroke:#008000;\" x=\"536.883537\" xlink:href=\"#m96466e1182\" y=\"45.675584\"/>\r\n     <use style=\"fill:#008000;stroke:#008000;\" x=\"547.236042\" xlink:href=\"#m96466e1182\" y=\"38.615844\"/>\r\n     <use style=\"fill:#008000;stroke:#008000;\" x=\"557.588546\" xlink:href=\"#m96466e1182\" y=\"31.556104\"/>\r\n     <use style=\"fill:#008000;stroke:#008000;\" x=\"567.941051\" xlink:href=\"#m96466e1182\" y=\"24.496364\"/>\r\n    </g>\r\n   </g>\r\n   <g id=\"matplotlib.axis_1\">\r\n    <g id=\"xtick_1\">\r\n     <g id=\"line2d_1\">\r\n      <defs>\r\n       <path d=\"M 0 0 \r\nL 0 3.5 \r\n\" id=\"m3578afd95e\" style=\"stroke:#000000;stroke-width:0.8;\"/>\r\n      </defs>\r\n      <g>\r\n       <use style=\"stroke:#000000;stroke-width:0.8;\" x=\"60.668324\" xlink:href=\"#m3578afd95e\" y=\"387.72\"/>\r\n      </g>\r\n     </g>\r\n     <g id=\"text_1\">\r\n      <!-- −100 -->\r\n      <g transform=\"translate(46.93473 402.318437)scale(0.1 -0.1)\">\r\n       <defs>\r\n        <path d=\"M 678 2272 \r\nL 4684 2272 \r\nL 4684 1741 \r\nL 678 1741 \r\nL 678 2272 \r\nz\r\n\" id=\"DejaVuSans-2212\" transform=\"scale(0.015625)\"/>\r\n        <path d=\"M 794 531 \r\nL 1825 531 \r\nL 1825 4091 \r\nL 703 3866 \r\nL 703 4441 \r\nL 1819 4666 \r\nL 2450 4666 \r\nL 2450 531 \r\nL 3481 531 \r\nL 3481 0 \r\nL 794 0 \r\nL 794 531 \r\nz\r\n\" id=\"DejaVuSans-31\" transform=\"scale(0.015625)\"/>\r\n        <path d=\"M 2034 4250 \r\nQ 1547 4250 1301 3770 \r\nQ 1056 3291 1056 2328 \r\nQ 1056 1369 1301 889 \r\nQ 1547 409 2034 409 \r\nQ 2525 409 2770 889 \r\nQ 3016 1369 3016 2328 \r\nQ 3016 3291 2770 3770 \r\nQ 2525 4250 2034 4250 \r\nz\r\nM 2034 4750 \r\nQ 2819 4750 3233 4129 \r\nQ 3647 3509 3647 2328 \r\nQ 3647 1150 3233 529 \r\nQ 2819 -91 2034 -91 \r\nQ 1250 -91 836 529 \r\nQ 422 1150 422 2328 \r\nQ 422 3509 836 4129 \r\nQ 1250 4750 2034 4750 \r\nz\r\n\" id=\"DejaVuSans-30\" transform=\"scale(0.015625)\"/>\r\n       </defs>\r\n       <use xlink:href=\"#DejaVuSans-2212\"/>\r\n       <use x=\"83.789062\" xlink:href=\"#DejaVuSans-31\"/>\r\n       <use x=\"147.412109\" xlink:href=\"#DejaVuSans-30\"/>\r\n       <use x=\"211.035156\" xlink:href=\"#DejaVuSans-30\"/>\r\n      </g>\r\n     </g>\r\n    </g>\r\n    <g id=\"xtick_2\">\r\n     <g id=\"line2d_2\">\r\n      <g>\r\n       <use style=\"stroke:#000000;stroke-width:0.8;\" x=\"125.371478\" xlink:href=\"#m3578afd95e\" y=\"387.72\"/>\r\n      </g>\r\n     </g>\r\n     <g id=\"text_2\">\r\n      <!-- −75 -->\r\n      <g transform=\"translate(114.819134 402.318437)scale(0.1 -0.1)\">\r\n       <defs>\r\n        <path d=\"M 525 4666 \r\nL 3525 4666 \r\nL 3525 4397 \r\nL 1831 0 \r\nL 1172 0 \r\nL 2766 4134 \r\nL 525 4134 \r\nL 525 4666 \r\nz\r\n\" id=\"DejaVuSans-37\" transform=\"scale(0.015625)\"/>\r\n        <path d=\"M 691 4666 \r\nL 3169 4666 \r\nL 3169 4134 \r\nL 1269 4134 \r\nL 1269 2991 \r\nQ 1406 3038 1543 3061 \r\nQ 1681 3084 1819 3084 \r\nQ 2600 3084 3056 2656 \r\nQ 3513 2228 3513 1497 \r\nQ 3513 744 3044 326 \r\nQ 2575 -91 1722 -91 \r\nQ 1428 -91 1123 -41 \r\nQ 819 9 494 109 \r\nL 494 744 \r\nQ 775 591 1075 516 \r\nQ 1375 441 1709 441 \r\nQ 2250 441 2565 725 \r\nQ 2881 1009 2881 1497 \r\nQ 2881 1984 2565 2268 \r\nQ 2250 2553 1709 2553 \r\nQ 1456 2553 1204 2497 \r\nQ 953 2441 691 2322 \r\nL 691 4666 \r\nz\r\n\" id=\"DejaVuSans-35\" transform=\"scale(0.015625)\"/>\r\n       </defs>\r\n       <use xlink:href=\"#DejaVuSans-2212\"/>\r\n       <use x=\"83.789062\" xlink:href=\"#DejaVuSans-37\"/>\r\n       <use x=\"147.412109\" xlink:href=\"#DejaVuSans-35\"/>\r\n      </g>\r\n     </g>\r\n    </g>\r\n    <g id=\"xtick_3\">\r\n     <g id=\"line2d_3\">\r\n      <g>\r\n       <use style=\"stroke:#000000;stroke-width:0.8;\" x=\"190.074632\" xlink:href=\"#m3578afd95e\" y=\"387.72\"/>\r\n      </g>\r\n     </g>\r\n     <g id=\"text_3\">\r\n      <!-- −50 -->\r\n      <g transform=\"translate(179.522288 402.318437)scale(0.1 -0.1)\">\r\n       <use xlink:href=\"#DejaVuSans-2212\"/>\r\n       <use x=\"83.789062\" xlink:href=\"#DejaVuSans-35\"/>\r\n       <use x=\"147.412109\" xlink:href=\"#DejaVuSans-30\"/>\r\n      </g>\r\n     </g>\r\n    </g>\r\n    <g id=\"xtick_4\">\r\n     <g id=\"line2d_4\">\r\n      <g>\r\n       <use style=\"stroke:#000000;stroke-width:0.8;\" x=\"254.777786\" xlink:href=\"#m3578afd95e\" y=\"387.72\"/>\r\n      </g>\r\n     </g>\r\n     <g id=\"text_4\">\r\n      <!-- −25 -->\r\n      <g transform=\"translate(244.225442 402.318437)scale(0.1 -0.1)\">\r\n       <defs>\r\n        <path d=\"M 1228 531 \r\nL 3431 531 \r\nL 3431 0 \r\nL 469 0 \r\nL 469 531 \r\nQ 828 903 1448 1529 \r\nQ 2069 2156 2228 2338 \r\nQ 2531 2678 2651 2914 \r\nQ 2772 3150 2772 3378 \r\nQ 2772 3750 2511 3984 \r\nQ 2250 4219 1831 4219 \r\nQ 1534 4219 1204 4116 \r\nQ 875 4013 500 3803 \r\nL 500 4441 \r\nQ 881 4594 1212 4672 \r\nQ 1544 4750 1819 4750 \r\nQ 2544 4750 2975 4387 \r\nQ 3406 4025 3406 3419 \r\nQ 3406 3131 3298 2873 \r\nQ 3191 2616 2906 2266 \r\nQ 2828 2175 2409 1742 \r\nQ 1991 1309 1228 531 \r\nz\r\n\" id=\"DejaVuSans-32\" transform=\"scale(0.015625)\"/>\r\n       </defs>\r\n       <use xlink:href=\"#DejaVuSans-2212\"/>\r\n       <use x=\"83.789062\" xlink:href=\"#DejaVuSans-32\"/>\r\n       <use x=\"147.412109\" xlink:href=\"#DejaVuSans-35\"/>\r\n      </g>\r\n     </g>\r\n    </g>\r\n    <g id=\"xtick_5\">\r\n     <g id=\"line2d_5\">\r\n      <g>\r\n       <use style=\"stroke:#000000;stroke-width:0.8;\" x=\"319.48094\" xlink:href=\"#m3578afd95e\" y=\"387.72\"/>\r\n      </g>\r\n     </g>\r\n     <g id=\"text_5\">\r\n      <!-- 0 -->\r\n      <g transform=\"translate(316.29969 402.318437)scale(0.1 -0.1)\">\r\n       <use xlink:href=\"#DejaVuSans-30\"/>\r\n      </g>\r\n     </g>\r\n    </g>\r\n    <g id=\"xtick_6\">\r\n     <g id=\"line2d_6\">\r\n      <g>\r\n       <use style=\"stroke:#000000;stroke-width:0.8;\" x=\"384.184094\" xlink:href=\"#m3578afd95e\" y=\"387.72\"/>\r\n      </g>\r\n     </g>\r\n     <g id=\"text_6\">\r\n      <!-- 25 -->\r\n      <g transform=\"translate(377.821594 402.318437)scale(0.1 -0.1)\">\r\n       <use xlink:href=\"#DejaVuSans-32\"/>\r\n       <use x=\"63.623047\" xlink:href=\"#DejaVuSans-35\"/>\r\n      </g>\r\n     </g>\r\n    </g>\r\n    <g id=\"xtick_7\">\r\n     <g id=\"line2d_7\">\r\n      <g>\r\n       <use style=\"stroke:#000000;stroke-width:0.8;\" x=\"448.887248\" xlink:href=\"#m3578afd95e\" y=\"387.72\"/>\r\n      </g>\r\n     </g>\r\n     <g id=\"text_7\">\r\n      <!-- 50 -->\r\n      <g transform=\"translate(442.524748 402.318437)scale(0.1 -0.1)\">\r\n       <use xlink:href=\"#DejaVuSans-35\"/>\r\n       <use x=\"63.623047\" xlink:href=\"#DejaVuSans-30\"/>\r\n      </g>\r\n     </g>\r\n    </g>\r\n    <g id=\"xtick_8\">\r\n     <g id=\"line2d_8\">\r\n      <g>\r\n       <use style=\"stroke:#000000;stroke-width:0.8;\" x=\"513.590402\" xlink:href=\"#m3578afd95e\" y=\"387.72\"/>\r\n      </g>\r\n     </g>\r\n     <g id=\"text_8\">\r\n      <!-- 75 -->\r\n      <g transform=\"translate(507.227902 402.318437)scale(0.1 -0.1)\">\r\n       <use xlink:href=\"#DejaVuSans-37\"/>\r\n       <use x=\"63.623047\" xlink:href=\"#DejaVuSans-35\"/>\r\n      </g>\r\n     </g>\r\n    </g>\r\n    <g id=\"xtick_9\">\r\n     <g id=\"line2d_9\">\r\n      <g>\r\n       <use style=\"stroke:#000000;stroke-width:0.8;\" x=\"578.293556\" xlink:href=\"#m3578afd95e\" y=\"387.72\"/>\r\n      </g>\r\n     </g>\r\n     <g id=\"text_9\">\r\n      <!-- 100 -->\r\n      <g transform=\"translate(568.749806 402.318437)scale(0.1 -0.1)\">\r\n       <use xlink:href=\"#DejaVuSans-31\"/>\r\n       <use x=\"63.623047\" xlink:href=\"#DejaVuSans-30\"/>\r\n       <use x=\"127.246094\" xlink:href=\"#DejaVuSans-30\"/>\r\n      </g>\r\n     </g>\r\n    </g>\r\n   </g>\r\n   <g id=\"matplotlib.axis_2\">\r\n    <g id=\"ytick_1\">\r\n     <g id=\"line2d_10\">\r\n      <defs>\r\n       <path d=\"M 0 0 \r\nL -3.5 0 \r\n\" id=\"md2cb5e26b8\" style=\"stroke:#000000;stroke-width:0.8;\"/>\r\n      </defs>\r\n      <g>\r\n       <use style=\"stroke:#000000;stroke-width:0.8;\" x=\"35.304688\" xlink:href=\"#md2cb5e26b8\" y=\"343.94961\"/>\r\n      </g>\r\n     </g>\r\n     <g id=\"text_10\">\r\n      <!-- −75 -->\r\n      <g transform=\"translate(7.2 347.748829)scale(0.1 -0.1)\">\r\n       <use xlink:href=\"#DejaVuSans-2212\"/>\r\n       <use x=\"83.789062\" xlink:href=\"#DejaVuSans-37\"/>\r\n       <use x=\"147.412109\" xlink:href=\"#DejaVuSans-35\"/>\r\n      </g>\r\n     </g>\r\n    </g>\r\n    <g id=\"ytick_2\">\r\n     <g id=\"line2d_11\">\r\n      <g>\r\n       <use style=\"stroke:#000000;stroke-width:0.8;\" x=\"35.304688\" xlink:href=\"#md2cb5e26b8\" y=\"299.826234\"/>\r\n      </g>\r\n     </g>\r\n     <g id=\"text_11\">\r\n      <!-- −50 -->\r\n      <g transform=\"translate(7.2 303.625453)scale(0.1 -0.1)\">\r\n       <use xlink:href=\"#DejaVuSans-2212\"/>\r\n       <use x=\"83.789062\" xlink:href=\"#DejaVuSans-35\"/>\r\n       <use x=\"147.412109\" xlink:href=\"#DejaVuSans-30\"/>\r\n      </g>\r\n     </g>\r\n    </g>\r\n    <g id=\"ytick_3\">\r\n     <g id=\"line2d_12\">\r\n      <g>\r\n       <use style=\"stroke:#000000;stroke-width:0.8;\" x=\"35.304688\" xlink:href=\"#md2cb5e26b8\" y=\"255.702857\"/>\r\n      </g>\r\n     </g>\r\n     <g id=\"text_12\">\r\n      <!-- −25 -->\r\n      <g transform=\"translate(7.2 259.502076)scale(0.1 -0.1)\">\r\n       <use xlink:href=\"#DejaVuSans-2212\"/>\r\n       <use x=\"83.789062\" xlink:href=\"#DejaVuSans-32\"/>\r\n       <use x=\"147.412109\" xlink:href=\"#DejaVuSans-35\"/>\r\n      </g>\r\n     </g>\r\n    </g>\r\n    <g id=\"ytick_4\">\r\n     <g id=\"line2d_13\">\r\n      <g>\r\n       <use style=\"stroke:#000000;stroke-width:0.8;\" x=\"35.304688\" xlink:href=\"#md2cb5e26b8\" y=\"211.579481\"/>\r\n      </g>\r\n     </g>\r\n     <g id=\"text_13\">\r\n      <!-- 0 -->\r\n      <g transform=\"translate(21.942187 215.378699)scale(0.1 -0.1)\">\r\n       <use xlink:href=\"#DejaVuSans-30\"/>\r\n      </g>\r\n     </g>\r\n    </g>\r\n    <g id=\"ytick_5\">\r\n     <g id=\"line2d_14\">\r\n      <g>\r\n       <use style=\"stroke:#000000;stroke-width:0.8;\" x=\"35.304688\" xlink:href=\"#md2cb5e26b8\" y=\"167.456104\"/>\r\n      </g>\r\n     </g>\r\n     <g id=\"text_14\">\r\n      <!-- 25 -->\r\n      <g transform=\"translate(15.579687 171.255323)scale(0.1 -0.1)\">\r\n       <use xlink:href=\"#DejaVuSans-32\"/>\r\n       <use x=\"63.623047\" xlink:href=\"#DejaVuSans-35\"/>\r\n      </g>\r\n     </g>\r\n    </g>\r\n    <g id=\"ytick_6\">\r\n     <g id=\"line2d_15\">\r\n      <g>\r\n       <use style=\"stroke:#000000;stroke-width:0.8;\" x=\"35.304688\" xlink:href=\"#md2cb5e26b8\" y=\"123.332727\"/>\r\n      </g>\r\n     </g>\r\n     <g id=\"text_15\">\r\n      <!-- 50 -->\r\n      <g transform=\"translate(15.579687 127.131946)scale(0.1 -0.1)\">\r\n       <use xlink:href=\"#DejaVuSans-35\"/>\r\n       <use x=\"63.623047\" xlink:href=\"#DejaVuSans-30\"/>\r\n      </g>\r\n     </g>\r\n    </g>\r\n    <g id=\"ytick_7\">\r\n     <g id=\"line2d_16\">\r\n      <g>\r\n       <use style=\"stroke:#000000;stroke-width:0.8;\" x=\"35.304688\" xlink:href=\"#md2cb5e26b8\" y=\"79.209351\"/>\r\n      </g>\r\n     </g>\r\n     <g id=\"text_16\">\r\n      <!-- 75 -->\r\n      <g transform=\"translate(15.579687 83.008569)scale(0.1 -0.1)\">\r\n       <use xlink:href=\"#DejaVuSans-37\"/>\r\n       <use x=\"63.623047\" xlink:href=\"#DejaVuSans-35\"/>\r\n      </g>\r\n     </g>\r\n    </g>\r\n    <g id=\"ytick_8\">\r\n     <g id=\"line2d_17\">\r\n      <g>\r\n       <use style=\"stroke:#000000;stroke-width:0.8;\" x=\"35.304688\" xlink:href=\"#md2cb5e26b8\" y=\"35.085974\"/>\r\n      </g>\r\n     </g>\r\n     <g id=\"text_17\">\r\n      <!-- 100 -->\r\n      <g transform=\"translate(9.217187 38.885193)scale(0.1 -0.1)\">\r\n       <use xlink:href=\"#DejaVuSans-31\"/>\r\n       <use x=\"63.623047\" xlink:href=\"#DejaVuSans-30\"/>\r\n       <use x=\"127.246094\" xlink:href=\"#DejaVuSans-30\"/>\r\n      </g>\r\n     </g>\r\n    </g>\r\n   </g>\r\n   <g id=\"patch_3\">\r\n    <path d=\"M 35.304688 387.72 \r\nL 35.304688 7.2 \r\n\" style=\"fill:none;stroke:#000000;stroke-linecap:square;stroke-linejoin:miter;stroke-width:0.8;\"/>\r\n   </g>\r\n   <g id=\"patch_4\">\r\n    <path d=\"M 593.304688 387.72 \r\nL 593.304688 7.2 \r\n\" style=\"fill:none;stroke:#000000;stroke-linecap:square;stroke-linejoin:miter;stroke-width:0.8;\"/>\r\n   </g>\r\n   <g id=\"patch_5\">\r\n    <path d=\"M 35.304688 387.72 \r\nL 593.304688 387.72 \r\n\" style=\"fill:none;stroke:#000000;stroke-linecap:square;stroke-linejoin:miter;stroke-width:0.8;\"/>\r\n   </g>\r\n   <g id=\"patch_6\">\r\n    <path d=\"M 35.304688 7.2 \r\nL 593.304688 7.2 \r\n\" style=\"fill:none;stroke:#000000;stroke-linecap:square;stroke-linejoin:miter;stroke-width:0.8;\"/>\r\n   </g>\r\n   <g id=\"legend_1\">\r\n    <g id=\"patch_7\">\r\n     <path d=\"M 42.304688 44.55625 \r\nL 139.459375 44.55625 \r\nQ 141.459375 44.55625 141.459375 42.55625 \r\nL 141.459375 14.2 \r\nQ 141.459375 12.2 139.459375 12.2 \r\nL 42.304688 12.2 \r\nQ 40.304688 12.2 40.304688 14.2 \r\nL 40.304688 42.55625 \r\nQ 40.304688 44.55625 42.304688 44.55625 \r\nz\r\n\" style=\"fill:#ffffff;opacity:0.8;stroke:#cccccc;stroke-linejoin:miter;\"/>\r\n    </g>\r\n    <g id=\"PathCollection_3\">\r\n     <g>\r\n      <use style=\"fill:#0000ff;stroke:#0000ff;\" x=\"54.304688\" xlink:href=\"#ma2d3376e68\" y=\"21.173437\"/>\r\n     </g>\r\n    </g>\r\n    <g id=\"text_18\">\r\n     <!-- Training data -->\r\n     <g transform=\"translate(72.304688 23.798437)scale(0.1 -0.1)\">\r\n      <defs>\r\n       <path d=\"M -19 4666 \r\nL 3928 4666 \r\nL 3928 4134 \r\nL 2272 4134 \r\nL 2272 0 \r\nL 1638 0 \r\nL 1638 4134 \r\nL -19 4134 \r\nL -19 4666 \r\nz\r\n\" id=\"DejaVuSans-54\" transform=\"scale(0.015625)\"/>\r\n       <path d=\"M 2631 2963 \r\nQ 2534 3019 2420 3045 \r\nQ 2306 3072 2169 3072 \r\nQ 1681 3072 1420 2755 \r\nQ 1159 2438 1159 1844 \r\nL 1159 0 \r\nL 581 0 \r\nL 581 3500 \r\nL 1159 3500 \r\nL 1159 2956 \r\nQ 1341 3275 1631 3429 \r\nQ 1922 3584 2338 3584 \r\nQ 2397 3584 2469 3576 \r\nQ 2541 3569 2628 3553 \r\nL 2631 2963 \r\nz\r\n\" id=\"DejaVuSans-72\" transform=\"scale(0.015625)\"/>\r\n       <path d=\"M 2194 1759 \r\nQ 1497 1759 1228 1600 \r\nQ 959 1441 959 1056 \r\nQ 959 750 1161 570 \r\nQ 1363 391 1709 391 \r\nQ 2188 391 2477 730 \r\nQ 2766 1069 2766 1631 \r\nL 2766 1759 \r\nL 2194 1759 \r\nz\r\nM 3341 1997 \r\nL 3341 0 \r\nL 2766 0 \r\nL 2766 531 \r\nQ 2569 213 2275 61 \r\nQ 1981 -91 1556 -91 \r\nQ 1019 -91 701 211 \r\nQ 384 513 384 1019 \r\nQ 384 1609 779 1909 \r\nQ 1175 2209 1959 2209 \r\nL 2766 2209 \r\nL 2766 2266 \r\nQ 2766 2663 2505 2880 \r\nQ 2244 3097 1772 3097 \r\nQ 1472 3097 1187 3025 \r\nQ 903 2953 641 2809 \r\nL 641 3341 \r\nQ 956 3463 1253 3523 \r\nQ 1550 3584 1831 3584 \r\nQ 2591 3584 2966 3190 \r\nQ 3341 2797 3341 1997 \r\nz\r\n\" id=\"DejaVuSans-61\" transform=\"scale(0.015625)\"/>\r\n       <path d=\"M 603 3500 \r\nL 1178 3500 \r\nL 1178 0 \r\nL 603 0 \r\nL 603 3500 \r\nz\r\nM 603 4863 \r\nL 1178 4863 \r\nL 1178 4134 \r\nL 603 4134 \r\nL 603 4863 \r\nz\r\n\" id=\"DejaVuSans-69\" transform=\"scale(0.015625)\"/>\r\n       <path d=\"M 3513 2113 \r\nL 3513 0 \r\nL 2938 0 \r\nL 2938 2094 \r\nQ 2938 2591 2744 2837 \r\nQ 2550 3084 2163 3084 \r\nQ 1697 3084 1428 2787 \r\nQ 1159 2491 1159 1978 \r\nL 1159 0 \r\nL 581 0 \r\nL 581 3500 \r\nL 1159 3500 \r\nL 1159 2956 \r\nQ 1366 3272 1645 3428 \r\nQ 1925 3584 2291 3584 \r\nQ 2894 3584 3203 3211 \r\nQ 3513 2838 3513 2113 \r\nz\r\n\" id=\"DejaVuSans-6e\" transform=\"scale(0.015625)\"/>\r\n       <path d=\"M 2906 1791 \r\nQ 2906 2416 2648 2759 \r\nQ 2391 3103 1925 3103 \r\nQ 1463 3103 1205 2759 \r\nQ 947 2416 947 1791 \r\nQ 947 1169 1205 825 \r\nQ 1463 481 1925 481 \r\nQ 2391 481 2648 825 \r\nQ 2906 1169 2906 1791 \r\nz\r\nM 3481 434 \r\nQ 3481 -459 3084 -895 \r\nQ 2688 -1331 1869 -1331 \r\nQ 1566 -1331 1297 -1286 \r\nQ 1028 -1241 775 -1147 \r\nL 775 -588 \r\nQ 1028 -725 1275 -790 \r\nQ 1522 -856 1778 -856 \r\nQ 2344 -856 2625 -561 \r\nQ 2906 -266 2906 331 \r\nL 2906 616 \r\nQ 2728 306 2450 153 \r\nQ 2172 0 1784 0 \r\nQ 1141 0 747 490 \r\nQ 353 981 353 1791 \r\nQ 353 2603 747 3093 \r\nQ 1141 3584 1784 3584 \r\nQ 2172 3584 2450 3431 \r\nQ 2728 3278 2906 2969 \r\nL 2906 3500 \r\nL 3481 3500 \r\nL 3481 434 \r\nz\r\n\" id=\"DejaVuSans-67\" transform=\"scale(0.015625)\"/>\r\n       <path id=\"DejaVuSans-20\" transform=\"scale(0.015625)\"/>\r\n       <path d=\"M 2906 2969 \r\nL 2906 4863 \r\nL 3481 4863 \r\nL 3481 0 \r\nL 2906 0 \r\nL 2906 525 \r\nQ 2725 213 2448 61 \r\nQ 2172 -91 1784 -91 \r\nQ 1150 -91 751 415 \r\nQ 353 922 353 1747 \r\nQ 353 2572 751 3078 \r\nQ 1150 3584 1784 3584 \r\nQ 2172 3584 2448 3432 \r\nQ 2725 3281 2906 2969 \r\nz\r\nM 947 1747 \r\nQ 947 1113 1208 752 \r\nQ 1469 391 1925 391 \r\nQ 2381 391 2643 752 \r\nQ 2906 1113 2906 1747 \r\nQ 2906 2381 2643 2742 \r\nQ 2381 3103 1925 3103 \r\nQ 1469 3103 1208 2742 \r\nQ 947 2381 947 1747 \r\nz\r\n\" id=\"DejaVuSans-64\" transform=\"scale(0.015625)\"/>\r\n       <path d=\"M 1172 4494 \r\nL 1172 3500 \r\nL 2356 3500 \r\nL 2356 3053 \r\nL 1172 3053 \r\nL 1172 1153 \r\nQ 1172 725 1289 603 \r\nQ 1406 481 1766 481 \r\nL 2356 481 \r\nL 2356 0 \r\nL 1766 0 \r\nQ 1100 0 847 248 \r\nQ 594 497 594 1153 \r\nL 594 3053 \r\nL 172 3053 \r\nL 172 3500 \r\nL 594 3500 \r\nL 594 4494 \r\nL 1172 4494 \r\nz\r\n\" id=\"DejaVuSans-74\" transform=\"scale(0.015625)\"/>\r\n      </defs>\r\n      <use xlink:href=\"#DejaVuSans-54\"/>\r\n      <use x=\"46.333984\" xlink:href=\"#DejaVuSans-72\"/>\r\n      <use x=\"87.447266\" xlink:href=\"#DejaVuSans-61\"/>\r\n      <use x=\"148.726562\" xlink:href=\"#DejaVuSans-69\"/>\r\n      <use x=\"176.509766\" xlink:href=\"#DejaVuSans-6e\"/>\r\n      <use x=\"239.888672\" xlink:href=\"#DejaVuSans-69\"/>\r\n      <use x=\"267.671875\" xlink:href=\"#DejaVuSans-6e\"/>\r\n      <use x=\"331.050781\" xlink:href=\"#DejaVuSans-67\"/>\r\n      <use x=\"394.527344\" xlink:href=\"#DejaVuSans-20\"/>\r\n      <use x=\"426.314453\" xlink:href=\"#DejaVuSans-64\"/>\r\n      <use x=\"489.791016\" xlink:href=\"#DejaVuSans-61\"/>\r\n      <use x=\"551.070312\" xlink:href=\"#DejaVuSans-74\"/>\r\n      <use x=\"590.279297\" xlink:href=\"#DejaVuSans-61\"/>\r\n     </g>\r\n    </g>\r\n    <g id=\"PathCollection_4\">\r\n     <g>\r\n      <use style=\"fill:#008000;stroke:#008000;\" x=\"54.304688\" xlink:href=\"#m96466e1182\" y=\"35.851562\"/>\r\n     </g>\r\n    </g>\r\n    <g id=\"text_19\">\r\n     <!-- Training data -->\r\n     <g transform=\"translate(72.304688 38.476562)scale(0.1 -0.1)\">\r\n      <use xlink:href=\"#DejaVuSans-54\"/>\r\n      <use x=\"46.333984\" xlink:href=\"#DejaVuSans-72\"/>\r\n      <use x=\"87.447266\" xlink:href=\"#DejaVuSans-61\"/>\r\n      <use x=\"148.726562\" xlink:href=\"#DejaVuSans-69\"/>\r\n      <use x=\"176.509766\" xlink:href=\"#DejaVuSans-6e\"/>\r\n      <use x=\"239.888672\" xlink:href=\"#DejaVuSans-69\"/>\r\n      <use x=\"267.671875\" xlink:href=\"#DejaVuSans-6e\"/>\r\n      <use x=\"331.050781\" xlink:href=\"#DejaVuSans-67\"/>\r\n      <use x=\"394.527344\" xlink:href=\"#DejaVuSans-20\"/>\r\n      <use x=\"426.314453\" xlink:href=\"#DejaVuSans-64\"/>\r\n      <use x=\"489.791016\" xlink:href=\"#DejaVuSans-61\"/>\r\n      <use x=\"551.070312\" xlink:href=\"#DejaVuSans-74\"/>\r\n      <use x=\"590.279297\" xlink:href=\"#DejaVuSans-61\"/>\r\n     </g>\r\n    </g>\r\n   </g>\r\n  </g>\r\n </g>\r\n <defs>\r\n  <clipPath id=\"paed0e22355\">\r\n   <rect height=\"380.52\" width=\"558\" x=\"35.304688\" y=\"7.2\"/>\r\n  </clipPath>\r\n </defs>\r\n</svg>\r\n",
      "image/png": "[encoded data removed]"
     },
     "metadata": {
      "needs_background": "light"
     }
    }
   ],
   "source": [
    "plt.figure(figsize=(10,7))\n",
    "plt.scatter(X_train, y_train, c=\"b\", label=\"Training data\")\n",
    "plt.scatter(X_test, y_test, c=\"g\", label=\"Training data\")\n",
    "plt.legend()"
   ]
  },
  {
   "cell_type": "code",
   "execution_count": 41,
   "metadata": {},
   "outputs": [
    {
     "output_type": "stream",
     "name": "stdout",
     "text": [
      "Epoch 1/100\n",
      "2/2 [==============================] - 1s 3ms/step - loss: 19.0311 - mae: 19.0311\n",
      "Epoch 2/100\n",
      "2/2 [==============================] - 0s 4ms/step - loss: 10.8111 - mae: 10.8111\n",
      "Epoch 3/100\n",
      "2/2 [==============================] - 0s 5ms/step - loss: 14.5005 - mae: 14.5005\n",
      "Epoch 4/100\n",
      "2/2 [==============================] - 0s 4ms/step - loss: 10.0958 - mae: 10.0958\n",
      "Epoch 5/100\n",
      "2/2 [==============================] - 0s 3ms/step - loss: 15.5388 - mae: 15.5388\n",
      "Epoch 6/100\n",
      "2/2 [==============================] - 0s 3ms/step - loss: 11.8626 - mae: 11.8626\n",
      "Epoch 7/100\n",
      "2/2 [==============================] - 0s 3ms/step - loss: 9.1727 - mae: 9.1727\n",
      "Epoch 8/100\n",
      "2/2 [==============================] - 0s 3ms/step - loss: 13.6143 - mae: 13.6143\n",
      "Epoch 9/100\n",
      "2/2 [==============================] - 0s 11ms/step - loss: 13.8577 - mae: 13.8577\n",
      "Epoch 10/100\n",
      "2/2 [==============================] - 0s 8ms/step - loss: 9.9966 - mae: 9.9966\n",
      "Epoch 11/100\n",
      "2/2 [==============================] - 0s 5ms/step - loss: 9.9685 - mae: 9.9685\n",
      "Epoch 12/100\n",
      "2/2 [==============================] - 0s 4ms/step - loss: 9.9097 - mae: 9.9097\n",
      "Epoch 13/100\n",
      "2/2 [==============================] - 0s 4ms/step - loss: 9.7478 - mae: 9.7478\n",
      "Epoch 14/100\n",
      "2/2 [==============================] - 0s 4ms/step - loss: 10.5485 - mae: 10.5485\n",
      "Epoch 15/100\n",
      "2/2 [==============================] - 0s 4ms/step - loss: 13.7915 - mae: 13.7915\n",
      "Epoch 16/100\n",
      "2/2 [==============================] - 0s 5ms/step - loss: 12.5861 - mae: 12.5861\n",
      "Epoch 17/100\n",
      "2/2 [==============================] - 0s 5ms/step - loss: 10.2180 - mae: 10.2180\n",
      "Epoch 18/100\n",
      "2/2 [==============================] - 0s 6ms/step - loss: 10.1329 - mae: 10.1329\n",
      "Epoch 19/100\n",
      "2/2 [==============================] - 0s 5ms/step - loss: 9.9154 - mae: 9.9154\n",
      "Epoch 20/100\n",
      "2/2 [==============================] - 0s 3ms/step - loss: 12.7204 - mae: 12.7204\n",
      "Epoch 21/100\n",
      "2/2 [==============================] - 0s 4ms/step - loss: 12.9522 - mae: 12.9522\n",
      "Epoch 22/100\n",
      "2/2 [==============================] - 0s 4ms/step - loss: 9.5668 - mae: 9.5668\n",
      "Epoch 23/100\n",
      "2/2 [==============================] - 0s 8ms/step - loss: 9.3870 - mae: 9.3870\n",
      "Epoch 24/100\n",
      "2/2 [==============================] - 0s 5ms/step - loss: 9.7060 - mae: 9.7060\n",
      "Epoch 25/100\n",
      "2/2 [==============================] - 0s 9ms/step - loss: 9.6024 - mae: 9.6024\n",
      "Epoch 26/100\n",
      "2/2 [==============================] - 0s 4ms/step - loss: 9.4918 - mae: 9.4918\n",
      "Epoch 27/100\n",
      "2/2 [==============================] - 0s 4ms/step - loss: 9.7140 - mae: 9.7140\n",
      "Epoch 28/100\n",
      "2/2 [==============================] - 0s 4ms/step - loss: 9.5882 - mae: 9.5882\n",
      "Epoch 29/100\n",
      "2/2 [==============================] - 0s 3ms/step - loss: 9.4746 - mae: 9.4746\n",
      "Epoch 30/100\n",
      "2/2 [==============================] - 0s 5ms/step - loss: 10.0289 - mae: 10.0289\n",
      "Epoch 31/100\n",
      "2/2 [==============================] - 0s 3ms/step - loss: 13.3862 - mae: 13.3862\n",
      "Epoch 32/100\n",
      "2/2 [==============================] - 0s 4ms/step - loss: 9.6345 - mae: 9.6345\n",
      "Epoch 33/100\n",
      "2/2 [==============================] - 0s 3ms/step - loss: 9.5676 - mae: 9.5676\n",
      "Epoch 34/100\n",
      "2/2 [==============================] - 0s 4ms/step - loss: 9.8932 - mae: 9.8932\n",
      "Epoch 35/100\n",
      "2/2 [==============================] - 0s 4ms/step - loss: 10.1582 - mae: 10.1582\n",
      "Epoch 36/100\n",
      "2/2 [==============================] - 0s 4ms/step - loss: 9.5081 - mae: 9.5081\n",
      "Epoch 37/100\n",
      "2/2 [==============================] - 0s 4ms/step - loss: 9.4231 - mae: 9.4231\n",
      "Epoch 38/100\n",
      "2/2 [==============================] - 0s 8ms/step - loss: 9.6222 - mae: 9.6222\n",
      "Epoch 39/100\n",
      "2/2 [==============================] - 0s 5ms/step - loss: 10.3634 - mae: 10.3634\n",
      "Epoch 40/100\n",
      "2/2 [==============================] - 0s 3ms/step - loss: 11.5608 - mae: 11.5608\n",
      "Epoch 41/100\n",
      "2/2 [==============================] - 0s 3ms/step - loss: 9.7365 - mae: 9.7365\n",
      "Epoch 42/100\n",
      "2/2 [==============================] - 0s 4ms/step - loss: 9.3273 - mae: 9.3273\n",
      "Epoch 43/100\n",
      "2/2 [==============================] - 0s 7ms/step - loss: 9.1406 - mae: 9.1406\n",
      "Epoch 44/100\n",
      "2/2 [==============================] - 0s 3ms/step - loss: 9.5279 - mae: 9.5279\n",
      "Epoch 45/100\n",
      "2/2 [==============================] - 0s 3ms/step - loss: 9.6614 - mae: 9.6614\n",
      "Epoch 46/100\n",
      "2/2 [==============================] - 0s 4ms/step - loss: 9.1543 - mae: 9.1543\n",
      "Epoch 47/100\n",
      "2/2 [==============================] - 0s 6ms/step - loss: 9.0604 - mae: 9.0604\n",
      "Epoch 48/100\n",
      "2/2 [==============================] - 0s 4ms/step - loss: 8.7624 - mae: 8.7624\n",
      "Epoch 49/100\n",
      "2/2 [==============================] - 0s 3ms/step - loss: 10.8369 - mae: 10.8369\n",
      "Epoch 50/100\n",
      "2/2 [==============================] - 0s 4ms/step - loss: 8.8573 - mae: 8.8573\n",
      "Epoch 51/100\n",
      "2/2 [==============================] - 0s 5ms/step - loss: 10.3175 - mae: 10.3175\n",
      "Epoch 52/100\n",
      "2/2 [==============================] - 0s 3ms/step - loss: 14.8285 - mae: 14.8285\n",
      "Epoch 53/100\n",
      "2/2 [==============================] - 0s 3ms/step - loss: 8.7053 - mae: 8.7053\n",
      "Epoch 54/100\n",
      "2/2 [==============================] - 0s 4ms/step - loss: 9.4249 - mae: 9.4249\n",
      "Epoch 55/100\n",
      "2/2 [==============================] - 0s 5ms/step - loss: 9.8385 - mae: 9.8385\n",
      "Epoch 56/100\n",
      "2/2 [==============================] - 0s 3ms/step - loss: 12.1663 - mae: 12.1663\n",
      "Epoch 57/100\n",
      "2/2 [==============================] - 0s 3ms/step - loss: 16.1752 - mae: 16.1752\n",
      "Epoch 58/100\n",
      "2/2 [==============================] - 0s 4ms/step - loss: 15.0076 - mae: 15.0076\n",
      "Epoch 59/100\n",
      "2/2 [==============================] - 0s 10ms/step - loss: 15.3698 - mae: 15.3698\n",
      "Epoch 60/100\n",
      "2/2 [==============================] - 0s 5ms/step - loss: 12.5261 - mae: 12.5261\n",
      "Epoch 61/100\n",
      "2/2 [==============================] - 0s 3ms/step - loss: 13.0420 - mae: 13.0420\n",
      "Epoch 62/100\n",
      "2/2 [==============================] - 0s 3ms/step - loss: 10.2323 - mae: 10.2323\n",
      "Epoch 63/100\n",
      "2/2 [==============================] - 0s 4ms/step - loss: 12.0069 - mae: 12.0069\n",
      "Epoch 64/100\n",
      "2/2 [==============================] - 0s 4ms/step - loss: 9.5151 - mae: 9.5151\n",
      "Epoch 65/100\n",
      "2/2 [==============================] - 0s 5ms/step - loss: 8.9926 - mae: 8.9926\n",
      "Epoch 66/100\n",
      "2/2 [==============================] - 0s 4ms/step - loss: 8.9825 - mae: 8.9825\n",
      "Epoch 67/100\n",
      "2/2 [==============================] - 0s 4ms/step - loss: 9.1020 - mae: 9.1020\n",
      "Epoch 68/100\n",
      "2/2 [==============================] - 0s 3ms/step - loss: 9.2138 - mae: 9.2138\n",
      "Epoch 69/100\n",
      "2/2 [==============================] - 0s 5ms/step - loss: 9.2091 - mae: 9.2091\n",
      "Epoch 70/100\n",
      "2/2 [==============================] - 0s 6ms/step - loss: 9.4690 - mae: 9.4690\n",
      "Epoch 71/100\n",
      "2/2 [==============================] - 0s 4ms/step - loss: 8.9142 - mae: 8.9142\n",
      "Epoch 72/100\n",
      "2/2 [==============================] - 0s 6ms/step - loss: 9.9897 - mae: 9.9897\n",
      "Epoch 73/100\n",
      "2/2 [==============================] - 0s 3ms/step - loss: 11.9300 - mae: 11.9300\n",
      "Epoch 74/100\n",
      "2/2 [==============================] - 0s 4ms/step - loss: 8.5859 - mae: 8.5859\n",
      "Epoch 75/100\n",
      "2/2 [==============================] - 0s 3ms/step - loss: 8.7776 - mae: 8.7776\n",
      "Epoch 76/100\n",
      "2/2 [==============================] - 0s 5ms/step - loss: 8.8232 - mae: 8.8232\n",
      "Epoch 77/100\n",
      "2/2 [==============================] - 0s 4ms/step - loss: 8.1895 - mae: 8.1895\n",
      "Epoch 78/100\n",
      "2/2 [==============================] - 0s 5ms/step - loss: 11.2235 - mae: 11.2235\n",
      "Epoch 79/100\n",
      "2/2 [==============================] - 0s 3ms/step - loss: 9.5682 - mae: 9.5682\n",
      "Epoch 80/100\n",
      "2/2 [==============================] - 0s 4ms/step - loss: 13.1783 - mae: 13.1783\n",
      "Epoch 81/100\n",
      "2/2 [==============================] - 0s 3ms/step - loss: 14.3245 - mae: 14.3245\n",
      "Epoch 82/100\n",
      "2/2 [==============================] - 0s 4ms/step - loss: 16.2560 - mae: 16.2560\n",
      "Epoch 83/100\n",
      "2/2 [==============================] - 0s 4ms/step - loss: 9.5568 - mae: 9.5568\n",
      "Epoch 84/100\n",
      "2/2 [==============================] - 0s 3ms/step - loss: 8.6519 - mae: 8.6519\n",
      "Epoch 85/100\n",
      "2/2 [==============================] - 0s 4ms/step - loss: 8.7552 - mae: 8.7552\n",
      "Epoch 86/100\n",
      "2/2 [==============================] - 0s 3ms/step - loss: 9.0234 - mae: 9.0234\n",
      "Epoch 87/100\n",
      "2/2 [==============================] - 0s 3ms/step - loss: 9.1794 - mae: 9.1794\n",
      "Epoch 88/100\n",
      "2/2 [==============================] - 0s 5ms/step - loss: 8.7276 - mae: 8.7276\n",
      "Epoch 89/100\n",
      "2/2 [==============================] - 0s 4ms/step - loss: 8.8707 - mae: 8.8707\n",
      "Epoch 90/100\n",
      "2/2 [==============================] - 0s 5ms/step - loss: 8.6802 - mae: 8.6802\n",
      "Epoch 91/100\n",
      "2/2 [==============================] - 0s 5ms/step - loss: 8.7301 - mae: 8.7301\n",
      "Epoch 92/100\n",
      "2/2 [==============================] - 0s 5ms/step - loss: 8.5968 - mae: 8.5968\n",
      "Epoch 93/100\n",
      "2/2 [==============================] - 0s 3ms/step - loss: 9.1886 - mae: 9.1886\n",
      "Epoch 94/100\n",
      "2/2 [==============================] - 0s 2ms/step - loss: 9.9125 - mae: 9.9125\n",
      "Epoch 95/100\n",
      "2/2 [==============================] - 0s 6ms/step - loss: 12.8242 - mae: 12.8242\n",
      "Epoch 96/100\n",
      "2/2 [==============================] - 0s 3ms/step - loss: 9.1602 - mae: 9.1602\n",
      "Epoch 97/100\n",
      "2/2 [==============================] - 0s 11ms/step - loss: 10.5435 - mae: 10.5435\n",
      "Epoch 98/100\n",
      "2/2 [==============================] - 0s 4ms/step - loss: 14.7497 - mae: 14.7497\n",
      "Epoch 99/100\n",
      "2/2 [==============================] - 0s 6ms/step - loss: 10.8591 - mae: 10.8591\n",
      "Epoch 100/100\n",
      "2/2 [==============================] - 0s 6ms/step - loss: 14.9030 - mae: 14.9030\n"
     ]
    },
    {
     "output_type": "execute_result",
     "data": {
      "text/plain": [
       "<tensorflow.python.keras.callbacks.History at 0x2939da86be0>"
      ]
     },
     "metadata": {},
     "execution_count": 41
    }
   ],
   "source": [
    "tf.random.set_seed(42)\n",
    "\n",
    "model = tf.keras.Sequential([\n",
    "    tf.keras.layers.Dense(1)\n",
    "])\n",
    "\n",
    "model.compile(\n",
    "    loss = tf.keras.losses.mae,\n",
    "    optimizer = tf.keras.optimizers.SGD(),\n",
    "    metrics=[\"mae\"]\n",
    ")\n",
    "\n",
    "model.fit(X, y, epochs=100)"
   ]
  },
  {
   "cell_type": "code",
   "execution_count": 42,
   "metadata": {},
   "outputs": [
    {
     "output_type": "stream",
     "name": "stdout",
     "text": [
      "Model: \"sequential_3\"\n_________________________________________________________________\nLayer (type)                 Output Shape              Param #   \n=================================================================\ndense_3 (Dense)              (None, 1)                 2         \n=================================================================\nTotal params: 2\nTrainable params: 2\nNon-trainable params: 0\n_________________________________________________________________\n"
     ]
    }
   ],
   "source": [
    "# 모델이 어떻게 생긴지 파악 \n",
    "model.summary()"
   ]
  },
  {
   "source": [
    "**Total params** : 모델에 존재하는 파라미터의 총 갯수\n",
    "\n",
    "**Trainable params** : 델이 학습을 하면서 최신화 할 수 있는 파라미터 \n",
    "\n",
    "**Non-trainable params** : 모델이 학습을 하면서 최신화 할 수 없는 파라미터"
   ],
   "cell_type": "markdown",
   "metadata": {}
  },
  {
   "cell_type": "code",
   "execution_count": 77,
   "metadata": {},
   "outputs": [],
   "source": [
    "tf.random.set_seed(42)\n",
    "\n",
    "model = tf.keras.Sequential([\n",
    "    tf.keras.layers.Dense(1, input_shape=[1]) ## input의 모양을 명시적으로 준다\n",
    "])\n",
    "\n",
    "model.compile(\n",
    "    loss = tf.keras.losses.mae,\n",
    "    optimizer = tf.keras.optimizers.SGD(),\n",
    "    metrics=[\"mae\"]\n",
    ")"
   ]
  },
  {
   "cell_type": "code",
   "execution_count": 78,
   "metadata": {},
   "outputs": [
    {
     "output_type": "stream",
     "name": "stdout",
     "text": [
      "Model: \"sequential_6\"\n_________________________________________________________________\nLayer (type)                 Output Shape              Param #   \n=================================================================\ndense_6 (Dense)              (None, 1)                 2         \n=================================================================\nTotal params: 2\nTrainable params: 2\nNon-trainable params: 0\n_________________________________________________________________\n"
     ]
    }
   ],
   "source": [
    "model.summary()"
   ]
  },
  {
   "cell_type": "code",
   "execution_count": 45,
   "metadata": {},
   "outputs": [
    {
     "output_type": "stream",
     "name": "stdout",
     "text": [
      "Epoch 1/100\n",
      "2/2 [==============================] - 1s 6ms/step - loss: 19.0311 - mae: 19.0311\n",
      "Epoch 2/100\n",
      "2/2 [==============================] - 0s 7ms/step - loss: 10.8111 - mae: 10.8111\n",
      "Epoch 3/100\n",
      "2/2 [==============================] - 0s 5ms/step - loss: 14.5005 - mae: 14.5005\n",
      "Epoch 4/100\n",
      "2/2 [==============================] - 0s 4ms/step - loss: 10.0958 - mae: 10.0958\n",
      "Epoch 5/100\n",
      "2/2 [==============================] - 0s 6ms/step - loss: 15.5388 - mae: 15.5388\n",
      "Epoch 6/100\n",
      "2/2 [==============================] - 0s 5ms/step - loss: 11.8626 - mae: 11.8626\n",
      "Epoch 7/100\n",
      "2/2 [==============================] - 0s 3ms/step - loss: 9.1727 - mae: 9.1727\n",
      "Epoch 8/100\n",
      "2/2 [==============================] - 0s 5ms/step - loss: 13.6143 - mae: 13.6143\n",
      "Epoch 9/100\n",
      "2/2 [==============================] - 0s 5ms/step - loss: 13.8577 - mae: 13.8577\n",
      "Epoch 10/100\n",
      "2/2 [==============================] - 0s 3ms/step - loss: 9.9966 - mae: 9.9966\n",
      "Epoch 11/100\n",
      "2/2 [==============================] - 0s 3ms/step - loss: 9.9685 - mae: 9.9685\n",
      "Epoch 12/100\n",
      "2/2 [==============================] - 0s 4ms/step - loss: 9.9097 - mae: 9.9097\n",
      "Epoch 13/100\n",
      "2/2 [==============================] - 0s 3ms/step - loss: 9.7478 - mae: 9.7478\n",
      "Epoch 14/100\n",
      "2/2 [==============================] - 0s 4ms/step - loss: 10.5485 - mae: 10.5485\n",
      "Epoch 15/100\n",
      "2/2 [==============================] - 0s 4ms/step - loss: 13.7915 - mae: 13.7915\n",
      "Epoch 16/100\n",
      "2/2 [==============================] - 0s 4ms/step - loss: 12.5861 - mae: 12.5861\n",
      "Epoch 17/100\n",
      "2/2 [==============================] - 0s 4ms/step - loss: 10.2180 - mae: 10.2180\n",
      "Epoch 18/100\n",
      "2/2 [==============================] - 0s 6ms/step - loss: 10.1329 - mae: 10.1329\n",
      "Epoch 19/100\n",
      "2/2 [==============================] - 0s 5ms/step - loss: 9.9154 - mae: 9.9154\n",
      "Epoch 20/100\n",
      "2/2 [==============================] - 0s 3ms/step - loss: 12.7204 - mae: 12.7204\n",
      "Epoch 21/100\n",
      "2/2 [==============================] - 0s 6ms/step - loss: 12.9522 - mae: 12.9522\n",
      "Epoch 22/100\n",
      "2/2 [==============================] - 0s 3ms/step - loss: 9.5668 - mae: 9.5668\n",
      "Epoch 23/100\n",
      "2/2 [==============================] - 0s 4ms/step - loss: 9.3870 - mae: 9.3870\n",
      "Epoch 24/100\n",
      "2/2 [==============================] - 0s 5ms/step - loss: 9.7060 - mae: 9.7060\n",
      "Epoch 25/100\n",
      "2/2 [==============================] - 0s 4ms/step - loss: 9.6024 - mae: 9.6024\n",
      "Epoch 26/100\n",
      "2/2 [==============================] - 0s 5ms/step - loss: 9.4918 - mae: 9.4918\n",
      "Epoch 27/100\n",
      "2/2 [==============================] - 0s 3ms/step - loss: 9.7140 - mae: 9.7140\n",
      "Epoch 28/100\n",
      "2/2 [==============================] - 0s 4ms/step - loss: 9.5882 - mae: 9.5882\n",
      "Epoch 29/100\n",
      "2/2 [==============================] - 0s 5ms/step - loss: 9.4746 - mae: 9.4746\n",
      "Epoch 30/100\n",
      "2/2 [==============================] - 0s 3ms/step - loss: 10.0289 - mae: 10.0289\n",
      "Epoch 31/100\n",
      "2/2 [==============================] - 0s 4ms/step - loss: 13.3862 - mae: 13.3862\n",
      "Epoch 32/100\n",
      "2/2 [==============================] - 0s 4ms/step - loss: 9.6345 - mae: 9.6345\n",
      "Epoch 33/100\n",
      "2/2 [==============================] - 0s 3ms/step - loss: 9.5676 - mae: 9.5676\n",
      "Epoch 34/100\n",
      "2/2 [==============================] - 0s 5ms/step - loss: 9.8932 - mae: 9.8932\n",
      "Epoch 35/100\n",
      "2/2 [==============================] - 0s 6ms/step - loss: 10.1582 - mae: 10.1582\n",
      "Epoch 36/100\n",
      "2/2 [==============================] - 0s 3ms/step - loss: 9.5081 - mae: 9.5081\n",
      "Epoch 37/100\n",
      "2/2 [==============================] - 0s 3ms/step - loss: 9.4231 - mae: 9.4231\n",
      "Epoch 38/100\n",
      "2/2 [==============================] - 0s 5ms/step - loss: 9.6222 - mae: 9.6222\n",
      "Epoch 39/100\n",
      "2/2 [==============================] - 0s 5ms/step - loss: 10.3634 - mae: 10.3634\n",
      "Epoch 40/100\n",
      "2/2 [==============================] - 0s 3ms/step - loss: 11.5608 - mae: 11.5608\n",
      "Epoch 41/100\n",
      "2/2 [==============================] - 0s 4ms/step - loss: 9.7365 - mae: 9.7365\n",
      "Epoch 42/100\n",
      "2/2 [==============================] - 0s 4ms/step - loss: 9.3273 - mae: 9.3273\n",
      "Epoch 43/100\n",
      "2/2 [==============================] - 0s 4ms/step - loss: 9.1406 - mae: 9.1406\n",
      "Epoch 44/100\n",
      "2/2 [==============================] - 0s 4ms/step - loss: 9.5279 - mae: 9.5279\n",
      "Epoch 45/100\n",
      "2/2 [==============================] - 0s 3ms/step - loss: 9.6614 - mae: 9.6614\n",
      "Epoch 46/100\n",
      "2/2 [==============================] - 0s 7ms/step - loss: 9.1543 - mae: 9.1543\n",
      "Epoch 47/100\n",
      "2/2 [==============================] - 0s 5ms/step - loss: 9.0604 - mae: 9.0604\n",
      "Epoch 48/100\n",
      "2/2 [==============================] - 0s 4ms/step - loss: 8.7624 - mae: 8.7624\n",
      "Epoch 49/100\n",
      "2/2 [==============================] - 0s 5ms/step - loss: 10.8369 - mae: 10.8369\n",
      "Epoch 50/100\n",
      "2/2 [==============================] - 0s 5ms/step - loss: 8.8573 - mae: 8.8573\n",
      "Epoch 51/100\n",
      "2/2 [==============================] - 0s 4ms/step - loss: 10.3175 - mae: 10.3175\n",
      "Epoch 52/100\n",
      "2/2 [==============================] - 0s 4ms/step - loss: 14.8285 - mae: 14.8285\n",
      "Epoch 53/100\n",
      "2/2 [==============================] - 0s 4ms/step - loss: 8.7053 - mae: 8.7053\n",
      "Epoch 54/100\n",
      "2/2 [==============================] - 0s 4ms/step - loss: 9.4249 - mae: 9.4249\n",
      "Epoch 55/100\n",
      "2/2 [==============================] - 0s 4ms/step - loss: 9.8385 - mae: 9.8385\n",
      "Epoch 56/100\n",
      "2/2 [==============================] - 0s 5ms/step - loss: 12.1663 - mae: 12.1663\n",
      "Epoch 57/100\n",
      "2/2 [==============================] - 0s 4ms/step - loss: 16.1752 - mae: 16.1752\n",
      "Epoch 58/100\n",
      "2/2 [==============================] - 0s 3ms/step - loss: 15.0076 - mae: 15.0076\n",
      "Epoch 59/100\n",
      "2/2 [==============================] - 0s 4ms/step - loss: 15.3698 - mae: 15.3698\n",
      "Epoch 60/100\n",
      "2/2 [==============================] - 0s 9ms/step - loss: 12.5261 - mae: 12.5261\n",
      "Epoch 61/100\n",
      "2/2 [==============================] - 0s 3ms/step - loss: 13.0420 - mae: 13.0420\n",
      "Epoch 62/100\n",
      "2/2 [==============================] - 0s 4ms/step - loss: 10.2323 - mae: 10.2323\n",
      "Epoch 63/100\n",
      "2/2 [==============================] - 0s 3ms/step - loss: 12.0069 - mae: 12.0069\n",
      "Epoch 64/100\n",
      "2/2 [==============================] - 0s 5ms/step - loss: 9.5151 - mae: 9.5151\n",
      "Epoch 65/100\n",
      "2/2 [==============================] - 0s 6ms/step - loss: 8.9926 - mae: 8.9926\n",
      "Epoch 66/100\n",
      "2/2 [==============================] - 0s 4ms/step - loss: 8.9825 - mae: 8.9825\n",
      "Epoch 67/100\n",
      "2/2 [==============================] - 0s 3ms/step - loss: 9.1020 - mae: 9.1020\n",
      "Epoch 68/100\n",
      "2/2 [==============================] - 0s 5ms/step - loss: 9.2138 - mae: 9.2138\n",
      "Epoch 69/100\n",
      "2/2 [==============================] - 0s 16ms/step - loss: 9.2091 - mae: 9.2091\n",
      "Epoch 70/100\n",
      "2/2 [==============================] - 0s 3ms/step - loss: 9.4690 - mae: 9.4690\n",
      "Epoch 71/100\n",
      "2/2 [==============================] - 0s 4ms/step - loss: 8.9142 - mae: 8.9142\n",
      "Epoch 72/100\n",
      "2/2 [==============================] - 0s 5ms/step - loss: 9.9897 - mae: 9.9897\n",
      "Epoch 73/100\n",
      "2/2 [==============================] - 0s 4ms/step - loss: 11.9300 - mae: 11.9300\n",
      "Epoch 74/100\n",
      "2/2 [==============================] - 0s 3ms/step - loss: 8.5859 - mae: 8.5859\n",
      "Epoch 75/100\n",
      "2/2 [==============================] - 0s 6ms/step - loss: 8.7776 - mae: 8.7776\n",
      "Epoch 76/100\n",
      "2/2 [==============================] - 0s 6ms/step - loss: 8.8232 - mae: 8.8232\n",
      "Epoch 77/100\n",
      "2/2 [==============================] - 0s 3ms/step - loss: 8.1895 - mae: 8.1895\n",
      "Epoch 78/100\n",
      "2/2 [==============================] - 0s 3ms/step - loss: 11.2235 - mae: 11.2235\n",
      "Epoch 79/100\n",
      "2/2 [==============================] - 0s 3ms/step - loss: 9.5682 - mae: 9.5682\n",
      "Epoch 80/100\n",
      "2/2 [==============================] - 0s 3ms/step - loss: 13.1783 - mae: 13.1783\n",
      "Epoch 81/100\n",
      "2/2 [==============================] - 0s 3ms/step - loss: 14.3245 - mae: 14.3245\n",
      "Epoch 82/100\n",
      "2/2 [==============================] - 0s 7ms/step - loss: 16.2560 - mae: 16.2560\n",
      "Epoch 83/100\n",
      "2/2 [==============================] - 0s 4ms/step - loss: 9.5568 - mae: 9.5568\n",
      "Epoch 84/100\n",
      "2/2 [==============================] - 0s 6ms/step - loss: 8.6519 - mae: 8.6519\n",
      "Epoch 85/100\n",
      "2/2 [==============================] - 0s 3ms/step - loss: 8.7552 - mae: 8.7552\n",
      "Epoch 86/100\n",
      "2/2 [==============================] - 0s 4ms/step - loss: 9.0234 - mae: 9.0234\n",
      "Epoch 87/100\n",
      "2/2 [==============================] - 0s 6ms/step - loss: 9.1794 - mae: 9.1794\n",
      "Epoch 88/100\n",
      "2/2 [==============================] - 0s 10ms/step - loss: 8.7276 - mae: 8.7276\n",
      "Epoch 89/100\n",
      "2/2 [==============================] - 0s 3ms/step - loss: 8.8707 - mae: 8.8707\n",
      "Epoch 90/100\n",
      "2/2 [==============================] - 0s 15ms/step - loss: 8.6802 - mae: 8.6802\n",
      "Epoch 91/100\n",
      "2/2 [==============================] - 0s 5ms/step - loss: 8.7301 - mae: 8.7301\n",
      "Epoch 92/100\n",
      "2/2 [==============================] - 0s 6ms/step - loss: 8.5968 - mae: 8.5968\n",
      "Epoch 93/100\n",
      "2/2 [==============================] - 0s 5ms/step - loss: 9.1886 - mae: 9.1886\n",
      "Epoch 94/100\n",
      "2/2 [==============================] - 0s 4ms/step - loss: 9.9125 - mae: 9.9125\n",
      "Epoch 95/100\n",
      "2/2 [==============================] - 0s 4ms/step - loss: 12.8242 - mae: 12.8242\n",
      "Epoch 96/100\n",
      "2/2 [==============================] - 0s 5ms/step - loss: 9.1602 - mae: 9.1602\n",
      "Epoch 97/100\n",
      "2/2 [==============================] - 0s 4ms/step - loss: 10.5435 - mae: 10.5435\n",
      "Epoch 98/100\n",
      "2/2 [==============================] - 0s 4ms/step - loss: 14.7497 - mae: 14.7497\n",
      "Epoch 99/100\n",
      "2/2 [==============================] - 0s 5ms/step - loss: 10.8591 - mae: 10.8591\n",
      "Epoch 100/100\n",
      "2/2 [==============================] - 0s 4ms/step - loss: 14.9030 - mae: 14.9030\n"
     ]
    },
    {
     "output_type": "execute_result",
     "data": {
      "text/plain": [
       "<tensorflow.python.keras.callbacks.History at 0x2939ecad220>"
      ]
     },
     "metadata": {},
     "execution_count": 45
    }
   ],
   "source": [
    "model.fit(X, y, epochs=100)"
   ]
  },
  {
   "cell_type": "code",
   "execution_count": 76,
   "metadata": {},
   "outputs": [
    {
     "output_type": "stream",
     "name": "stdout",
     "text": [
      "Model: \"sequential_5\"\n_________________________________________________________________\nLayer (type)                 Output Shape              Param #   \n=================================================================\ndense_5 (Dense)              (None, 1)                 2         \n=================================================================\nTotal params: 2\nTrainable params: 2\nNon-trainable params: 0\n_________________________________________________________________\n"
     ]
    }
   ],
   "source": [
    "model.summary()"
   ]
  },
  {
   "cell_type": "code",
   "execution_count": 79,
   "metadata": {},
   "outputs": [
    {
     "output_type": "stream",
     "name": "stdout",
     "text": [
      "('You must install pydot (`pip install pydot`) and install graphviz (see instructions at https://graphviz.gitlab.io/download/) ', 'for plot_model/model_to_dot to work.')\n"
     ]
    }
   ],
   "source": [
    "from tensorflow.keras.utils import plot_model \n",
    "\n",
    "plot_model(model, show_shapes=True)"
   ]
  },
  {
   "cell_type": "code",
   "execution_count": 57,
   "metadata": {},
   "outputs": [
    {
     "output_type": "execute_result",
     "data": {
      "text/plain": [
       "array([[54.771538],\n",
       "       [58.317333],\n",
       "       [61.86313 ],\n",
       "       [65.40893 ],\n",
       "       [68.95472 ],\n",
       "       [72.50052 ],\n",
       "       [76.04631 ],\n",
       "       [79.59211 ],\n",
       "       [83.13791 ],\n",
       "       [86.6837  ]], dtype=float32)"
      ]
     },
     "metadata": {},
     "execution_count": 57
    }
   ],
   "source": [
    "y_predicts = model.predict(X_test)\n",
    "y_predicts"
   ]
  },
  {
   "cell_type": "code",
   "execution_count": 63,
   "metadata": {},
   "outputs": [],
   "source": [
    "def plot_predictions(\n",
    "    train_data = X_train,\n",
    "    train_labels = y_train,\n",
    "    test_data = X_test,\n",
    "    test_labels = y_test,\n",
    "    prediction = y_predicts\n",
    "):\n",
    "    plt.figure(figsize = (10, 7))\n",
    "    plt.scatter(train_data, train_labels, c=\"b\", label=\"Training Data\")\n",
    "    plt.scatter(test_data, test_labels, c=\"g\", label=\"Testing Data\")\n",
    "    plt.scatter(test_data, prediction, c=\"r\", label=\"Predictions\")\n",
    "    plt.legend()"
   ]
  },
  {
   "cell_type": "code",
   "execution_count": 64,
   "metadata": {},
   "outputs": [
    {
     "output_type": "display_data",
     "data": {
      "text/plain": "<Figure size 720x504 with 1 Axes>",
      "image/svg+xml": "<?xml version=\"1.0\" encoding=\"utf-8\" standalone=\"no\"?>\r\n<!DOCTYPE svg PUBLIC \"-//W3C//DTD SVG 1.1//EN\"\r\n  \"http://www.w3.org/Graphics/SVG/1.1/DTD/svg11.dtd\">\r\n<svg height=\"411.598125pt\" version=\"1.1\" viewBox=\"0 0 600.504688 411.598125\" width=\"600.504688pt\" xmlns=\"http://www.w3.org/2000/svg\" xmlns:xlink=\"http://www.w3.org/1999/xlink\">\r\n <metadata>\r\n  <rdf:RDF xmlns:cc=\"http://creativecommons.org/ns#\" xmlns:dc=\"http://purl.org/dc/elements/1.1/\" xmlns:rdf=\"http://www.w3.org/1999/02/22-rdf-syntax-ns#\">\r\n   <cc:Work>\r\n    <dc:type rdf:resource=\"http://purl.org/dc/dcmitype/StillImage\"/>\r\n    <dc:date>2021-05-30T11:29:26.620615</dc:date>\r\n    <dc:format>image/svg+xml</dc:format>\r\n    <dc:creator>\r\n     <cc:Agent>\r\n      <dc:title>Matplotlib v3.4.2, https://matplotlib.org/</dc:title>\r\n     </cc:Agent>\r\n    </dc:creator>\r\n   </cc:Work>\r\n  </rdf:RDF>\r\n </metadata>\r\n <defs>\r\n  <style type=\"text/css\">*{stroke-linecap:butt;stroke-linejoin:round;}</style>\r\n </defs>\r\n <g id=\"figure_1\">\r\n  <g id=\"patch_1\">\r\n   <path d=\"M 0 411.598125 \r\nL 600.504688 411.598125 \r\nL 600.504688 0 \r\nL 0 0 \r\nz\r\n\" style=\"fill:none;\"/>\r\n  </g>\r\n  <g id=\"axes_1\">\r\n   <g id=\"patch_2\">\r\n    <path d=\"M 35.304688 387.72 \r\nL 593.304688 387.72 \r\nL 593.304688 7.2 \r\nL 35.304688 7.2 \r\nz\r\n\" style=\"fill:#ffffff;\"/>\r\n   </g>\r\n   <g id=\"PathCollection_1\">\r\n    <defs>\r\n     <path d=\"M 0 3 \r\nC 0.795609 3 1.55874 2.683901 2.12132 2.12132 \r\nC 2.683901 1.55874 3 0.795609 3 0 \r\nC 3 -0.795609 2.683901 -1.55874 2.12132 -2.12132 \r\nC 1.55874 -2.683901 0.795609 -3 0 -3 \r\nC -0.795609 -3 -1.55874 -2.683901 -2.12132 -2.12132 \r\nC -2.683901 -1.55874 -3 -0.795609 -3 0 \r\nC -3 0.795609 -2.683901 1.55874 -2.12132 2.12132 \r\nC -1.55874 2.683901 -0.795609 3 0 3 \r\nz\r\n\" id=\"m76c02c2554\" style=\"stroke:#0000ff;\"/>\r\n    </defs>\r\n    <g clip-path=\"url(#pbd0453f6b4)\">\r\n     <use style=\"fill:#0000ff;stroke:#0000ff;\" x=\"60.668324\" xlink:href=\"#m76c02c2554\" y=\"370.423636\"/>\r\n     <use style=\"fill:#0000ff;stroke:#0000ff;\" x=\"71.020829\" xlink:href=\"#m76c02c2554\" y=\"363.363896\"/>\r\n     <use style=\"fill:#0000ff;stroke:#0000ff;\" x=\"81.373333\" xlink:href=\"#m76c02c2554\" y=\"356.304156\"/>\r\n     <use style=\"fill:#0000ff;stroke:#0000ff;\" x=\"91.725838\" xlink:href=\"#m76c02c2554\" y=\"349.244416\"/>\r\n     <use style=\"fill:#0000ff;stroke:#0000ff;\" x=\"102.078342\" xlink:href=\"#m76c02c2554\" y=\"342.184675\"/>\r\n     <use style=\"fill:#0000ff;stroke:#0000ff;\" x=\"112.430847\" xlink:href=\"#m76c02c2554\" y=\"335.124935\"/>\r\n     <use style=\"fill:#0000ff;stroke:#0000ff;\" x=\"122.783352\" xlink:href=\"#m76c02c2554\" y=\"328.065195\"/>\r\n     <use style=\"fill:#0000ff;stroke:#0000ff;\" x=\"133.135856\" xlink:href=\"#m76c02c2554\" y=\"321.005455\"/>\r\n     <use style=\"fill:#0000ff;stroke:#0000ff;\" x=\"143.488361\" xlink:href=\"#m76c02c2554\" y=\"313.945714\"/>\r\n     <use style=\"fill:#0000ff;stroke:#0000ff;\" x=\"153.840866\" xlink:href=\"#m76c02c2554\" y=\"306.885974\"/>\r\n     <use style=\"fill:#0000ff;stroke:#0000ff;\" x=\"164.19337\" xlink:href=\"#m76c02c2554\" y=\"299.826234\"/>\r\n     <use style=\"fill:#0000ff;stroke:#0000ff;\" x=\"174.545875\" xlink:href=\"#m76c02c2554\" y=\"292.766494\"/>\r\n     <use style=\"fill:#0000ff;stroke:#0000ff;\" x=\"184.89838\" xlink:href=\"#m76c02c2554\" y=\"285.706753\"/>\r\n     <use style=\"fill:#0000ff;stroke:#0000ff;\" x=\"195.250884\" xlink:href=\"#m76c02c2554\" y=\"278.647013\"/>\r\n     <use style=\"fill:#0000ff;stroke:#0000ff;\" x=\"205.603389\" xlink:href=\"#m76c02c2554\" y=\"271.587273\"/>\r\n     <use style=\"fill:#0000ff;stroke:#0000ff;\" x=\"215.955893\" xlink:href=\"#m76c02c2554\" y=\"264.527532\"/>\r\n     <use style=\"fill:#0000ff;stroke:#0000ff;\" x=\"226.308398\" xlink:href=\"#m76c02c2554\" y=\"257.467792\"/>\r\n     <use style=\"fill:#0000ff;stroke:#0000ff;\" x=\"236.660903\" xlink:href=\"#m76c02c2554\" y=\"250.408052\"/>\r\n     <use style=\"fill:#0000ff;stroke:#0000ff;\" x=\"247.013407\" xlink:href=\"#m76c02c2554\" y=\"243.348312\"/>\r\n     <use style=\"fill:#0000ff;stroke:#0000ff;\" x=\"257.365912\" xlink:href=\"#m76c02c2554\" y=\"236.288571\"/>\r\n     <use style=\"fill:#0000ff;stroke:#0000ff;\" x=\"267.718417\" xlink:href=\"#m76c02c2554\" y=\"229.228831\"/>\r\n     <use style=\"fill:#0000ff;stroke:#0000ff;\" x=\"278.070921\" xlink:href=\"#m76c02c2554\" y=\"222.169091\"/>\r\n     <use style=\"fill:#0000ff;stroke:#0000ff;\" x=\"288.423426\" xlink:href=\"#m76c02c2554\" y=\"215.109351\"/>\r\n     <use style=\"fill:#0000ff;stroke:#0000ff;\" x=\"298.775931\" xlink:href=\"#m76c02c2554\" y=\"208.04961\"/>\r\n     <use style=\"fill:#0000ff;stroke:#0000ff;\" x=\"309.128435\" xlink:href=\"#m76c02c2554\" y=\"200.98987\"/>\r\n     <use style=\"fill:#0000ff;stroke:#0000ff;\" x=\"319.48094\" xlink:href=\"#m76c02c2554\" y=\"193.93013\"/>\r\n     <use style=\"fill:#0000ff;stroke:#0000ff;\" x=\"329.833444\" xlink:href=\"#m76c02c2554\" y=\"186.87039\"/>\r\n     <use style=\"fill:#0000ff;stroke:#0000ff;\" x=\"340.185949\" xlink:href=\"#m76c02c2554\" y=\"179.810649\"/>\r\n     <use style=\"fill:#0000ff;stroke:#0000ff;\" x=\"350.538454\" xlink:href=\"#m76c02c2554\" y=\"172.750909\"/>\r\n     <use style=\"fill:#0000ff;stroke:#0000ff;\" x=\"360.890958\" xlink:href=\"#m76c02c2554\" y=\"165.691169\"/>\r\n     <use style=\"fill:#0000ff;stroke:#0000ff;\" x=\"371.243463\" xlink:href=\"#m76c02c2554\" y=\"158.631429\"/>\r\n     <use style=\"fill:#0000ff;stroke:#0000ff;\" x=\"381.595968\" xlink:href=\"#m76c02c2554\" y=\"151.571688\"/>\r\n     <use style=\"fill:#0000ff;stroke:#0000ff;\" x=\"391.948472\" xlink:href=\"#m76c02c2554\" y=\"144.511948\"/>\r\n     <use style=\"fill:#0000ff;stroke:#0000ff;\" x=\"402.300977\" xlink:href=\"#m76c02c2554\" y=\"137.452208\"/>\r\n     <use style=\"fill:#0000ff;stroke:#0000ff;\" x=\"412.653482\" xlink:href=\"#m76c02c2554\" y=\"130.392468\"/>\r\n     <use style=\"fill:#0000ff;stroke:#0000ff;\" x=\"423.005986\" xlink:href=\"#m76c02c2554\" y=\"123.332727\"/>\r\n     <use style=\"fill:#0000ff;stroke:#0000ff;\" x=\"433.358491\" xlink:href=\"#m76c02c2554\" y=\"116.272987\"/>\r\n     <use style=\"fill:#0000ff;stroke:#0000ff;\" x=\"443.710995\" xlink:href=\"#m76c02c2554\" y=\"109.213247\"/>\r\n     <use style=\"fill:#0000ff;stroke:#0000ff;\" x=\"454.0635\" xlink:href=\"#m76c02c2554\" y=\"102.153506\"/>\r\n     <use style=\"fill:#0000ff;stroke:#0000ff;\" x=\"464.416005\" xlink:href=\"#m76c02c2554\" y=\"95.093766\"/>\r\n    </g>\r\n   </g>\r\n   <g id=\"PathCollection_2\">\r\n    <defs>\r\n     <path d=\"M 0 3 \r\nC 0.795609 3 1.55874 2.683901 2.12132 2.12132 \r\nC 2.683901 1.55874 3 0.795609 3 0 \r\nC 3 -0.795609 2.683901 -1.55874 2.12132 -2.12132 \r\nC 1.55874 -2.683901 0.795609 -3 0 -3 \r\nC -0.795609 -3 -1.55874 -2.683901 -2.12132 -2.12132 \r\nC -2.683901 -1.55874 -3 -0.795609 -3 0 \r\nC -3 0.795609 -2.683901 1.55874 -2.12132 2.12132 \r\nC -1.55874 2.683901 -0.795609 3 0 3 \r\nz\r\n\" id=\"m257b13b630\" style=\"stroke:#008000;\"/>\r\n    </defs>\r\n    <g clip-path=\"url(#pbd0453f6b4)\">\r\n     <use style=\"fill:#008000;stroke:#008000;\" x=\"474.768509\" xlink:href=\"#m257b13b630\" y=\"88.034026\"/>\r\n     <use style=\"fill:#008000;stroke:#008000;\" x=\"485.121014\" xlink:href=\"#m257b13b630\" y=\"80.974286\"/>\r\n     <use style=\"fill:#008000;stroke:#008000;\" x=\"495.473519\" xlink:href=\"#m257b13b630\" y=\"73.914545\"/>\r\n     <use style=\"fill:#008000;stroke:#008000;\" x=\"505.826023\" xlink:href=\"#m257b13b630\" y=\"66.854805\"/>\r\n     <use style=\"fill:#008000;stroke:#008000;\" x=\"516.178528\" xlink:href=\"#m257b13b630\" y=\"59.795065\"/>\r\n     <use style=\"fill:#008000;stroke:#008000;\" x=\"526.531033\" xlink:href=\"#m257b13b630\" y=\"52.735325\"/>\r\n     <use style=\"fill:#008000;stroke:#008000;\" x=\"536.883537\" xlink:href=\"#m257b13b630\" y=\"45.675584\"/>\r\n     <use style=\"fill:#008000;stroke:#008000;\" x=\"547.236042\" xlink:href=\"#m257b13b630\" y=\"38.615844\"/>\r\n     <use style=\"fill:#008000;stroke:#008000;\" x=\"557.588546\" xlink:href=\"#m257b13b630\" y=\"31.556104\"/>\r\n     <use style=\"fill:#008000;stroke:#008000;\" x=\"567.941051\" xlink:href=\"#m257b13b630\" y=\"24.496364\"/>\r\n    </g>\r\n   </g>\r\n   <g id=\"PathCollection_3\">\r\n    <defs>\r\n     <path d=\"M 0 3 \r\nC 0.795609 3 1.55874 2.683901 2.12132 2.12132 \r\nC 2.683901 1.55874 3 0.795609 3 0 \r\nC 3 -0.795609 2.683901 -1.55874 2.12132 -2.12132 \r\nC 1.55874 -2.683901 0.795609 -3 0 -3 \r\nC -0.795609 -3 -1.55874 -2.683901 -2.12132 -2.12132 \r\nC -2.683901 -1.55874 -3 -0.795609 -3 0 \r\nC -3 0.795609 -2.683901 1.55874 -2.12132 2.12132 \r\nC -1.55874 2.683901 -0.795609 3 0 3 \r\nz\r\n\" id=\"m5fb33cad47\" style=\"stroke:#ff0000;\"/>\r\n    </defs>\r\n    <g clip-path=\"url(#pbd0453f6b4)\">\r\n     <use style=\"fill:#ff0000;stroke:#ff0000;\" x=\"474.768509\" xlink:href=\"#m5fb33cad47\" y=\"114.911273\"/>\r\n     <use style=\"fill:#ff0000;stroke:#ff0000;\" x=\"485.121014\" xlink:href=\"#m5fb33cad47\" y=\"108.653174\"/>\r\n     <use style=\"fill:#ff0000;stroke:#ff0000;\" x=\"495.473519\" xlink:href=\"#m5fb33cad47\" y=\"102.395076\"/>\r\n     <use style=\"fill:#ff0000;stroke:#ff0000;\" x=\"505.826023\" xlink:href=\"#m5fb33cad47\" y=\"96.13697\"/>\r\n     <use style=\"fill:#ff0000;stroke:#ff0000;\" x=\"516.178528\" xlink:href=\"#m5fb33cad47\" y=\"89.878878\"/>\r\n     <use style=\"fill:#ff0000;stroke:#ff0000;\" x=\"526.531033\" xlink:href=\"#m5fb33cad47\" y=\"83.620773\"/>\r\n     <use style=\"fill:#ff0000;stroke:#ff0000;\" x=\"536.883537\" xlink:href=\"#m5fb33cad47\" y=\"77.362681\"/>\r\n     <use style=\"fill:#ff0000;stroke:#ff0000;\" x=\"547.236042\" xlink:href=\"#m5fb33cad47\" y=\"71.104575\"/>\r\n     <use style=\"fill:#ff0000;stroke:#ff0000;\" x=\"557.588546\" xlink:href=\"#m5fb33cad47\" y=\"64.84647\"/>\r\n     <use style=\"fill:#ff0000;stroke:#ff0000;\" x=\"567.941051\" xlink:href=\"#m5fb33cad47\" y=\"58.588378\"/>\r\n    </g>\r\n   </g>\r\n   <g id=\"matplotlib.axis_1\">\r\n    <g id=\"xtick_1\">\r\n     <g id=\"line2d_1\">\r\n      <defs>\r\n       <path d=\"M 0 0 \r\nL 0 3.5 \r\n\" id=\"mc179036288\" style=\"stroke:#000000;stroke-width:0.8;\"/>\r\n      </defs>\r\n      <g>\r\n       <use style=\"stroke:#000000;stroke-width:0.8;\" x=\"60.668324\" xlink:href=\"#mc179036288\" y=\"387.72\"/>\r\n      </g>\r\n     </g>\r\n     <g id=\"text_1\">\r\n      <!-- −100 -->\r\n      <g transform=\"translate(46.93473 402.318437)scale(0.1 -0.1)\">\r\n       <defs>\r\n        <path d=\"M 678 2272 \r\nL 4684 2272 \r\nL 4684 1741 \r\nL 678 1741 \r\nL 678 2272 \r\nz\r\n\" id=\"DejaVuSans-2212\" transform=\"scale(0.015625)\"/>\r\n        <path d=\"M 794 531 \r\nL 1825 531 \r\nL 1825 4091 \r\nL 703 3866 \r\nL 703 4441 \r\nL 1819 4666 \r\nL 2450 4666 \r\nL 2450 531 \r\nL 3481 531 \r\nL 3481 0 \r\nL 794 0 \r\nL 794 531 \r\nz\r\n\" id=\"DejaVuSans-31\" transform=\"scale(0.015625)\"/>\r\n        <path d=\"M 2034 4250 \r\nQ 1547 4250 1301 3770 \r\nQ 1056 3291 1056 2328 \r\nQ 1056 1369 1301 889 \r\nQ 1547 409 2034 409 \r\nQ 2525 409 2770 889 \r\nQ 3016 1369 3016 2328 \r\nQ 3016 3291 2770 3770 \r\nQ 2525 4250 2034 4250 \r\nz\r\nM 2034 4750 \r\nQ 2819 4750 3233 4129 \r\nQ 3647 3509 3647 2328 \r\nQ 3647 1150 3233 529 \r\nQ 2819 -91 2034 -91 \r\nQ 1250 -91 836 529 \r\nQ 422 1150 422 2328 \r\nQ 422 3509 836 4129 \r\nQ 1250 4750 2034 4750 \r\nz\r\n\" id=\"DejaVuSans-30\" transform=\"scale(0.015625)\"/>\r\n       </defs>\r\n       <use xlink:href=\"#DejaVuSans-2212\"/>\r\n       <use x=\"83.789062\" xlink:href=\"#DejaVuSans-31\"/>\r\n       <use x=\"147.412109\" xlink:href=\"#DejaVuSans-30\"/>\r\n       <use x=\"211.035156\" xlink:href=\"#DejaVuSans-30\"/>\r\n      </g>\r\n     </g>\r\n    </g>\r\n    <g id=\"xtick_2\">\r\n     <g id=\"line2d_2\">\r\n      <g>\r\n       <use style=\"stroke:#000000;stroke-width:0.8;\" x=\"125.371478\" xlink:href=\"#mc179036288\" y=\"387.72\"/>\r\n      </g>\r\n     </g>\r\n     <g id=\"text_2\">\r\n      <!-- −75 -->\r\n      <g transform=\"translate(114.819134 402.318437)scale(0.1 -0.1)\">\r\n       <defs>\r\n        <path d=\"M 525 4666 \r\nL 3525 4666 \r\nL 3525 4397 \r\nL 1831 0 \r\nL 1172 0 \r\nL 2766 4134 \r\nL 525 4134 \r\nL 525 4666 \r\nz\r\n\" id=\"DejaVuSans-37\" transform=\"scale(0.015625)\"/>\r\n        <path d=\"M 691 4666 \r\nL 3169 4666 \r\nL 3169 4134 \r\nL 1269 4134 \r\nL 1269 2991 \r\nQ 1406 3038 1543 3061 \r\nQ 1681 3084 1819 3084 \r\nQ 2600 3084 3056 2656 \r\nQ 3513 2228 3513 1497 \r\nQ 3513 744 3044 326 \r\nQ 2575 -91 1722 -91 \r\nQ 1428 -91 1123 -41 \r\nQ 819 9 494 109 \r\nL 494 744 \r\nQ 775 591 1075 516 \r\nQ 1375 441 1709 441 \r\nQ 2250 441 2565 725 \r\nQ 2881 1009 2881 1497 \r\nQ 2881 1984 2565 2268 \r\nQ 2250 2553 1709 2553 \r\nQ 1456 2553 1204 2497 \r\nQ 953 2441 691 2322 \r\nL 691 4666 \r\nz\r\n\" id=\"DejaVuSans-35\" transform=\"scale(0.015625)\"/>\r\n       </defs>\r\n       <use xlink:href=\"#DejaVuSans-2212\"/>\r\n       <use x=\"83.789062\" xlink:href=\"#DejaVuSans-37\"/>\r\n       <use x=\"147.412109\" xlink:href=\"#DejaVuSans-35\"/>\r\n      </g>\r\n     </g>\r\n    </g>\r\n    <g id=\"xtick_3\">\r\n     <g id=\"line2d_3\">\r\n      <g>\r\n       <use style=\"stroke:#000000;stroke-width:0.8;\" x=\"190.074632\" xlink:href=\"#mc179036288\" y=\"387.72\"/>\r\n      </g>\r\n     </g>\r\n     <g id=\"text_3\">\r\n      <!-- −50 -->\r\n      <g transform=\"translate(179.522288 402.318437)scale(0.1 -0.1)\">\r\n       <use xlink:href=\"#DejaVuSans-2212\"/>\r\n       <use x=\"83.789062\" xlink:href=\"#DejaVuSans-35\"/>\r\n       <use x=\"147.412109\" xlink:href=\"#DejaVuSans-30\"/>\r\n      </g>\r\n     </g>\r\n    </g>\r\n    <g id=\"xtick_4\">\r\n     <g id=\"line2d_4\">\r\n      <g>\r\n       <use style=\"stroke:#000000;stroke-width:0.8;\" x=\"254.777786\" xlink:href=\"#mc179036288\" y=\"387.72\"/>\r\n      </g>\r\n     </g>\r\n     <g id=\"text_4\">\r\n      <!-- −25 -->\r\n      <g transform=\"translate(244.225442 402.318437)scale(0.1 -0.1)\">\r\n       <defs>\r\n        <path d=\"M 1228 531 \r\nL 3431 531 \r\nL 3431 0 \r\nL 469 0 \r\nL 469 531 \r\nQ 828 903 1448 1529 \r\nQ 2069 2156 2228 2338 \r\nQ 2531 2678 2651 2914 \r\nQ 2772 3150 2772 3378 \r\nQ 2772 3750 2511 3984 \r\nQ 2250 4219 1831 4219 \r\nQ 1534 4219 1204 4116 \r\nQ 875 4013 500 3803 \r\nL 500 4441 \r\nQ 881 4594 1212 4672 \r\nQ 1544 4750 1819 4750 \r\nQ 2544 4750 2975 4387 \r\nQ 3406 4025 3406 3419 \r\nQ 3406 3131 3298 2873 \r\nQ 3191 2616 2906 2266 \r\nQ 2828 2175 2409 1742 \r\nQ 1991 1309 1228 531 \r\nz\r\n\" id=\"DejaVuSans-32\" transform=\"scale(0.015625)\"/>\r\n       </defs>\r\n       <use xlink:href=\"#DejaVuSans-2212\"/>\r\n       <use x=\"83.789062\" xlink:href=\"#DejaVuSans-32\"/>\r\n       <use x=\"147.412109\" xlink:href=\"#DejaVuSans-35\"/>\r\n      </g>\r\n     </g>\r\n    </g>\r\n    <g id=\"xtick_5\">\r\n     <g id=\"line2d_5\">\r\n      <g>\r\n       <use style=\"stroke:#000000;stroke-width:0.8;\" x=\"319.48094\" xlink:href=\"#mc179036288\" y=\"387.72\"/>\r\n      </g>\r\n     </g>\r\n     <g id=\"text_5\">\r\n      <!-- 0 -->\r\n      <g transform=\"translate(316.29969 402.318437)scale(0.1 -0.1)\">\r\n       <use xlink:href=\"#DejaVuSans-30\"/>\r\n      </g>\r\n     </g>\r\n    </g>\r\n    <g id=\"xtick_6\">\r\n     <g id=\"line2d_6\">\r\n      <g>\r\n       <use style=\"stroke:#000000;stroke-width:0.8;\" x=\"384.184094\" xlink:href=\"#mc179036288\" y=\"387.72\"/>\r\n      </g>\r\n     </g>\r\n     <g id=\"text_6\">\r\n      <!-- 25 -->\r\n      <g transform=\"translate(377.821594 402.318437)scale(0.1 -0.1)\">\r\n       <use xlink:href=\"#DejaVuSans-32\"/>\r\n       <use x=\"63.623047\" xlink:href=\"#DejaVuSans-35\"/>\r\n      </g>\r\n     </g>\r\n    </g>\r\n    <g id=\"xtick_7\">\r\n     <g id=\"line2d_7\">\r\n      <g>\r\n       <use style=\"stroke:#000000;stroke-width:0.8;\" x=\"448.887248\" xlink:href=\"#mc179036288\" y=\"387.72\"/>\r\n      </g>\r\n     </g>\r\n     <g id=\"text_7\">\r\n      <!-- 50 -->\r\n      <g transform=\"translate(442.524748 402.318437)scale(0.1 -0.1)\">\r\n       <use xlink:href=\"#DejaVuSans-35\"/>\r\n       <use x=\"63.623047\" xlink:href=\"#DejaVuSans-30\"/>\r\n      </g>\r\n     </g>\r\n    </g>\r\n    <g id=\"xtick_8\">\r\n     <g id=\"line2d_8\">\r\n      <g>\r\n       <use style=\"stroke:#000000;stroke-width:0.8;\" x=\"513.590402\" xlink:href=\"#mc179036288\" y=\"387.72\"/>\r\n      </g>\r\n     </g>\r\n     <g id=\"text_8\">\r\n      <!-- 75 -->\r\n      <g transform=\"translate(507.227902 402.318437)scale(0.1 -0.1)\">\r\n       <use xlink:href=\"#DejaVuSans-37\"/>\r\n       <use x=\"63.623047\" xlink:href=\"#DejaVuSans-35\"/>\r\n      </g>\r\n     </g>\r\n    </g>\r\n    <g id=\"xtick_9\">\r\n     <g id=\"line2d_9\">\r\n      <g>\r\n       <use style=\"stroke:#000000;stroke-width:0.8;\" x=\"578.293556\" xlink:href=\"#mc179036288\" y=\"387.72\"/>\r\n      </g>\r\n     </g>\r\n     <g id=\"text_9\">\r\n      <!-- 100 -->\r\n      <g transform=\"translate(568.749806 402.318437)scale(0.1 -0.1)\">\r\n       <use xlink:href=\"#DejaVuSans-31\"/>\r\n       <use x=\"63.623047\" xlink:href=\"#DejaVuSans-30\"/>\r\n       <use x=\"127.246094\" xlink:href=\"#DejaVuSans-30\"/>\r\n      </g>\r\n     </g>\r\n    </g>\r\n   </g>\r\n   <g id=\"matplotlib.axis_2\">\r\n    <g id=\"ytick_1\">\r\n     <g id=\"line2d_10\">\r\n      <defs>\r\n       <path d=\"M 0 0 \r\nL -3.5 0 \r\n\" id=\"m3bfa2c57ab\" style=\"stroke:#000000;stroke-width:0.8;\"/>\r\n      </defs>\r\n      <g>\r\n       <use style=\"stroke:#000000;stroke-width:0.8;\" x=\"35.304688\" xlink:href=\"#m3bfa2c57ab\" y=\"343.94961\"/>\r\n      </g>\r\n     </g>\r\n     <g id=\"text_10\">\r\n      <!-- −75 -->\r\n      <g transform=\"translate(7.2 347.748829)scale(0.1 -0.1)\">\r\n       <use xlink:href=\"#DejaVuSans-2212\"/>\r\n       <use x=\"83.789062\" xlink:href=\"#DejaVuSans-37\"/>\r\n       <use x=\"147.412109\" xlink:href=\"#DejaVuSans-35\"/>\r\n      </g>\r\n     </g>\r\n    </g>\r\n    <g id=\"ytick_2\">\r\n     <g id=\"line2d_11\">\r\n      <g>\r\n       <use style=\"stroke:#000000;stroke-width:0.8;\" x=\"35.304688\" xlink:href=\"#m3bfa2c57ab\" y=\"299.826234\"/>\r\n      </g>\r\n     </g>\r\n     <g id=\"text_11\">\r\n      <!-- −50 -->\r\n      <g transform=\"translate(7.2 303.625453)scale(0.1 -0.1)\">\r\n       <use xlink:href=\"#DejaVuSans-2212\"/>\r\n       <use x=\"83.789062\" xlink:href=\"#DejaVuSans-35\"/>\r\n       <use x=\"147.412109\" xlink:href=\"#DejaVuSans-30\"/>\r\n      </g>\r\n     </g>\r\n    </g>\r\n    <g id=\"ytick_3\">\r\n     <g id=\"line2d_12\">\r\n      <g>\r\n       <use style=\"stroke:#000000;stroke-width:0.8;\" x=\"35.304688\" xlink:href=\"#m3bfa2c57ab\" y=\"255.702857\"/>\r\n      </g>\r\n     </g>\r\n     <g id=\"text_12\">\r\n      <!-- −25 -->\r\n      <g transform=\"translate(7.2 259.502076)scale(0.1 -0.1)\">\r\n       <use xlink:href=\"#DejaVuSans-2212\"/>\r\n       <use x=\"83.789062\" xlink:href=\"#DejaVuSans-32\"/>\r\n       <use x=\"147.412109\" xlink:href=\"#DejaVuSans-35\"/>\r\n      </g>\r\n     </g>\r\n    </g>\r\n    <g id=\"ytick_4\">\r\n     <g id=\"line2d_13\">\r\n      <g>\r\n       <use style=\"stroke:#000000;stroke-width:0.8;\" x=\"35.304688\" xlink:href=\"#m3bfa2c57ab\" y=\"211.579481\"/>\r\n      </g>\r\n     </g>\r\n     <g id=\"text_13\">\r\n      <!-- 0 -->\r\n      <g transform=\"translate(21.942187 215.378699)scale(0.1 -0.1)\">\r\n       <use xlink:href=\"#DejaVuSans-30\"/>\r\n      </g>\r\n     </g>\r\n    </g>\r\n    <g id=\"ytick_5\">\r\n     <g id=\"line2d_14\">\r\n      <g>\r\n       <use style=\"stroke:#000000;stroke-width:0.8;\" x=\"35.304688\" xlink:href=\"#m3bfa2c57ab\" y=\"167.456104\"/>\r\n      </g>\r\n     </g>\r\n     <g id=\"text_14\">\r\n      <!-- 25 -->\r\n      <g transform=\"translate(15.579687 171.255323)scale(0.1 -0.1)\">\r\n       <use xlink:href=\"#DejaVuSans-32\"/>\r\n       <use x=\"63.623047\" xlink:href=\"#DejaVuSans-35\"/>\r\n      </g>\r\n     </g>\r\n    </g>\r\n    <g id=\"ytick_6\">\r\n     <g id=\"line2d_15\">\r\n      <g>\r\n       <use style=\"stroke:#000000;stroke-width:0.8;\" x=\"35.304688\" xlink:href=\"#m3bfa2c57ab\" y=\"123.332727\"/>\r\n      </g>\r\n     </g>\r\n     <g id=\"text_15\">\r\n      <!-- 50 -->\r\n      <g transform=\"translate(15.579687 127.131946)scale(0.1 -0.1)\">\r\n       <use xlink:href=\"#DejaVuSans-35\"/>\r\n       <use x=\"63.623047\" xlink:href=\"#DejaVuSans-30\"/>\r\n      </g>\r\n     </g>\r\n    </g>\r\n    <g id=\"ytick_7\">\r\n     <g id=\"line2d_16\">\r\n      <g>\r\n       <use style=\"stroke:#000000;stroke-width:0.8;\" x=\"35.304688\" xlink:href=\"#m3bfa2c57ab\" y=\"79.209351\"/>\r\n      </g>\r\n     </g>\r\n     <g id=\"text_16\">\r\n      <!-- 75 -->\r\n      <g transform=\"translate(15.579687 83.008569)scale(0.1 -0.1)\">\r\n       <use xlink:href=\"#DejaVuSans-37\"/>\r\n       <use x=\"63.623047\" xlink:href=\"#DejaVuSans-35\"/>\r\n      </g>\r\n     </g>\r\n    </g>\r\n    <g id=\"ytick_8\">\r\n     <g id=\"line2d_17\">\r\n      <g>\r\n       <use style=\"stroke:#000000;stroke-width:0.8;\" x=\"35.304688\" xlink:href=\"#m3bfa2c57ab\" y=\"35.085974\"/>\r\n      </g>\r\n     </g>\r\n     <g id=\"text_17\">\r\n      <!-- 100 -->\r\n      <g transform=\"translate(9.217187 38.885193)scale(0.1 -0.1)\">\r\n       <use xlink:href=\"#DejaVuSans-31\"/>\r\n       <use x=\"63.623047\" xlink:href=\"#DejaVuSans-30\"/>\r\n       <use x=\"127.246094\" xlink:href=\"#DejaVuSans-30\"/>\r\n      </g>\r\n     </g>\r\n    </g>\r\n   </g>\r\n   <g id=\"patch_3\">\r\n    <path d=\"M 35.304688 387.72 \r\nL 35.304688 7.2 \r\n\" style=\"fill:none;stroke:#000000;stroke-linecap:square;stroke-linejoin:miter;stroke-width:0.8;\"/>\r\n   </g>\r\n   <g id=\"patch_4\">\r\n    <path d=\"M 593.304688 387.72 \r\nL 593.304688 7.2 \r\n\" style=\"fill:none;stroke:#000000;stroke-linecap:square;stroke-linejoin:miter;stroke-width:0.8;\"/>\r\n   </g>\r\n   <g id=\"patch_5\">\r\n    <path d=\"M 35.304688 387.72 \r\nL 593.304688 387.72 \r\n\" style=\"fill:none;stroke:#000000;stroke-linecap:square;stroke-linejoin:miter;stroke-width:0.8;\"/>\r\n   </g>\r\n   <g id=\"patch_6\">\r\n    <path d=\"M 35.304688 7.2 \r\nL 593.304688 7.2 \r\n\" style=\"fill:none;stroke:#000000;stroke-linecap:square;stroke-linejoin:miter;stroke-width:0.8;\"/>\r\n   </g>\r\n   <g id=\"legend_1\">\r\n    <g id=\"patch_7\">\r\n     <path d=\"M 42.304688 59.234375 \r\nL 140.810938 59.234375 \r\nQ 142.810938 59.234375 142.810938 57.234375 \r\nL 142.810938 14.2 \r\nQ 142.810938 12.2 140.810938 12.2 \r\nL 42.304688 12.2 \r\nQ 40.304688 12.2 40.304688 14.2 \r\nL 40.304688 57.234375 \r\nQ 40.304688 59.234375 42.304688 59.234375 \r\nz\r\n\" style=\"fill:#ffffff;opacity:0.8;stroke:#cccccc;stroke-linejoin:miter;\"/>\r\n    </g>\r\n    <g id=\"PathCollection_4\">\r\n     <g>\r\n      <use style=\"fill:#0000ff;stroke:#0000ff;\" x=\"54.304688\" xlink:href=\"#m76c02c2554\" y=\"21.173437\"/>\r\n     </g>\r\n    </g>\r\n    <g id=\"text_18\">\r\n     <!-- Training Data -->\r\n     <g transform=\"translate(72.304688 23.798437)scale(0.1 -0.1)\">\r\n      <defs>\r\n       <path d=\"M -19 4666 \r\nL 3928 4666 \r\nL 3928 4134 \r\nL 2272 4134 \r\nL 2272 0 \r\nL 1638 0 \r\nL 1638 4134 \r\nL -19 4134 \r\nL -19 4666 \r\nz\r\n\" id=\"DejaVuSans-54\" transform=\"scale(0.015625)\"/>\r\n       <path d=\"M 2631 2963 \r\nQ 2534 3019 2420 3045 \r\nQ 2306 3072 2169 3072 \r\nQ 1681 3072 1420 2755 \r\nQ 1159 2438 1159 1844 \r\nL 1159 0 \r\nL 581 0 \r\nL 581 3500 \r\nL 1159 3500 \r\nL 1159 2956 \r\nQ 1341 3275 1631 3429 \r\nQ 1922 3584 2338 3584 \r\nQ 2397 3584 2469 3576 \r\nQ 2541 3569 2628 3553 \r\nL 2631 2963 \r\nz\r\n\" id=\"DejaVuSans-72\" transform=\"scale(0.015625)\"/>\r\n       <path d=\"M 2194 1759 \r\nQ 1497 1759 1228 1600 \r\nQ 959 1441 959 1056 \r\nQ 959 750 1161 570 \r\nQ 1363 391 1709 391 \r\nQ 2188 391 2477 730 \r\nQ 2766 1069 2766 1631 \r\nL 2766 1759 \r\nL 2194 1759 \r\nz\r\nM 3341 1997 \r\nL 3341 0 \r\nL 2766 0 \r\nL 2766 531 \r\nQ 2569 213 2275 61 \r\nQ 1981 -91 1556 -91 \r\nQ 1019 -91 701 211 \r\nQ 384 513 384 1019 \r\nQ 384 1609 779 1909 \r\nQ 1175 2209 1959 2209 \r\nL 2766 2209 \r\nL 2766 2266 \r\nQ 2766 2663 2505 2880 \r\nQ 2244 3097 1772 3097 \r\nQ 1472 3097 1187 3025 \r\nQ 903 2953 641 2809 \r\nL 641 3341 \r\nQ 956 3463 1253 3523 \r\nQ 1550 3584 1831 3584 \r\nQ 2591 3584 2966 3190 \r\nQ 3341 2797 3341 1997 \r\nz\r\n\" id=\"DejaVuSans-61\" transform=\"scale(0.015625)\"/>\r\n       <path d=\"M 603 3500 \r\nL 1178 3500 \r\nL 1178 0 \r\nL 603 0 \r\nL 603 3500 \r\nz\r\nM 603 4863 \r\nL 1178 4863 \r\nL 1178 4134 \r\nL 603 4134 \r\nL 603 4863 \r\nz\r\n\" id=\"DejaVuSans-69\" transform=\"scale(0.015625)\"/>\r\n       <path d=\"M 3513 2113 \r\nL 3513 0 \r\nL 2938 0 \r\nL 2938 2094 \r\nQ 2938 2591 2744 2837 \r\nQ 2550 3084 2163 3084 \r\nQ 1697 3084 1428 2787 \r\nQ 1159 2491 1159 1978 \r\nL 1159 0 \r\nL 581 0 \r\nL 581 3500 \r\nL 1159 3500 \r\nL 1159 2956 \r\nQ 1366 3272 1645 3428 \r\nQ 1925 3584 2291 3584 \r\nQ 2894 3584 3203 3211 \r\nQ 3513 2838 3513 2113 \r\nz\r\n\" id=\"DejaVuSans-6e\" transform=\"scale(0.015625)\"/>\r\n       <path d=\"M 2906 1791 \r\nQ 2906 2416 2648 2759 \r\nQ 2391 3103 1925 3103 \r\nQ 1463 3103 1205 2759 \r\nQ 947 2416 947 1791 \r\nQ 947 1169 1205 825 \r\nQ 1463 481 1925 481 \r\nQ 2391 481 2648 825 \r\nQ 2906 1169 2906 1791 \r\nz\r\nM 3481 434 \r\nQ 3481 -459 3084 -895 \r\nQ 2688 -1331 1869 -1331 \r\nQ 1566 -1331 1297 -1286 \r\nQ 1028 -1241 775 -1147 \r\nL 775 -588 \r\nQ 1028 -725 1275 -790 \r\nQ 1522 -856 1778 -856 \r\nQ 2344 -856 2625 -561 \r\nQ 2906 -266 2906 331 \r\nL 2906 616 \r\nQ 2728 306 2450 153 \r\nQ 2172 0 1784 0 \r\nQ 1141 0 747 490 \r\nQ 353 981 353 1791 \r\nQ 353 2603 747 3093 \r\nQ 1141 3584 1784 3584 \r\nQ 2172 3584 2450 3431 \r\nQ 2728 3278 2906 2969 \r\nL 2906 3500 \r\nL 3481 3500 \r\nL 3481 434 \r\nz\r\n\" id=\"DejaVuSans-67\" transform=\"scale(0.015625)\"/>\r\n       <path id=\"DejaVuSans-20\" transform=\"scale(0.015625)\"/>\r\n       <path d=\"M 1259 4147 \r\nL 1259 519 \r\nL 2022 519 \r\nQ 2988 519 3436 956 \r\nQ 3884 1394 3884 2338 \r\nQ 3884 3275 3436 3711 \r\nQ 2988 4147 2022 4147 \r\nL 1259 4147 \r\nz\r\nM 628 4666 \r\nL 1925 4666 \r\nQ 3281 4666 3915 4102 \r\nQ 4550 3538 4550 2338 \r\nQ 4550 1131 3912 565 \r\nQ 3275 0 1925 0 \r\nL 628 0 \r\nL 628 4666 \r\nz\r\n\" id=\"DejaVuSans-44\" transform=\"scale(0.015625)\"/>\r\n       <path d=\"M 1172 4494 \r\nL 1172 3500 \r\nL 2356 3500 \r\nL 2356 3053 \r\nL 1172 3053 \r\nL 1172 1153 \r\nQ 1172 725 1289 603 \r\nQ 1406 481 1766 481 \r\nL 2356 481 \r\nL 2356 0 \r\nL 1766 0 \r\nQ 1100 0 847 248 \r\nQ 594 497 594 1153 \r\nL 594 3053 \r\nL 172 3053 \r\nL 172 3500 \r\nL 594 3500 \r\nL 594 4494 \r\nL 1172 4494 \r\nz\r\n\" id=\"DejaVuSans-74\" transform=\"scale(0.015625)\"/>\r\n      </defs>\r\n      <use xlink:href=\"#DejaVuSans-54\"/>\r\n      <use x=\"46.333984\" xlink:href=\"#DejaVuSans-72\"/>\r\n      <use x=\"87.447266\" xlink:href=\"#DejaVuSans-61\"/>\r\n      <use x=\"148.726562\" xlink:href=\"#DejaVuSans-69\"/>\r\n      <use x=\"176.509766\" xlink:href=\"#DejaVuSans-6e\"/>\r\n      <use x=\"239.888672\" xlink:href=\"#DejaVuSans-69\"/>\r\n      <use x=\"267.671875\" xlink:href=\"#DejaVuSans-6e\"/>\r\n      <use x=\"331.050781\" xlink:href=\"#DejaVuSans-67\"/>\r\n      <use x=\"394.527344\" xlink:href=\"#DejaVuSans-20\"/>\r\n      <use x=\"426.314453\" xlink:href=\"#DejaVuSans-44\"/>\r\n      <use x=\"503.316406\" xlink:href=\"#DejaVuSans-61\"/>\r\n      <use x=\"564.595703\" xlink:href=\"#DejaVuSans-74\"/>\r\n      <use x=\"603.804688\" xlink:href=\"#DejaVuSans-61\"/>\r\n     </g>\r\n    </g>\r\n    <g id=\"PathCollection_5\">\r\n     <g>\r\n      <use style=\"fill:#008000;stroke:#008000;\" x=\"54.304688\" xlink:href=\"#m257b13b630\" y=\"35.851562\"/>\r\n     </g>\r\n    </g>\r\n    <g id=\"text_19\">\r\n     <!-- Testing Data -->\r\n     <g transform=\"translate(72.304688 38.476562)scale(0.1 -0.1)\">\r\n      <defs>\r\n       <path d=\"M 3597 1894 \r\nL 3597 1613 \r\nL 953 1613 \r\nQ 991 1019 1311 708 \r\nQ 1631 397 2203 397 \r\nQ 2534 397 2845 478 \r\nQ 3156 559 3463 722 \r\nL 3463 178 \r\nQ 3153 47 2828 -22 \r\nQ 2503 -91 2169 -91 \r\nQ 1331 -91 842 396 \r\nQ 353 884 353 1716 \r\nQ 353 2575 817 3079 \r\nQ 1281 3584 2069 3584 \r\nQ 2775 3584 3186 3129 \r\nQ 3597 2675 3597 1894 \r\nz\r\nM 3022 2063 \r\nQ 3016 2534 2758 2815 \r\nQ 2500 3097 2075 3097 \r\nQ 1594 3097 1305 2825 \r\nQ 1016 2553 972 2059 \r\nL 3022 2063 \r\nz\r\n\" id=\"DejaVuSans-65\" transform=\"scale(0.015625)\"/>\r\n       <path d=\"M 2834 3397 \r\nL 2834 2853 \r\nQ 2591 2978 2328 3040 \r\nQ 2066 3103 1784 3103 \r\nQ 1356 3103 1142 2972 \r\nQ 928 2841 928 2578 \r\nQ 928 2378 1081 2264 \r\nQ 1234 2150 1697 2047 \r\nL 1894 2003 \r\nQ 2506 1872 2764 1633 \r\nQ 3022 1394 3022 966 \r\nQ 3022 478 2636 193 \r\nQ 2250 -91 1575 -91 \r\nQ 1294 -91 989 -36 \r\nQ 684 19 347 128 \r\nL 347 722 \r\nQ 666 556 975 473 \r\nQ 1284 391 1588 391 \r\nQ 1994 391 2212 530 \r\nQ 2431 669 2431 922 \r\nQ 2431 1156 2273 1281 \r\nQ 2116 1406 1581 1522 \r\nL 1381 1569 \r\nQ 847 1681 609 1914 \r\nQ 372 2147 372 2553 \r\nQ 372 3047 722 3315 \r\nQ 1072 3584 1716 3584 \r\nQ 2034 3584 2315 3537 \r\nQ 2597 3491 2834 3397 \r\nz\r\n\" id=\"DejaVuSans-73\" transform=\"scale(0.015625)\"/>\r\n      </defs>\r\n      <use xlink:href=\"#DejaVuSans-54\"/>\r\n      <use x=\"44.083984\" xlink:href=\"#DejaVuSans-65\"/>\r\n      <use x=\"105.607422\" xlink:href=\"#DejaVuSans-73\"/>\r\n      <use x=\"157.707031\" xlink:href=\"#DejaVuSans-74\"/>\r\n      <use x=\"196.916016\" xlink:href=\"#DejaVuSans-69\"/>\r\n      <use x=\"224.699219\" xlink:href=\"#DejaVuSans-6e\"/>\r\n      <use x=\"288.078125\" xlink:href=\"#DejaVuSans-67\"/>\r\n      <use x=\"351.554688\" xlink:href=\"#DejaVuSans-20\"/>\r\n      <use x=\"383.341797\" xlink:href=\"#DejaVuSans-44\"/>\r\n      <use x=\"460.34375\" xlink:href=\"#DejaVuSans-61\"/>\r\n      <use x=\"521.623047\" xlink:href=\"#DejaVuSans-74\"/>\r\n      <use x=\"560.832031\" xlink:href=\"#DejaVuSans-61\"/>\r\n     </g>\r\n    </g>\r\n    <g id=\"PathCollection_6\">\r\n     <g>\r\n      <use style=\"fill:#ff0000;stroke:#ff0000;\" x=\"54.304688\" xlink:href=\"#m5fb33cad47\" y=\"50.529687\"/>\r\n     </g>\r\n    </g>\r\n    <g id=\"text_20\">\r\n     <!-- Predictions -->\r\n     <g transform=\"translate(72.304688 53.154687)scale(0.1 -0.1)\">\r\n      <defs>\r\n       <path d=\"M 1259 4147 \r\nL 1259 2394 \r\nL 2053 2394 \r\nQ 2494 2394 2734 2622 \r\nQ 2975 2850 2975 3272 \r\nQ 2975 3691 2734 3919 \r\nQ 2494 4147 2053 4147 \r\nL 1259 4147 \r\nz\r\nM 628 4666 \r\nL 2053 4666 \r\nQ 2838 4666 3239 4311 \r\nQ 3641 3956 3641 3272 \r\nQ 3641 2581 3239 2228 \r\nQ 2838 1875 2053 1875 \r\nL 1259 1875 \r\nL 1259 0 \r\nL 628 0 \r\nL 628 4666 \r\nz\r\n\" id=\"DejaVuSans-50\" transform=\"scale(0.015625)\"/>\r\n       <path d=\"M 2906 2969 \r\nL 2906 4863 \r\nL 3481 4863 \r\nL 3481 0 \r\nL 2906 0 \r\nL 2906 525 \r\nQ 2725 213 2448 61 \r\nQ 2172 -91 1784 -91 \r\nQ 1150 -91 751 415 \r\nQ 353 922 353 1747 \r\nQ 353 2572 751 3078 \r\nQ 1150 3584 1784 3584 \r\nQ 2172 3584 2448 3432 \r\nQ 2725 3281 2906 2969 \r\nz\r\nM 947 1747 \r\nQ 947 1113 1208 752 \r\nQ 1469 391 1925 391 \r\nQ 2381 391 2643 752 \r\nQ 2906 1113 2906 1747 \r\nQ 2906 2381 2643 2742 \r\nQ 2381 3103 1925 3103 \r\nQ 1469 3103 1208 2742 \r\nQ 947 2381 947 1747 \r\nz\r\n\" id=\"DejaVuSans-64\" transform=\"scale(0.015625)\"/>\r\n       <path d=\"M 3122 3366 \r\nL 3122 2828 \r\nQ 2878 2963 2633 3030 \r\nQ 2388 3097 2138 3097 \r\nQ 1578 3097 1268 2742 \r\nQ 959 2388 959 1747 \r\nQ 959 1106 1268 751 \r\nQ 1578 397 2138 397 \r\nQ 2388 397 2633 464 \r\nQ 2878 531 3122 666 \r\nL 3122 134 \r\nQ 2881 22 2623 -34 \r\nQ 2366 -91 2075 -91 \r\nQ 1284 -91 818 406 \r\nQ 353 903 353 1747 \r\nQ 353 2603 823 3093 \r\nQ 1294 3584 2113 3584 \r\nQ 2378 3584 2631 3529 \r\nQ 2884 3475 3122 3366 \r\nz\r\n\" id=\"DejaVuSans-63\" transform=\"scale(0.015625)\"/>\r\n       <path d=\"M 1959 3097 \r\nQ 1497 3097 1228 2736 \r\nQ 959 2375 959 1747 \r\nQ 959 1119 1226 758 \r\nQ 1494 397 1959 397 \r\nQ 2419 397 2687 759 \r\nQ 2956 1122 2956 1747 \r\nQ 2956 2369 2687 2733 \r\nQ 2419 3097 1959 3097 \r\nz\r\nM 1959 3584 \r\nQ 2709 3584 3137 3096 \r\nQ 3566 2609 3566 1747 \r\nQ 3566 888 3137 398 \r\nQ 2709 -91 1959 -91 \r\nQ 1206 -91 779 398 \r\nQ 353 888 353 1747 \r\nQ 353 2609 779 3096 \r\nQ 1206 3584 1959 3584 \r\nz\r\n\" id=\"DejaVuSans-6f\" transform=\"scale(0.015625)\"/>\r\n      </defs>\r\n      <use xlink:href=\"#DejaVuSans-50\"/>\r\n      <use x=\"58.552734\" xlink:href=\"#DejaVuSans-72\"/>\r\n      <use x=\"97.416016\" xlink:href=\"#DejaVuSans-65\"/>\r\n      <use x=\"158.939453\" xlink:href=\"#DejaVuSans-64\"/>\r\n      <use x=\"222.416016\" xlink:href=\"#DejaVuSans-69\"/>\r\n      <use x=\"250.199219\" xlink:href=\"#DejaVuSans-63\"/>\r\n      <use x=\"305.179688\" xlink:href=\"#DejaVuSans-74\"/>\r\n      <use x=\"344.388672\" xlink:href=\"#DejaVuSans-69\"/>\r\n      <use x=\"372.171875\" xlink:href=\"#DejaVuSans-6f\"/>\r\n      <use x=\"433.353516\" xlink:href=\"#DejaVuSans-6e\"/>\r\n      <use x=\"496.732422\" xlink:href=\"#DejaVuSans-73\"/>\r\n     </g>\r\n    </g>\r\n   </g>\r\n  </g>\r\n </g>\r\n <defs>\r\n  <clipPath id=\"pbd0453f6b4\">\r\n   <rect height=\"380.52\" width=\"558\" x=\"35.304688\" y=\"7.2\"/>\r\n  </clipPath>\r\n </defs>\r\n</svg>\r\n",
      "image/png": "[encoded data removed]"
     },
     "metadata": {
      "needs_background": "light"
     }
    }
   ],
   "source": [
    "plot_predictions(\n",
    "    train_data = X_train,\n",
    "    train_labels = y_train,\n",
    "    test_data = X_test,\n",
    "    test_labels = y_test,\n",
    "    prediction = y_predicts\n",
    ")"
   ]
  },
  {
   "cell_type": "code",
   "execution_count": 65,
   "metadata": {},
   "outputs": [
    {
     "output_type": "stream",
     "name": "stdout",
     "text": [
      "1/1 [==============================] - 0s 20ms/step - loss: 17.2724 - mae: 17.2724\n"
     ]
    },
    {
     "output_type": "execute_result",
     "data": {
      "text/plain": [
       "[17.272380828857422, 17.272380828857422]"
      ]
     },
     "metadata": {},
     "execution_count": 65
    }
   ],
   "source": [
    "model.evaluate(X_test, y_test)"
   ]
  },
  {
   "cell_type": "code",
   "execution_count": 69,
   "metadata": {},
   "outputs": [
    {
     "output_type": "execute_result",
     "data": {
      "text/plain": [
       "<tf.Tensor: shape=(10,), dtype=float32, numpy=\n",
       "array([33.228462, 29.682667, 26.136871, 22.591072, 19.04528 , 15.999585,\n",
       "       13.572214, 11.763156, 10.572418, 10.      ], dtype=float32)>"
      ]
     },
     "metadata": {},
     "execution_count": 69
    }
   ],
   "source": [
    "mae = tf.metrics.mean_absolute_error(\n",
    "    y_true = y_test,\n",
    "    y_pred = y_predicts\n",
    ")\n",
    "mae"
   ]
  },
  {
   "cell_type": "code",
   "execution_count": null,
   "metadata": {},
   "outputs": [],
   "source": []
  }
 ]
}